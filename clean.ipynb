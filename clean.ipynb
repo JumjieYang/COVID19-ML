{
 "metadata": {
  "language_info": {
   "codemirror_mode": {
    "name": "ipython",
    "version": 3
   },
   "file_extension": ".py",
   "mimetype": "text/x-python",
   "name": "python",
   "nbconvert_exporter": "python",
   "pygments_lexer": "ipython3",
   "version": "3.8.5-final"
  },
  "orig_nbformat": 2,
  "kernelspec": {
   "name": "Python 3.8.5 64-bit",
   "display_name": "Python 3.8.5 64-bit",
   "metadata": {
    "interpreter": {
     "hash": "082e9a3bcad0a290d0001e938aa60b99250c6c2ef33a923c00b70f9826caf4b7"
    }
   }
  }
 },
 "nbformat": 4,
 "nbformat_minor": 2,
 "cells": [
  {
   "cell_type": "code",
   "execution_count": 183,
   "metadata": {},
   "outputs": [],
   "source": [
    "import pandas as pd\n",
    "import numpy as np"
   ]
  },
  {
   "source": [
    "search_trend_url =\"https://raw.githubusercontent.com/google-research/open-covid-19-data/master/data/exports/search_trends_symptoms_dataset/United%20States%20of%20America/2020_US_weekly_symptoms_dataset.csv\"\n",
    "hospitalization_url =\"https://raw.githubusercontent.com/google-research/open-covid-19-data/master/data/exports/cc_by/aggregated_cc_by.csv\"\n",
    "search_trend_df = pd.read_csv(search_trend_url)\n",
    "hospitalization_df = pd.read_csv(hospitalization_url)"
   ],
   "cell_type": "code",
   "metadata": {},
   "execution_count": 184,
   "outputs": []
  },
  {
   "source": [
    "search_trend_df = search_trend_df.drop(search_trend_df.columns[[0,1,2,4,5,6]], axis=1)\n",
    "search_trend_df = search_trend_df.dropna(axis=1, how='all')\n",
    "search_trend_df = search_trend_df.rename(columns={'sub_region_1':'region_name'})\n",
    "before_drop = len(search_trend_df.columns)\n",
    "\n",
    "rows_drop = []\n",
    "for index, row in search_trend_df.iterrows():\n",
    "    if row[2:].isnull().sum()/len(row[2:]) > 0.5:\n",
    "        rows_drop.append(index)\n",
    "search_trend_df = search_trend_df.drop(rows_drop, axis=0)\n",
    "\n",
    "cols_drop = []\n",
    "for col in search_trend_df.columns.values:\n",
    "    if search_trend_df[col].isnull().sum()/ len(search_trend_df) > .7:\n",
    "        cols_drop.append(col)\n",
    "search_trend_df = search_trend_df.drop(cols_drop, axis=1)\n",
    "\n",
    "print(\"Dropped \" + str(before_drop-len(search_trend_df.columns)) + \" symptoms\")"
   ],
   "cell_type": "code",
   "metadata": {},
   "execution_count": 185,
   "outputs": [
    {
     "output_type": "stream",
     "name": "stdout",
     "text": [
      "Dropped 7 symptoms\n"
     ]
    }
   ]
  },
  {
   "source": [
    "hospitalization_df = hospitalization_df[['open_covid_region_code','region_name','date','hospitalized_new']]\n",
    "hospitalization_df = hospitalization_df[hospitalization_df['open_covid_region_code'].str.contains('^US-')]\n",
    "hospitalization_df = hospitalization_df.drop(hospitalization_df.columns[[0]], axis=1)\n",
    "regions = hospitalization_df.region_name.unique()\n",
    "\n",
    "for region in regions:\n",
    "    region_df = hospitalization_df[hospitalization_df['region_name'] == region]\n",
    "    if (region_df['hospitalized_new'] == 0).all():\n",
    "        hospitalization_df = hospitalization_df.drop(hospitalization_df[hospitalization_df.region_name == region].index, axis=0) "
   ],
   "cell_type": "code",
   "metadata": {
    "tags": []
   },
   "execution_count": 186,
   "outputs": []
  },
  {
   "cell_type": "code",
   "execution_count": 187,
   "metadata": {},
   "outputs": [
    {
     "output_type": "stream",
     "name": "stdout",
     "text": [
      "6\n"
     ]
    }
   ],
   "source": [
    "hospitalization_df['date'] = pd.to_datetime(hospitalization_df['date'], format='%Y-%m-%d')\n",
    "hospitalization_df = hospitalization_df.groupby(['region_name']).resample('W', on='date',loffset='1d').sum()\n",
    "hospitalization_df = hospitalization_df.reset_index()\n",
    "\n",
    "search_trend_df['date'] = pd.to_datetime(search_trend_df['date'], format='%Y-%m-%d')\n",
    "result_df = search_trend_df.merge(hospitalization_df, on=['region_name', 'date'])\n",
    "print(len(result_df.region_name.unique()))\n",
    "result_df.to_csv('result.csv', index=False)"
   ]
  }
 ]
}