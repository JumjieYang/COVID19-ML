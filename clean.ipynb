{
 "metadata": {
  "language_info": {
   "codemirror_mode": {
    "name": "ipython",
    "version": 3
   },
   "file_extension": ".py",
   "mimetype": "text/x-python",
   "name": "python",
   "nbconvert_exporter": "python",
   "pygments_lexer": "ipython3",
   "version": "3.8.5-final"
  },
  "orig_nbformat": 2,
  "kernelspec": {
   "name": "Python 3.8.5 64-bit",
   "display_name": "Python 3.8.5 64-bit",
   "metadata": {
    "interpreter": {
     "hash": "082e9a3bcad0a290d0001e938aa60b99250c6c2ef33a923c00b70f9826caf4b7"
    }
   }
  }
 },
 "nbformat": 4,
 "nbformat_minor": 2,
 "cells": [
  {
   "cell_type": "code",
   "execution_count": 124,
   "metadata": {},
   "outputs": [],
   "source": [
    "import pandas as pd\n",
    "import numpy as np"
   ]
  },
  {
   "source": [
    "search_trend_url =\"https://raw.githubusercontent.com/google-research/open-covid-19-data/master/data/exports/search_trends_symptoms_dataset/United%20States%20of%20America/2020_US_weekly_symptoms_dataset.csv\"\n",
    "hospitalization_url =\"https://raw.githubusercontent.com/google-research/open-covid-19-data/master/data/exports/cc_by/aggregated_cc_by.csv\"\n",
    "search_trend_df = pd.read_csv(search_trend_url)\n",
    "hospitalization_df = pd.read_csv(hospitalization_url)\n",
    "print(search_trend_df)"
   ],
   "cell_type": "code",
   "metadata": {},
   "execution_count": 125,
   "outputs": [
    {
     "output_type": "stream",
     "name": "stdout",
     "text": [
      "    open_covid_region_code country_region_code country_region sub_region_1  \\\n0                    US-AK                  US  United States       Alaska   \n1                    US-AK                  US  United States       Alaska   \n2                    US-AK                  US  United States       Alaska   \n3                    US-AK                  US  United States       Alaska   \n4                    US-AK                  US  United States       Alaska   \n..                     ...                 ...            ...          ...   \n619                  US-WY                  US  United States      Wyoming   \n620                  US-WY                  US  United States      Wyoming   \n621                  US-WY                  US  United States      Wyoming   \n622                  US-WY                  US  United States      Wyoming   \n623                  US-WY                  US  United States      Wyoming   \n\n    sub_region_1_code  sub_region_2  sub_region_2_code        date  \\\n0               US-AK           NaN                NaN  2020-01-06   \n1               US-AK           NaN                NaN  2020-01-13   \n2               US-AK           NaN                NaN  2020-01-20   \n3               US-AK           NaN                NaN  2020-01-27   \n4               US-AK           NaN                NaN  2020-02-03   \n..                ...           ...                ...         ...   \n619             US-WY           NaN                NaN  2020-08-31   \n620             US-WY           NaN                NaN  2020-09-07   \n621             US-WY           NaN                NaN  2020-09-14   \n622             US-WY           NaN                NaN  2020-09-21   \n623             US-WY           NaN                NaN  2020-09-28   \n\n     symptom:Abdominal obesity  symptom:Abdominal pain  ...  symptom:Wart  \\\n0                          NaN                     NaN  ...           NaN   \n1                          NaN                     NaN  ...           NaN   \n2                          NaN                     NaN  ...           NaN   \n3                          NaN                     NaN  ...           NaN   \n4                          NaN                     NaN  ...           NaN   \n..                         ...                     ...  ...           ...   \n619                        NaN                     NaN  ...           NaN   \n620                        NaN                     NaN  ...           NaN   \n621                        NaN                     NaN  ...           NaN   \n622                        NaN                     NaN  ...           NaN   \n623                        NaN                     NaN  ...           NaN   \n\n     symptom:Water retention  symptom:Weakness  symptom:Weight gain  \\\n0                        NaN               NaN                  NaN   \n1                        NaN               NaN                  NaN   \n2                        NaN               NaN                  NaN   \n3                        NaN               NaN                  NaN   \n4                        NaN               NaN                  NaN   \n..                       ...               ...                  ...   \n619                      NaN               NaN                  NaN   \n620                      NaN               NaN                  NaN   \n621                      NaN               NaN                  NaN   \n622                      NaN               NaN                  NaN   \n623                      NaN               NaN                  NaN   \n\n     symptom:Wheeze  symptom:Xeroderma  symptom:Xerostomia  symptom:Yawn  \\\n0               NaN                NaN                 NaN         14.28   \n1               NaN                NaN                 NaN         16.26   \n2               NaN                NaN                 NaN         17.48   \n3               NaN                NaN                 NaN         10.93   \n4               NaN                NaN                 NaN         18.93   \n..              ...                ...                 ...           ...   \n619             NaN                NaN                 NaN          3.63   \n620             NaN                NaN                 NaN          4.02   \n621             NaN                NaN                 NaN          4.37   \n622             NaN                NaN                 NaN          4.76   \n623             NaN                NaN                 NaN          5.92   \n\n     symptom:hyperhidrosis  symptom:pancreatitis  \n0                      NaN                   NaN  \n1                      NaN                   NaN  \n2                      NaN                   NaN  \n3                      NaN                   NaN  \n4                      NaN                   NaN  \n..                     ...                   ...  \n619                    NaN                   NaN  \n620                    NaN                   NaN  \n621                    NaN                   NaN  \n622                    NaN                   NaN  \n623                    NaN                   NaN  \n\n[624 rows x 430 columns]\n"
     ]
    }
   ]
  },
  {
   "source": [
    "search_trend_df = search_trend_df.drop(search_trend_df.columns[[0,1,2,4,5,6]], axis=1)\n",
    "search_trend_df = search_trend_df.dropna(axis=1, how='all')\n",
    "search_trend_df = search_trend_df.rename(columns={'sub_region_1':'region_name'})"
   ],
   "cell_type": "code",
   "metadata": {},
   "execution_count": 126,
   "outputs": []
  },
  {
   "source": [
    "hospitalization_df = hospitalization_df[['open_covid_region_code','region_name','date','hospitalized_new']]\n",
    "hospitalization_df = hospitalization_df[hospitalization_df['open_covid_region_code'].str.contains('^US-')]\n",
    "hospitalization_df = hospitalization_df.drop(hospitalization_df.columns[[0]], axis=1)\n",
    "regions = hospitalization_df.region_name.unique()\n",
    "\n",
    "for region in regions:\n",
    "    region_df = hospitalization_df[hospitalization_df['region_name'] == region]\n",
    "    if (region_df['hospitalized_new'] == 0).all():\n",
    "        hospitalization_df = hospitalization_df.drop(hospitalization_df[hospitalization_df.region_name == region].index, axis=0) "
   ],
   "cell_type": "code",
   "metadata": {
    "tags": []
   },
   "execution_count": 127,
   "outputs": []
  },
  {
   "cell_type": "code",
   "execution_count": 128,
   "metadata": {},
   "outputs": [
    {
     "output_type": "stream",
     "name": "stdout",
     "text": [
      "    region_name        date  symptom:Adrenal crisis  symptom:Ageusia  \\\n0        Alaska  2020-01-06                   12.69              NaN   \n1        Alaska  2020-01-13                    9.56              NaN   \n2        Alaska  2020-01-20                     NaN              NaN   \n3        Alaska  2020-01-27                   15.31             7.47   \n4        Alaska  2020-02-03                    8.81              NaN   \n..          ...         ...                     ...              ...   \n619     Wyoming  2020-08-31                    5.03             2.79   \n620     Wyoming  2020-09-07                    3.36             3.25   \n621     Wyoming  2020-09-14                    4.15             4.97   \n622     Wyoming  2020-09-21                    5.64             3.67   \n623     Wyoming  2020-09-28                    9.79             4.54   \n\n     symptom:Allergic conjunctivitis  symptom:Amblyopia  symptom:Amenorrhea  \\\n0                                NaN                NaN               12.29   \n1                                NaN                NaN               12.62   \n2                                NaN                NaN               14.17   \n3                                NaN                NaN               15.67   \n4                                NaN                NaN               13.87   \n..                               ...                ...                 ...   \n619                              NaN               5.75                4.19   \n620                              2.2               3.63                 NaN   \n621                              NaN               5.14                5.79   \n622                              NaN               5.25                3.77   \n623                              NaN               4.64                2.60   \n\n     symptom:Angular cheilitis  symptom:Anosmia  symptom:Aphonia  ...  \\\n0                          NaN              NaN              NaN  ...   \n1                          NaN              NaN              NaN  ...   \n2                          NaN             7.36              NaN  ...   \n3                         7.47              NaN             7.65  ...   \n4                         8.06              NaN            12.56  ...   \n..                         ...              ...              ...  ...   \n619                        NaN              NaN              NaN  ...   \n620                       2.25             2.70              NaN  ...   \n621                        NaN             4.59              NaN  ...   \n622                        NaN             5.09              NaN  ...   \n623                        NaN             4.87              NaN  ...   \n\n     symptom:Tenderness  symptom:Thyroid nodule  symptom:Trichoptilosis  \\\n0                 14.28                   15.86                   11.90   \n1                 13.39                   12.24                    7.84   \n2                 12.88                   17.66                   15.27   \n3                 13.30                   12.76                    9.84   \n4                 11.81                   16.68                   10.68   \n..                  ...                     ...                     ...   \n619                3.07                    3.07                    2.57   \n620                4.29                    2.81                     NaN   \n621                3.93                    5.63                    3.06   \n622                3.28                    3.72                    3.17   \n623                3.93                    4.31                    2.54   \n\n     symptom:Upper respiratory tract infection  symptom:Urethritis  \\\n0                                        18.84               13.88   \n1                                        16.83               13.01   \n2                                        18.40               12.14   \n3                                        20.41               17.49   \n4                                        20.62               16.87   \n..                                         ...                 ...   \n619                                       2.68                 NaN   \n620                                       3.19                3.19   \n621                                       4.59                3.22   \n622                                       3.23                2.90   \n623                                        NaN                3.32   \n\n     symptom:Urinary urgency  symptom:Vasculitis  \\\n0                        NaN               14.08   \n1                       7.65               15.30   \n2                       7.54               10.30   \n3                        NaN               11.30   \n4                        NaN               14.24   \n..                       ...                 ...   \n619                      NaN                5.08   \n620                      NaN                4.51   \n621                     2.68                3.88   \n622                      NaN                5.14   \n623                      NaN                5.86   \n\n     symptom:Ventricular fibrillation  symptom:Viral pneumonia  symptom:Yawn  \n0                                9.91                      NaN         14.28  \n1                                8.41                      NaN         16.26  \n2                               16.19                      NaN         17.48  \n3                                 NaN                      NaN         10.93  \n4                               10.68                     10.5         18.93  \n..                                ...                      ...           ...  \n619                               NaN                      NaN          3.63  \n620                               NaN                      NaN          4.02  \n621                               NaN                      NaN          4.37  \n622                              3.23                      NaN          4.76  \n623                              3.37                      NaN          5.92  \n\n[624 rows x 123 columns]\n"
     ]
    }
   ],
   "source": [
    "print(search_trend_df)\n",
    "\n",
    "hospitalization_df['date'] = pd.to_datetime(hospitalization_df['date'], format='%Y-%m-%d')\n",
    "hospitalization_df = hospitalization_df.groupby(['region_name']).resample('W', on='date',loffset='1d').sum()\n",
    "hospitalization_df = hospitalization_df.reset_index()\n",
    "\n",
    "search_trend_df['date'] = pd.to_datetime(search_trend_df['date'], format='%Y-%m-%d')\n",
    "result_df = search_trend_df.merge(hospitalization_df, on=['region_name', 'date'])\n",
    "\n",
    "result_df.to_csv('result.csv', index=False)"
   ]
  }
 ]
}