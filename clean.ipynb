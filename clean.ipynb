{
 "metadata": {
  "language_info": {
   "codemirror_mode": {
    "name": "ipython",
    "version": 3
   },
   "file_extension": ".py",
   "mimetype": "text/x-python",
   "name": "python",
   "nbconvert_exporter": "python",
   "pygments_lexer": "ipython3",
   "version": "3.7.7-final"
  },
  "orig_nbformat": 2,
  "kernelspec": {
   "name": "Python 3.7.7 64-bit",
   "display_name": "Python 3.7.7 64-bit",
   "metadata": {
    "interpreter": {
     "hash": "aee8b7b246df8f9039afb4144a1f6fd8d2ca17a180786b69acc140d282b71a49"
    }
   }
  }
 },
 "nbformat": 4,
 "nbformat_minor": 2,
 "cells": [
  {
   "cell_type": "code",
   "execution_count": 1,
   "metadata": {},
   "outputs": [],
   "source": [
    "import pandas as pd\n",
    "import numpy as np"
   ]
  },
  {
   "source": [
    "search_trend_url =\"https://raw.githubusercontent.com/google-research/open-covid-19-data/master/data/exports/search_trends_symptoms_dataset/United%20States%20of%20America/2020_US_weekly_symptoms_dataset.csv\"\n",
    "hospitalization_url =\"https://raw.githubusercontent.com/google-research/open-covid-19-data/master/data/exports/cc_by/aggregated_cc_by.csv\"\n",
    "search_trend_df = pd.read_csv(search_trend_url)\n",
    "hospitalization_df = pd.read_csv(hospitalization_url)"
   ],
   "cell_type": "code",
   "metadata": {},
   "execution_count": 2,
   "outputs": []
  },
  {
   "source": [
    "search_trend_df = search_trend_df.drop(search_trend_df.columns[[0,1,2,4,5,6]], axis=1)\n",
    "search_trend_df = search_trend_df.dropna(axis=1, how='all')\n",
    "search_trend_df = search_trend_df.rename(columns={'sub_region_1':'region_name'})"
   ],
   "cell_type": "code",
   "metadata": {},
   "execution_count": 3,
   "outputs": []
  },
  {
   "source": [
    "hospitalization_df = hospitalization_df[['open_covid_region_code','region_name','date','hospitalized_new']]\n",
    "hospitalization_df = hospitalization_df[hospitalization_df['open_covid_region_code'].str.contains('^US-')]\n",
    "hospitalization_df = hospitalization_df.drop(hospitalization_df.columns[[0]], axis=1)\n",
    "regions = hospitalization_df.region_name.unique()\n",
    "\n",
    "for region in regions:\n",
    "    region_df = hospitalization_df[hospitalization_df['region_name'] == region]\n",
    "    if (region_df['hospitalized_new'] == 0).all():\n",
    "        hospitalization_df = hospitalization_df.drop(hospitalization_df[hospitalization_df.region_name == region].index, axis=0) "
   ],
   "cell_type": "code",
   "metadata": {
    "tags": []
   },
   "execution_count": 4,
   "outputs": []
  },
  {
   "cell_type": "code",
   "execution_count": 5,
   "metadata": {},
   "outputs": [
    {
     "output_type": "stream",
     "name": "stdout",
     "text": [
      "14\n"
     ]
    }
   ],
   "source": [
    "hospitalization_df['date'] = pd.to_datetime(hospitalization_df['date'], format='%Y-%m-%d')\n",
    "hospitalization_df = hospitalization_df.groupby(['region_name']).resample('W', on='date',loffset='1d').sum()\n",
    "hospitalization_df = hospitalization_df.reset_index()\n",
    "\n",
    "search_trend_df['date'] = pd.to_datetime(search_trend_df['date'], format='%Y-%m-%d')\n",
    "result_df = search_trend_df.merge(hospitalization_df, on=['region_name', 'date'])\n",
    "print(len(result_df.region_name.unique()))\n",
    "result_df.to_csv('result.csv', index=False)"
   ]
  }
 ]
}