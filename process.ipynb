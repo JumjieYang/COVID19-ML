{
 "cells": [
  {
   "source": [
    "#### import the required libs (numpy and pandas)"
   ],
   "cell_type": "markdown",
   "metadata": {
    "collapsed": true
   }
  },
  {
   "cell_type": "code",
   "execution_count": 1,
   "metadata": {},
   "outputs": [],
   "source": [
    "import pandas as pd\n",
    "import numpy as np\n",
    "pd.set_option('expand_frame_repr', False)"
   ]
  },
  {
   "source": [
    "#### load csvs to pandas dataframes, we will use online data for the best accuracy"
   ],
   "cell_type": "markdown",
   "metadata": {}
  },
  {
   "cell_type": "code",
   "execution_count": 2,
   "metadata": {},
   "outputs": [],
   "source": [
    "search_trend_url =\"https://raw.githubusercontent.com/google-research/open-covid-19-data/master/data/exports/search_trends_symptoms_dataset/United%20States%20of%20America/2020_US_weekly_symptoms_dataset.csv\"\n",
    "hospitalization_url =\"https://raw.githubusercontent.com/google-research/open-covid-19-data/master/data/exports/cc_by/aggregated_cc_by.csv\"\n",
    "search_trend_df = pd.read_csv(search_trend_url)\n",
    "hospitalization_df = pd.read_csv(hospitalization_url)\n"
   ]
  },
  {
   "source": [
    "### We will try to clean the search trend dataset first\n",
    "\n",
    "after loading the dataset to pandas dataframe, we will check how many parameters does the dataframe contains"
   ],
   "cell_type": "markdown",
   "metadata": {}
  },
  {
   "cell_type": "code",
   "execution_count": 3,
   "metadata": {},
   "outputs": [
    {
     "output_type": "execute_result",
     "data": {
      "text/plain": [
       "430"
      ]
     },
     "metadata": {},
     "execution_count": 3
    }
   ],
   "source": [
    "len(search_trend_df.columns.values)"
   ]
  },
  {
   "source": [
    "#### Since we have 430 parameters, we now examine the data, and try to determine if we can drop some of the columns to avoid over-fitting"
   ],
   "cell_type": "markdown",
   "metadata": {}
  },
  {
   "cell_type": "code",
   "execution_count": 4,
   "metadata": {},
   "outputs": [
    {
     "output_type": "execute_result",
     "data": {
      "text/plain": [
       "    open_covid_region_code country_region_code country_region sub_region_1 sub_region_1_code  sub_region_2  sub_region_2_code        date  symptom:Abdominal obesity  symptom:Abdominal pain  ...  symptom:Wart  symptom:Water retention  symptom:Weakness  symptom:Weight gain  symptom:Wheeze  symptom:Xeroderma  symptom:Xerostomia  symptom:Yawn  symptom:hyperhidrosis  symptom:pancreatitis\n",
       "0                    US-AK                  US  United States       Alaska             US-AK           NaN                NaN  2020-01-06                        NaN                     NaN  ...           NaN                      NaN               NaN                  NaN             NaN                NaN                 NaN         14.28                    NaN                   NaN\n",
       "1                    US-AK                  US  United States       Alaska             US-AK           NaN                NaN  2020-01-13                        NaN                     NaN  ...           NaN                      NaN               NaN                  NaN             NaN                NaN                 NaN         16.26                    NaN                   NaN\n",
       "2                    US-AK                  US  United States       Alaska             US-AK           NaN                NaN  2020-01-20                        NaN                     NaN  ...           NaN                      NaN               NaN                  NaN             NaN                NaN                 NaN         17.48                    NaN                   NaN\n",
       "3                    US-AK                  US  United States       Alaska             US-AK           NaN                NaN  2020-01-27                        NaN                     NaN  ...           NaN                      NaN               NaN                  NaN             NaN                NaN                 NaN         10.93                    NaN                   NaN\n",
       "4                    US-AK                  US  United States       Alaska             US-AK           NaN                NaN  2020-02-03                        NaN                     NaN  ...           NaN                      NaN               NaN                  NaN             NaN                NaN                 NaN         18.93                    NaN                   NaN\n",
       "5                    US-AK                  US  United States       Alaska             US-AK           NaN                NaN  2020-02-10                        NaN                     NaN  ...           NaN                      NaN               NaN                  NaN             NaN                NaN                 NaN         17.05                    NaN                   NaN\n",
       "6                    US-AK                  US  United States       Alaska             US-AK           NaN                NaN  2020-02-17                        NaN                     NaN  ...           NaN                      NaN               NaN                  NaN             NaN                NaN                 NaN         16.62                    NaN                   NaN\n",
       "7                    US-AK                  US  United States       Alaska             US-AK           NaN                NaN  2020-02-24                        NaN                     NaN  ...           NaN                      NaN               NaN                  NaN             NaN                NaN                 NaN         14.42                    NaN                   NaN\n",
       "8                    US-AK                  US  United States       Alaska             US-AK           NaN                NaN  2020-03-02                        NaN                     NaN  ...           NaN                      NaN               NaN                  NaN             NaN                NaN                 NaN          9.30                    NaN                   NaN\n",
       "9                    US-AK                  US  United States       Alaska             US-AK           NaN                NaN  2020-03-09                        NaN                     NaN  ...           NaN                      NaN               NaN                  NaN             NaN                NaN                 NaN         10.77                    NaN                   NaN\n",
       "614                  US-WY                  US  United States      Wyoming             US-WY           NaN                NaN  2020-07-27                        NaN                     NaN  ...           NaN                      NaN               NaN                  NaN             NaN                NaN                 NaN          4.07                    NaN                   NaN\n",
       "615                  US-WY                  US  United States      Wyoming             US-WY           NaN                NaN  2020-08-03                        NaN                     NaN  ...           NaN                      NaN               NaN                  NaN             NaN                NaN                 NaN          4.11                    NaN                   NaN\n",
       "616                  US-WY                  US  United States      Wyoming             US-WY           NaN                NaN  2020-08-10                        NaN                     NaN  ...           NaN                      NaN               NaN                  NaN             NaN                NaN                 NaN           NaN                    NaN                   NaN\n",
       "617                  US-WY                  US  United States      Wyoming             US-WY           NaN                NaN  2020-08-17                        NaN                     NaN  ...           NaN                      NaN               NaN                  NaN             NaN                NaN                 NaN          3.71                    NaN                   NaN\n",
       "618                  US-WY                  US  United States      Wyoming             US-WY           NaN                NaN  2020-08-24                        NaN                     NaN  ...           NaN                      NaN               NaN                  NaN             NaN                NaN                 NaN          3.87                    NaN                   NaN\n",
       "619                  US-WY                  US  United States      Wyoming             US-WY           NaN                NaN  2020-08-31                        NaN                     NaN  ...           NaN                      NaN               NaN                  NaN             NaN                NaN                 NaN          3.63                    NaN                   NaN\n",
       "620                  US-WY                  US  United States      Wyoming             US-WY           NaN                NaN  2020-09-07                        NaN                     NaN  ...           NaN                      NaN               NaN                  NaN             NaN                NaN                 NaN          4.02                    NaN                   NaN\n",
       "621                  US-WY                  US  United States      Wyoming             US-WY           NaN                NaN  2020-09-14                        NaN                     NaN  ...           NaN                      NaN               NaN                  NaN             NaN                NaN                 NaN          4.37                    NaN                   NaN\n",
       "622                  US-WY                  US  United States      Wyoming             US-WY           NaN                NaN  2020-09-21                        NaN                     NaN  ...           NaN                      NaN               NaN                  NaN             NaN                NaN                 NaN          4.76                    NaN                   NaN\n",
       "623                  US-WY                  US  United States      Wyoming             US-WY           NaN                NaN  2020-09-28                        NaN                     NaN  ...           NaN                      NaN               NaN                  NaN             NaN                NaN                 NaN          5.92                    NaN                   NaN\n",
       "\n",
       "[20 rows x 430 columns]"
      ],
      "text/html": "<div>\n<style scoped>\n    .dataframe tbody tr th:only-of-type {\n        vertical-align: middle;\n    }\n\n    .dataframe tbody tr th {\n        vertical-align: top;\n    }\n\n    .dataframe thead th {\n        text-align: right;\n    }\n</style>\n<table border=\"1\" class=\"dataframe\">\n  <thead>\n    <tr style=\"text-align: right;\">\n      <th></th>\n      <th>open_covid_region_code</th>\n      <th>country_region_code</th>\n      <th>country_region</th>\n      <th>sub_region_1</th>\n      <th>sub_region_1_code</th>\n      <th>sub_region_2</th>\n      <th>sub_region_2_code</th>\n      <th>date</th>\n      <th>symptom:Abdominal obesity</th>\n      <th>symptom:Abdominal pain</th>\n      <th>...</th>\n      <th>symptom:Wart</th>\n      <th>symptom:Water retention</th>\n      <th>symptom:Weakness</th>\n      <th>symptom:Weight gain</th>\n      <th>symptom:Wheeze</th>\n      <th>symptom:Xeroderma</th>\n      <th>symptom:Xerostomia</th>\n      <th>symptom:Yawn</th>\n      <th>symptom:hyperhidrosis</th>\n      <th>symptom:pancreatitis</th>\n    </tr>\n  </thead>\n  <tbody>\n    <tr>\n      <th>0</th>\n      <td>US-AK</td>\n      <td>US</td>\n      <td>United States</td>\n      <td>Alaska</td>\n      <td>US-AK</td>\n      <td>NaN</td>\n      <td>NaN</td>\n      <td>2020-01-06</td>\n      <td>NaN</td>\n      <td>NaN</td>\n      <td>...</td>\n      <td>NaN</td>\n      <td>NaN</td>\n      <td>NaN</td>\n      <td>NaN</td>\n      <td>NaN</td>\n      <td>NaN</td>\n      <td>NaN</td>\n      <td>14.28</td>\n      <td>NaN</td>\n      <td>NaN</td>\n    </tr>\n    <tr>\n      <th>1</th>\n      <td>US-AK</td>\n      <td>US</td>\n      <td>United States</td>\n      <td>Alaska</td>\n      <td>US-AK</td>\n      <td>NaN</td>\n      <td>NaN</td>\n      <td>2020-01-13</td>\n      <td>NaN</td>\n      <td>NaN</td>\n      <td>...</td>\n      <td>NaN</td>\n      <td>NaN</td>\n      <td>NaN</td>\n      <td>NaN</td>\n      <td>NaN</td>\n      <td>NaN</td>\n      <td>NaN</td>\n      <td>16.26</td>\n      <td>NaN</td>\n      <td>NaN</td>\n    </tr>\n    <tr>\n      <th>2</th>\n      <td>US-AK</td>\n      <td>US</td>\n      <td>United States</td>\n      <td>Alaska</td>\n      <td>US-AK</td>\n      <td>NaN</td>\n      <td>NaN</td>\n      <td>2020-01-20</td>\n      <td>NaN</td>\n      <td>NaN</td>\n      <td>...</td>\n      <td>NaN</td>\n      <td>NaN</td>\n      <td>NaN</td>\n      <td>NaN</td>\n      <td>NaN</td>\n      <td>NaN</td>\n      <td>NaN</td>\n      <td>17.48</td>\n      <td>NaN</td>\n      <td>NaN</td>\n    </tr>\n    <tr>\n      <th>3</th>\n      <td>US-AK</td>\n      <td>US</td>\n      <td>United States</td>\n      <td>Alaska</td>\n      <td>US-AK</td>\n      <td>NaN</td>\n      <td>NaN</td>\n      <td>2020-01-27</td>\n      <td>NaN</td>\n      <td>NaN</td>\n      <td>...</td>\n      <td>NaN</td>\n      <td>NaN</td>\n      <td>NaN</td>\n      <td>NaN</td>\n      <td>NaN</td>\n      <td>NaN</td>\n      <td>NaN</td>\n      <td>10.93</td>\n      <td>NaN</td>\n      <td>NaN</td>\n    </tr>\n    <tr>\n      <th>4</th>\n      <td>US-AK</td>\n      <td>US</td>\n      <td>United States</td>\n      <td>Alaska</td>\n      <td>US-AK</td>\n      <td>NaN</td>\n      <td>NaN</td>\n      <td>2020-02-03</td>\n      <td>NaN</td>\n      <td>NaN</td>\n      <td>...</td>\n      <td>NaN</td>\n      <td>NaN</td>\n      <td>NaN</td>\n      <td>NaN</td>\n      <td>NaN</td>\n      <td>NaN</td>\n      <td>NaN</td>\n      <td>18.93</td>\n      <td>NaN</td>\n      <td>NaN</td>\n    </tr>\n    <tr>\n      <th>5</th>\n      <td>US-AK</td>\n      <td>US</td>\n      <td>United States</td>\n      <td>Alaska</td>\n      <td>US-AK</td>\n      <td>NaN</td>\n      <td>NaN</td>\n      <td>2020-02-10</td>\n      <td>NaN</td>\n      <td>NaN</td>\n      <td>...</td>\n      <td>NaN</td>\n      <td>NaN</td>\n      <td>NaN</td>\n      <td>NaN</td>\n      <td>NaN</td>\n      <td>NaN</td>\n      <td>NaN</td>\n      <td>17.05</td>\n      <td>NaN</td>\n      <td>NaN</td>\n    </tr>\n    <tr>\n      <th>6</th>\n      <td>US-AK</td>\n      <td>US</td>\n      <td>United States</td>\n      <td>Alaska</td>\n      <td>US-AK</td>\n      <td>NaN</td>\n      <td>NaN</td>\n      <td>2020-02-17</td>\n      <td>NaN</td>\n      <td>NaN</td>\n      <td>...</td>\n      <td>NaN</td>\n      <td>NaN</td>\n      <td>NaN</td>\n      <td>NaN</td>\n      <td>NaN</td>\n      <td>NaN</td>\n      <td>NaN</td>\n      <td>16.62</td>\n      <td>NaN</td>\n      <td>NaN</td>\n    </tr>\n    <tr>\n      <th>7</th>\n      <td>US-AK</td>\n      <td>US</td>\n      <td>United States</td>\n      <td>Alaska</td>\n      <td>US-AK</td>\n      <td>NaN</td>\n      <td>NaN</td>\n      <td>2020-02-24</td>\n      <td>NaN</td>\n      <td>NaN</td>\n      <td>...</td>\n      <td>NaN</td>\n      <td>NaN</td>\n      <td>NaN</td>\n      <td>NaN</td>\n      <td>NaN</td>\n      <td>NaN</td>\n      <td>NaN</td>\n      <td>14.42</td>\n      <td>NaN</td>\n      <td>NaN</td>\n    </tr>\n    <tr>\n      <th>8</th>\n      <td>US-AK</td>\n      <td>US</td>\n      <td>United States</td>\n      <td>Alaska</td>\n      <td>US-AK</td>\n      <td>NaN</td>\n      <td>NaN</td>\n      <td>2020-03-02</td>\n      <td>NaN</td>\n      <td>NaN</td>\n      <td>...</td>\n      <td>NaN</td>\n      <td>NaN</td>\n      <td>NaN</td>\n      <td>NaN</td>\n      <td>NaN</td>\n      <td>NaN</td>\n      <td>NaN</td>\n      <td>9.30</td>\n      <td>NaN</td>\n      <td>NaN</td>\n    </tr>\n    <tr>\n      <th>9</th>\n      <td>US-AK</td>\n      <td>US</td>\n      <td>United States</td>\n      <td>Alaska</td>\n      <td>US-AK</td>\n      <td>NaN</td>\n      <td>NaN</td>\n      <td>2020-03-09</td>\n      <td>NaN</td>\n      <td>NaN</td>\n      <td>...</td>\n      <td>NaN</td>\n      <td>NaN</td>\n      <td>NaN</td>\n      <td>NaN</td>\n      <td>NaN</td>\n      <td>NaN</td>\n      <td>NaN</td>\n      <td>10.77</td>\n      <td>NaN</td>\n      <td>NaN</td>\n    </tr>\n    <tr>\n      <th>614</th>\n      <td>US-WY</td>\n      <td>US</td>\n      <td>United States</td>\n      <td>Wyoming</td>\n      <td>US-WY</td>\n      <td>NaN</td>\n      <td>NaN</td>\n      <td>2020-07-27</td>\n      <td>NaN</td>\n      <td>NaN</td>\n      <td>...</td>\n      <td>NaN</td>\n      <td>NaN</td>\n      <td>NaN</td>\n      <td>NaN</td>\n      <td>NaN</td>\n      <td>NaN</td>\n      <td>NaN</td>\n      <td>4.07</td>\n      <td>NaN</td>\n      <td>NaN</td>\n    </tr>\n    <tr>\n      <th>615</th>\n      <td>US-WY</td>\n      <td>US</td>\n      <td>United States</td>\n      <td>Wyoming</td>\n      <td>US-WY</td>\n      <td>NaN</td>\n      <td>NaN</td>\n      <td>2020-08-03</td>\n      <td>NaN</td>\n      <td>NaN</td>\n      <td>...</td>\n      <td>NaN</td>\n      <td>NaN</td>\n      <td>NaN</td>\n      <td>NaN</td>\n      <td>NaN</td>\n      <td>NaN</td>\n      <td>NaN</td>\n      <td>4.11</td>\n      <td>NaN</td>\n      <td>NaN</td>\n    </tr>\n    <tr>\n      <th>616</th>\n      <td>US-WY</td>\n      <td>US</td>\n      <td>United States</td>\n      <td>Wyoming</td>\n      <td>US-WY</td>\n      <td>NaN</td>\n      <td>NaN</td>\n      <td>2020-08-10</td>\n      <td>NaN</td>\n      <td>NaN</td>\n      <td>...</td>\n      <td>NaN</td>\n      <td>NaN</td>\n      <td>NaN</td>\n      <td>NaN</td>\n      <td>NaN</td>\n      <td>NaN</td>\n      <td>NaN</td>\n      <td>NaN</td>\n      <td>NaN</td>\n      <td>NaN</td>\n    </tr>\n    <tr>\n      <th>617</th>\n      <td>US-WY</td>\n      <td>US</td>\n      <td>United States</td>\n      <td>Wyoming</td>\n      <td>US-WY</td>\n      <td>NaN</td>\n      <td>NaN</td>\n      <td>2020-08-17</td>\n      <td>NaN</td>\n      <td>NaN</td>\n      <td>...</td>\n      <td>NaN</td>\n      <td>NaN</td>\n      <td>NaN</td>\n      <td>NaN</td>\n      <td>NaN</td>\n      <td>NaN</td>\n      <td>NaN</td>\n      <td>3.71</td>\n      <td>NaN</td>\n      <td>NaN</td>\n    </tr>\n    <tr>\n      <th>618</th>\n      <td>US-WY</td>\n      <td>US</td>\n      <td>United States</td>\n      <td>Wyoming</td>\n      <td>US-WY</td>\n      <td>NaN</td>\n      <td>NaN</td>\n      <td>2020-08-24</td>\n      <td>NaN</td>\n      <td>NaN</td>\n      <td>...</td>\n      <td>NaN</td>\n      <td>NaN</td>\n      <td>NaN</td>\n      <td>NaN</td>\n      <td>NaN</td>\n      <td>NaN</td>\n      <td>NaN</td>\n      <td>3.87</td>\n      <td>NaN</td>\n      <td>NaN</td>\n    </tr>\n    <tr>\n      <th>619</th>\n      <td>US-WY</td>\n      <td>US</td>\n      <td>United States</td>\n      <td>Wyoming</td>\n      <td>US-WY</td>\n      <td>NaN</td>\n      <td>NaN</td>\n      <td>2020-08-31</td>\n      <td>NaN</td>\n      <td>NaN</td>\n      <td>...</td>\n      <td>NaN</td>\n      <td>NaN</td>\n      <td>NaN</td>\n      <td>NaN</td>\n      <td>NaN</td>\n      <td>NaN</td>\n      <td>NaN</td>\n      <td>3.63</td>\n      <td>NaN</td>\n      <td>NaN</td>\n    </tr>\n    <tr>\n      <th>620</th>\n      <td>US-WY</td>\n      <td>US</td>\n      <td>United States</td>\n      <td>Wyoming</td>\n      <td>US-WY</td>\n      <td>NaN</td>\n      <td>NaN</td>\n      <td>2020-09-07</td>\n      <td>NaN</td>\n      <td>NaN</td>\n      <td>...</td>\n      <td>NaN</td>\n      <td>NaN</td>\n      <td>NaN</td>\n      <td>NaN</td>\n      <td>NaN</td>\n      <td>NaN</td>\n      <td>NaN</td>\n      <td>4.02</td>\n      <td>NaN</td>\n      <td>NaN</td>\n    </tr>\n    <tr>\n      <th>621</th>\n      <td>US-WY</td>\n      <td>US</td>\n      <td>United States</td>\n      <td>Wyoming</td>\n      <td>US-WY</td>\n      <td>NaN</td>\n      <td>NaN</td>\n      <td>2020-09-14</td>\n      <td>NaN</td>\n      <td>NaN</td>\n      <td>...</td>\n      <td>NaN</td>\n      <td>NaN</td>\n      <td>NaN</td>\n      <td>NaN</td>\n      <td>NaN</td>\n      <td>NaN</td>\n      <td>NaN</td>\n      <td>4.37</td>\n      <td>NaN</td>\n      <td>NaN</td>\n    </tr>\n    <tr>\n      <th>622</th>\n      <td>US-WY</td>\n      <td>US</td>\n      <td>United States</td>\n      <td>Wyoming</td>\n      <td>US-WY</td>\n      <td>NaN</td>\n      <td>NaN</td>\n      <td>2020-09-21</td>\n      <td>NaN</td>\n      <td>NaN</td>\n      <td>...</td>\n      <td>NaN</td>\n      <td>NaN</td>\n      <td>NaN</td>\n      <td>NaN</td>\n      <td>NaN</td>\n      <td>NaN</td>\n      <td>NaN</td>\n      <td>4.76</td>\n      <td>NaN</td>\n      <td>NaN</td>\n    </tr>\n    <tr>\n      <th>623</th>\n      <td>US-WY</td>\n      <td>US</td>\n      <td>United States</td>\n      <td>Wyoming</td>\n      <td>US-WY</td>\n      <td>NaN</td>\n      <td>NaN</td>\n      <td>2020-09-28</td>\n      <td>NaN</td>\n      <td>NaN</td>\n      <td>...</td>\n      <td>NaN</td>\n      <td>NaN</td>\n      <td>NaN</td>\n      <td>NaN</td>\n      <td>NaN</td>\n      <td>NaN</td>\n      <td>NaN</td>\n      <td>5.92</td>\n      <td>NaN</td>\n      <td>NaN</td>\n    </tr>\n  </tbody>\n</table>\n<p>20 rows × 430 columns</p>\n</div>"
     },
     "metadata": {},
     "execution_count": 4
    }
   ],
   "source": [
    "search_trend_df.iloc[np.r_[0:10,-10:0]]"
   ]
  },
  {
   "source": [
    "Since we have several NaN columns, we can drop the columns where all data in the column are NaN\n",
    "\n",
    "And also, by looking at the dataset, columns named as `country_region_code`, `country_region`, and `sub_region_1_code` can be dropped."
   ],
   "cell_type": "markdown",
   "metadata": {}
  },
  {
   "cell_type": "code",
   "execution_count": 5,
   "metadata": {},
   "outputs": [
    {
     "output_type": "execute_result",
     "data": {
      "text/plain": [
       "    open_covid_region_code sub_region_1        date  symptom:Abdominal obesity  symptom:Abdominal pain  symptom:Acne  symptom:Actinic keratosis  symptom:Acute bronchitis  symptom:Adrenal crisis  symptom:Ageusia  ...  symptom:Wart  symptom:Water retention  symptom:Weakness  symptom:Weight gain  symptom:Wheeze  symptom:Xeroderma  symptom:Xerostomia  symptom:Yawn  symptom:hyperhidrosis  symptom:pancreatitis\n",
       "0                    US-AK       Alaska  2020-01-06                        0.0                     0.0           0.0                        0.0                       0.0                   12.69             0.00  ...           0.0                      0.0               0.0                  0.0             0.0                0.0                 0.0         14.28                    0.0                   0.0\n",
       "1                    US-AK       Alaska  2020-01-13                        0.0                     0.0           0.0                        0.0                       0.0                    9.56             0.00  ...           0.0                      0.0               0.0                  0.0             0.0                0.0                 0.0         16.26                    0.0                   0.0\n",
       "2                    US-AK       Alaska  2020-01-20                        0.0                     0.0           0.0                        0.0                       0.0                    0.00             0.00  ...           0.0                      0.0               0.0                  0.0             0.0                0.0                 0.0         17.48                    0.0                   0.0\n",
       "3                    US-AK       Alaska  2020-01-27                        0.0                     0.0           0.0                        0.0                       0.0                   15.31             7.47  ...           0.0                      0.0               0.0                  0.0             0.0                0.0                 0.0         10.93                    0.0                   0.0\n",
       "4                    US-AK       Alaska  2020-02-03                        0.0                     0.0           0.0                        0.0                       0.0                    8.81             0.00  ...           0.0                      0.0               0.0                  0.0             0.0                0.0                 0.0         18.93                    0.0                   0.0\n",
       "..                     ...          ...         ...                        ...                     ...           ...                        ...                       ...                     ...              ...  ...           ...                      ...               ...                  ...             ...                ...                 ...           ...                    ...                   ...\n",
       "619                  US-WY      Wyoming  2020-08-31                        0.0                     0.0           0.0                        0.0                       0.0                    5.03             2.79  ...           0.0                      0.0               0.0                  0.0             0.0                0.0                 0.0          3.63                    0.0                   0.0\n",
       "620                  US-WY      Wyoming  2020-09-07                        0.0                     0.0           0.0                        0.0                       0.0                    3.36             3.25  ...           0.0                      0.0               0.0                  0.0             0.0                0.0                 0.0          4.02                    0.0                   0.0\n",
       "621                  US-WY      Wyoming  2020-09-14                        0.0                     0.0           0.0                        0.0                       0.0                    4.15             4.97  ...           0.0                      0.0               0.0                  0.0             0.0                0.0                 0.0          4.37                    0.0                   0.0\n",
       "622                  US-WY      Wyoming  2020-09-21                        0.0                     0.0           0.0                        0.0                       0.0                    5.64             3.67  ...           0.0                      0.0               0.0                  0.0             0.0                0.0                 0.0          4.76                    0.0                   0.0\n",
       "623                  US-WY      Wyoming  2020-09-28                        0.0                     0.0           0.0                        0.0                       0.0                    9.79             4.54  ...           0.0                      0.0               0.0                  0.0             0.0                0.0                 0.0          5.92                    0.0                   0.0\n",
       "\n",
       "[624 rows x 425 columns]"
      ],
      "text/html": "<div>\n<style scoped>\n    .dataframe tbody tr th:only-of-type {\n        vertical-align: middle;\n    }\n\n    .dataframe tbody tr th {\n        vertical-align: top;\n    }\n\n    .dataframe thead th {\n        text-align: right;\n    }\n</style>\n<table border=\"1\" class=\"dataframe\">\n  <thead>\n    <tr style=\"text-align: right;\">\n      <th></th>\n      <th>open_covid_region_code</th>\n      <th>sub_region_1</th>\n      <th>date</th>\n      <th>symptom:Abdominal obesity</th>\n      <th>symptom:Abdominal pain</th>\n      <th>symptom:Acne</th>\n      <th>symptom:Actinic keratosis</th>\n      <th>symptom:Acute bronchitis</th>\n      <th>symptom:Adrenal crisis</th>\n      <th>symptom:Ageusia</th>\n      <th>...</th>\n      <th>symptom:Wart</th>\n      <th>symptom:Water retention</th>\n      <th>symptom:Weakness</th>\n      <th>symptom:Weight gain</th>\n      <th>symptom:Wheeze</th>\n      <th>symptom:Xeroderma</th>\n      <th>symptom:Xerostomia</th>\n      <th>symptom:Yawn</th>\n      <th>symptom:hyperhidrosis</th>\n      <th>symptom:pancreatitis</th>\n    </tr>\n  </thead>\n  <tbody>\n    <tr>\n      <th>0</th>\n      <td>US-AK</td>\n      <td>Alaska</td>\n      <td>2020-01-06</td>\n      <td>0.0</td>\n      <td>0.0</td>\n      <td>0.0</td>\n      <td>0.0</td>\n      <td>0.0</td>\n      <td>12.69</td>\n      <td>0.00</td>\n      <td>...</td>\n      <td>0.0</td>\n      <td>0.0</td>\n      <td>0.0</td>\n      <td>0.0</td>\n      <td>0.0</td>\n      <td>0.0</td>\n      <td>0.0</td>\n      <td>14.28</td>\n      <td>0.0</td>\n      <td>0.0</td>\n    </tr>\n    <tr>\n      <th>1</th>\n      <td>US-AK</td>\n      <td>Alaska</td>\n      <td>2020-01-13</td>\n      <td>0.0</td>\n      <td>0.0</td>\n      <td>0.0</td>\n      <td>0.0</td>\n      <td>0.0</td>\n      <td>9.56</td>\n      <td>0.00</td>\n      <td>...</td>\n      <td>0.0</td>\n      <td>0.0</td>\n      <td>0.0</td>\n      <td>0.0</td>\n      <td>0.0</td>\n      <td>0.0</td>\n      <td>0.0</td>\n      <td>16.26</td>\n      <td>0.0</td>\n      <td>0.0</td>\n    </tr>\n    <tr>\n      <th>2</th>\n      <td>US-AK</td>\n      <td>Alaska</td>\n      <td>2020-01-20</td>\n      <td>0.0</td>\n      <td>0.0</td>\n      <td>0.0</td>\n      <td>0.0</td>\n      <td>0.0</td>\n      <td>0.00</td>\n      <td>0.00</td>\n      <td>...</td>\n      <td>0.0</td>\n      <td>0.0</td>\n      <td>0.0</td>\n      <td>0.0</td>\n      <td>0.0</td>\n      <td>0.0</td>\n      <td>0.0</td>\n      <td>17.48</td>\n      <td>0.0</td>\n      <td>0.0</td>\n    </tr>\n    <tr>\n      <th>3</th>\n      <td>US-AK</td>\n      <td>Alaska</td>\n      <td>2020-01-27</td>\n      <td>0.0</td>\n      <td>0.0</td>\n      <td>0.0</td>\n      <td>0.0</td>\n      <td>0.0</td>\n      <td>15.31</td>\n      <td>7.47</td>\n      <td>...</td>\n      <td>0.0</td>\n      <td>0.0</td>\n      <td>0.0</td>\n      <td>0.0</td>\n      <td>0.0</td>\n      <td>0.0</td>\n      <td>0.0</td>\n      <td>10.93</td>\n      <td>0.0</td>\n      <td>0.0</td>\n    </tr>\n    <tr>\n      <th>4</th>\n      <td>US-AK</td>\n      <td>Alaska</td>\n      <td>2020-02-03</td>\n      <td>0.0</td>\n      <td>0.0</td>\n      <td>0.0</td>\n      <td>0.0</td>\n      <td>0.0</td>\n      <td>8.81</td>\n      <td>0.00</td>\n      <td>...</td>\n      <td>0.0</td>\n      <td>0.0</td>\n      <td>0.0</td>\n      <td>0.0</td>\n      <td>0.0</td>\n      <td>0.0</td>\n      <td>0.0</td>\n      <td>18.93</td>\n      <td>0.0</td>\n      <td>0.0</td>\n    </tr>\n    <tr>\n      <th>...</th>\n      <td>...</td>\n      <td>...</td>\n      <td>...</td>\n      <td>...</td>\n      <td>...</td>\n      <td>...</td>\n      <td>...</td>\n      <td>...</td>\n      <td>...</td>\n      <td>...</td>\n      <td>...</td>\n      <td>...</td>\n      <td>...</td>\n      <td>...</td>\n      <td>...</td>\n      <td>...</td>\n      <td>...</td>\n      <td>...</td>\n      <td>...</td>\n      <td>...</td>\n      <td>...</td>\n    </tr>\n    <tr>\n      <th>619</th>\n      <td>US-WY</td>\n      <td>Wyoming</td>\n      <td>2020-08-31</td>\n      <td>0.0</td>\n      <td>0.0</td>\n      <td>0.0</td>\n      <td>0.0</td>\n      <td>0.0</td>\n      <td>5.03</td>\n      <td>2.79</td>\n      <td>...</td>\n      <td>0.0</td>\n      <td>0.0</td>\n      <td>0.0</td>\n      <td>0.0</td>\n      <td>0.0</td>\n      <td>0.0</td>\n      <td>0.0</td>\n      <td>3.63</td>\n      <td>0.0</td>\n      <td>0.0</td>\n    </tr>\n    <tr>\n      <th>620</th>\n      <td>US-WY</td>\n      <td>Wyoming</td>\n      <td>2020-09-07</td>\n      <td>0.0</td>\n      <td>0.0</td>\n      <td>0.0</td>\n      <td>0.0</td>\n      <td>0.0</td>\n      <td>3.36</td>\n      <td>3.25</td>\n      <td>...</td>\n      <td>0.0</td>\n      <td>0.0</td>\n      <td>0.0</td>\n      <td>0.0</td>\n      <td>0.0</td>\n      <td>0.0</td>\n      <td>0.0</td>\n      <td>4.02</td>\n      <td>0.0</td>\n      <td>0.0</td>\n    </tr>\n    <tr>\n      <th>621</th>\n      <td>US-WY</td>\n      <td>Wyoming</td>\n      <td>2020-09-14</td>\n      <td>0.0</td>\n      <td>0.0</td>\n      <td>0.0</td>\n      <td>0.0</td>\n      <td>0.0</td>\n      <td>4.15</td>\n      <td>4.97</td>\n      <td>...</td>\n      <td>0.0</td>\n      <td>0.0</td>\n      <td>0.0</td>\n      <td>0.0</td>\n      <td>0.0</td>\n      <td>0.0</td>\n      <td>0.0</td>\n      <td>4.37</td>\n      <td>0.0</td>\n      <td>0.0</td>\n    </tr>\n    <tr>\n      <th>622</th>\n      <td>US-WY</td>\n      <td>Wyoming</td>\n      <td>2020-09-21</td>\n      <td>0.0</td>\n      <td>0.0</td>\n      <td>0.0</td>\n      <td>0.0</td>\n      <td>0.0</td>\n      <td>5.64</td>\n      <td>3.67</td>\n      <td>...</td>\n      <td>0.0</td>\n      <td>0.0</td>\n      <td>0.0</td>\n      <td>0.0</td>\n      <td>0.0</td>\n      <td>0.0</td>\n      <td>0.0</td>\n      <td>4.76</td>\n      <td>0.0</td>\n      <td>0.0</td>\n    </tr>\n    <tr>\n      <th>623</th>\n      <td>US-WY</td>\n      <td>Wyoming</td>\n      <td>2020-09-28</td>\n      <td>0.0</td>\n      <td>0.0</td>\n      <td>0.0</td>\n      <td>0.0</td>\n      <td>0.0</td>\n      <td>9.79</td>\n      <td>4.54</td>\n      <td>...</td>\n      <td>0.0</td>\n      <td>0.0</td>\n      <td>0.0</td>\n      <td>0.0</td>\n      <td>0.0</td>\n      <td>0.0</td>\n      <td>0.0</td>\n      <td>5.92</td>\n      <td>0.0</td>\n      <td>0.0</td>\n    </tr>\n  </tbody>\n</table>\n<p>624 rows × 425 columns</p>\n</div>"
     },
     "metadata": {},
     "execution_count": 5
    }
   ],
   "source": [
    "# search_trend_df = search_trend_df.dropna(axis=1, how='all')\n",
    "search_trend_df = search_trend_df.fillna(0)\n",
    "search_trend_df = search_trend_df.drop(['country_region_code', 'country_region', 'sub_region_1_code','sub_region_2','sub_region_2_code'], axis=1)\n",
    "search_trend_df\n"
   ]
  },
  {
   "source": [
    "now, let's check the dataset again"
   ],
   "cell_type": "markdown",
   "metadata": {}
  },
  {
   "cell_type": "code",
   "execution_count": 6,
   "metadata": {},
   "outputs": [
    {
     "output_type": "execute_result",
     "data": {
      "text/plain": [
       "    open_covid_region_code sub_region_1        date  symptom:Abdominal obesity  symptom:Abdominal pain  symptom:Acne  symptom:Actinic keratosis  symptom:Acute bronchitis  symptom:Adrenal crisis  symptom:Ageusia  ...  symptom:Wart  symptom:Water retention  symptom:Weakness  symptom:Weight gain  symptom:Wheeze  symptom:Xeroderma  symptom:Xerostomia  symptom:Yawn  symptom:hyperhidrosis  symptom:pancreatitis\n",
       "0                    US-AK       Alaska  2020-01-06                        0.0                     0.0           0.0                        0.0                       0.0                   12.69             0.00  ...           0.0                      0.0               0.0                  0.0             0.0                0.0                 0.0         14.28                    0.0                   0.0\n",
       "1                    US-AK       Alaska  2020-01-13                        0.0                     0.0           0.0                        0.0                       0.0                    9.56             0.00  ...           0.0                      0.0               0.0                  0.0             0.0                0.0                 0.0         16.26                    0.0                   0.0\n",
       "2                    US-AK       Alaska  2020-01-20                        0.0                     0.0           0.0                        0.0                       0.0                    0.00             0.00  ...           0.0                      0.0               0.0                  0.0             0.0                0.0                 0.0         17.48                    0.0                   0.0\n",
       "3                    US-AK       Alaska  2020-01-27                        0.0                     0.0           0.0                        0.0                       0.0                   15.31             7.47  ...           0.0                      0.0               0.0                  0.0             0.0                0.0                 0.0         10.93                    0.0                   0.0\n",
       "4                    US-AK       Alaska  2020-02-03                        0.0                     0.0           0.0                        0.0                       0.0                    8.81             0.00  ...           0.0                      0.0               0.0                  0.0             0.0                0.0                 0.0         18.93                    0.0                   0.0\n",
       "5                    US-AK       Alaska  2020-02-10                        0.0                     0.0           0.0                        0.0                       0.0                   11.97             0.00  ...           0.0                      0.0               0.0                  0.0             0.0                0.0                 0.0         17.05                    0.0                   0.0\n",
       "6                    US-AK       Alaska  2020-02-17                        0.0                     0.0           0.0                        0.0                       0.0                    9.16             0.00  ...           0.0                      0.0               0.0                  0.0             0.0                0.0                 0.0         16.62                    0.0                   0.0\n",
       "7                    US-AK       Alaska  2020-02-24                        0.0                     0.0           0.0                        0.0                       0.0                   10.44             6.63  ...           0.0                      0.0               0.0                  0.0             0.0                0.0                 0.0         14.42                    0.0                   0.0\n",
       "8                    US-AK       Alaska  2020-03-02                        0.0                     0.0           0.0                        0.0                       0.0                   14.62             0.00  ...           0.0                      0.0               0.0                  0.0             0.0                0.0                 0.0          9.30                    0.0                   0.0\n",
       "9                    US-AK       Alaska  2020-03-09                        0.0                     0.0           0.0                        0.0                       0.0                   10.60             0.00  ...           0.0                      0.0               0.0                  0.0             0.0                0.0                 0.0         10.77                    0.0                   0.0\n",
       "614                  US-WY      Wyoming  2020-07-27                        0.0                     0.0           0.0                        0.0                       0.0                    3.44             2.75  ...           0.0                      0.0               0.0                  0.0             0.0                0.0                 0.0          4.07                    0.0                   0.0\n",
       "615                  US-WY      Wyoming  2020-08-03                        0.0                     0.0           0.0                        0.0                       0.0                    3.08             3.14  ...           0.0                      0.0               0.0                  0.0             0.0                0.0                 0.0          4.11                    0.0                   0.0\n",
       "616                  US-WY      Wyoming  2020-08-10                        0.0                     0.0           0.0                        0.0                       0.0                    3.19             0.00  ...           0.0                      0.0               0.0                  0.0             0.0                0.0                 0.0          0.00                    0.0                   0.0\n",
       "617                  US-WY      Wyoming  2020-08-17                        0.0                     0.0           0.0                        0.0                       0.0                    5.95             4.10  ...           0.0                      0.0               0.0                  0.0             0.0                0.0                 0.0          3.71                    0.0                   0.0\n",
       "618                  US-WY      Wyoming  2020-08-24                        0.0                     0.0           0.0                        0.0                       0.0                    4.42             3.31  ...           0.0                      0.0               0.0                  0.0             0.0                0.0                 0.0          3.87                    0.0                   0.0\n",
       "619                  US-WY      Wyoming  2020-08-31                        0.0                     0.0           0.0                        0.0                       0.0                    5.03             2.79  ...           0.0                      0.0               0.0                  0.0             0.0                0.0                 0.0          3.63                    0.0                   0.0\n",
       "620                  US-WY      Wyoming  2020-09-07                        0.0                     0.0           0.0                        0.0                       0.0                    3.36             3.25  ...           0.0                      0.0               0.0                  0.0             0.0                0.0                 0.0          4.02                    0.0                   0.0\n",
       "621                  US-WY      Wyoming  2020-09-14                        0.0                     0.0           0.0                        0.0                       0.0                    4.15             4.97  ...           0.0                      0.0               0.0                  0.0             0.0                0.0                 0.0          4.37                    0.0                   0.0\n",
       "622                  US-WY      Wyoming  2020-09-21                        0.0                     0.0           0.0                        0.0                       0.0                    5.64             3.67  ...           0.0                      0.0               0.0                  0.0             0.0                0.0                 0.0          4.76                    0.0                   0.0\n",
       "623                  US-WY      Wyoming  2020-09-28                        0.0                     0.0           0.0                        0.0                       0.0                    9.79             4.54  ...           0.0                      0.0               0.0                  0.0             0.0                0.0                 0.0          5.92                    0.0                   0.0\n",
       "\n",
       "[20 rows x 425 columns]"
      ],
      "text/html": "<div>\n<style scoped>\n    .dataframe tbody tr th:only-of-type {\n        vertical-align: middle;\n    }\n\n    .dataframe tbody tr th {\n        vertical-align: top;\n    }\n\n    .dataframe thead th {\n        text-align: right;\n    }\n</style>\n<table border=\"1\" class=\"dataframe\">\n  <thead>\n    <tr style=\"text-align: right;\">\n      <th></th>\n      <th>open_covid_region_code</th>\n      <th>sub_region_1</th>\n      <th>date</th>\n      <th>symptom:Abdominal obesity</th>\n      <th>symptom:Abdominal pain</th>\n      <th>symptom:Acne</th>\n      <th>symptom:Actinic keratosis</th>\n      <th>symptom:Acute bronchitis</th>\n      <th>symptom:Adrenal crisis</th>\n      <th>symptom:Ageusia</th>\n      <th>...</th>\n      <th>symptom:Wart</th>\n      <th>symptom:Water retention</th>\n      <th>symptom:Weakness</th>\n      <th>symptom:Weight gain</th>\n      <th>symptom:Wheeze</th>\n      <th>symptom:Xeroderma</th>\n      <th>symptom:Xerostomia</th>\n      <th>symptom:Yawn</th>\n      <th>symptom:hyperhidrosis</th>\n      <th>symptom:pancreatitis</th>\n    </tr>\n  </thead>\n  <tbody>\n    <tr>\n      <th>0</th>\n      <td>US-AK</td>\n      <td>Alaska</td>\n      <td>2020-01-06</td>\n      <td>0.0</td>\n      <td>0.0</td>\n      <td>0.0</td>\n      <td>0.0</td>\n      <td>0.0</td>\n      <td>12.69</td>\n      <td>0.00</td>\n      <td>...</td>\n      <td>0.0</td>\n      <td>0.0</td>\n      <td>0.0</td>\n      <td>0.0</td>\n      <td>0.0</td>\n      <td>0.0</td>\n      <td>0.0</td>\n      <td>14.28</td>\n      <td>0.0</td>\n      <td>0.0</td>\n    </tr>\n    <tr>\n      <th>1</th>\n      <td>US-AK</td>\n      <td>Alaska</td>\n      <td>2020-01-13</td>\n      <td>0.0</td>\n      <td>0.0</td>\n      <td>0.0</td>\n      <td>0.0</td>\n      <td>0.0</td>\n      <td>9.56</td>\n      <td>0.00</td>\n      <td>...</td>\n      <td>0.0</td>\n      <td>0.0</td>\n      <td>0.0</td>\n      <td>0.0</td>\n      <td>0.0</td>\n      <td>0.0</td>\n      <td>0.0</td>\n      <td>16.26</td>\n      <td>0.0</td>\n      <td>0.0</td>\n    </tr>\n    <tr>\n      <th>2</th>\n      <td>US-AK</td>\n      <td>Alaska</td>\n      <td>2020-01-20</td>\n      <td>0.0</td>\n      <td>0.0</td>\n      <td>0.0</td>\n      <td>0.0</td>\n      <td>0.0</td>\n      <td>0.00</td>\n      <td>0.00</td>\n      <td>...</td>\n      <td>0.0</td>\n      <td>0.0</td>\n      <td>0.0</td>\n      <td>0.0</td>\n      <td>0.0</td>\n      <td>0.0</td>\n      <td>0.0</td>\n      <td>17.48</td>\n      <td>0.0</td>\n      <td>0.0</td>\n    </tr>\n    <tr>\n      <th>3</th>\n      <td>US-AK</td>\n      <td>Alaska</td>\n      <td>2020-01-27</td>\n      <td>0.0</td>\n      <td>0.0</td>\n      <td>0.0</td>\n      <td>0.0</td>\n      <td>0.0</td>\n      <td>15.31</td>\n      <td>7.47</td>\n      <td>...</td>\n      <td>0.0</td>\n      <td>0.0</td>\n      <td>0.0</td>\n      <td>0.0</td>\n      <td>0.0</td>\n      <td>0.0</td>\n      <td>0.0</td>\n      <td>10.93</td>\n      <td>0.0</td>\n      <td>0.0</td>\n    </tr>\n    <tr>\n      <th>4</th>\n      <td>US-AK</td>\n      <td>Alaska</td>\n      <td>2020-02-03</td>\n      <td>0.0</td>\n      <td>0.0</td>\n      <td>0.0</td>\n      <td>0.0</td>\n      <td>0.0</td>\n      <td>8.81</td>\n      <td>0.00</td>\n      <td>...</td>\n      <td>0.0</td>\n      <td>0.0</td>\n      <td>0.0</td>\n      <td>0.0</td>\n      <td>0.0</td>\n      <td>0.0</td>\n      <td>0.0</td>\n      <td>18.93</td>\n      <td>0.0</td>\n      <td>0.0</td>\n    </tr>\n    <tr>\n      <th>5</th>\n      <td>US-AK</td>\n      <td>Alaska</td>\n      <td>2020-02-10</td>\n      <td>0.0</td>\n      <td>0.0</td>\n      <td>0.0</td>\n      <td>0.0</td>\n      <td>0.0</td>\n      <td>11.97</td>\n      <td>0.00</td>\n      <td>...</td>\n      <td>0.0</td>\n      <td>0.0</td>\n      <td>0.0</td>\n      <td>0.0</td>\n      <td>0.0</td>\n      <td>0.0</td>\n      <td>0.0</td>\n      <td>17.05</td>\n      <td>0.0</td>\n      <td>0.0</td>\n    </tr>\n    <tr>\n      <th>6</th>\n      <td>US-AK</td>\n      <td>Alaska</td>\n      <td>2020-02-17</td>\n      <td>0.0</td>\n      <td>0.0</td>\n      <td>0.0</td>\n      <td>0.0</td>\n      <td>0.0</td>\n      <td>9.16</td>\n      <td>0.00</td>\n      <td>...</td>\n      <td>0.0</td>\n      <td>0.0</td>\n      <td>0.0</td>\n      <td>0.0</td>\n      <td>0.0</td>\n      <td>0.0</td>\n      <td>0.0</td>\n      <td>16.62</td>\n      <td>0.0</td>\n      <td>0.0</td>\n    </tr>\n    <tr>\n      <th>7</th>\n      <td>US-AK</td>\n      <td>Alaska</td>\n      <td>2020-02-24</td>\n      <td>0.0</td>\n      <td>0.0</td>\n      <td>0.0</td>\n      <td>0.0</td>\n      <td>0.0</td>\n      <td>10.44</td>\n      <td>6.63</td>\n      <td>...</td>\n      <td>0.0</td>\n      <td>0.0</td>\n      <td>0.0</td>\n      <td>0.0</td>\n      <td>0.0</td>\n      <td>0.0</td>\n      <td>0.0</td>\n      <td>14.42</td>\n      <td>0.0</td>\n      <td>0.0</td>\n    </tr>\n    <tr>\n      <th>8</th>\n      <td>US-AK</td>\n      <td>Alaska</td>\n      <td>2020-03-02</td>\n      <td>0.0</td>\n      <td>0.0</td>\n      <td>0.0</td>\n      <td>0.0</td>\n      <td>0.0</td>\n      <td>14.62</td>\n      <td>0.00</td>\n      <td>...</td>\n      <td>0.0</td>\n      <td>0.0</td>\n      <td>0.0</td>\n      <td>0.0</td>\n      <td>0.0</td>\n      <td>0.0</td>\n      <td>0.0</td>\n      <td>9.30</td>\n      <td>0.0</td>\n      <td>0.0</td>\n    </tr>\n    <tr>\n      <th>9</th>\n      <td>US-AK</td>\n      <td>Alaska</td>\n      <td>2020-03-09</td>\n      <td>0.0</td>\n      <td>0.0</td>\n      <td>0.0</td>\n      <td>0.0</td>\n      <td>0.0</td>\n      <td>10.60</td>\n      <td>0.00</td>\n      <td>...</td>\n      <td>0.0</td>\n      <td>0.0</td>\n      <td>0.0</td>\n      <td>0.0</td>\n      <td>0.0</td>\n      <td>0.0</td>\n      <td>0.0</td>\n      <td>10.77</td>\n      <td>0.0</td>\n      <td>0.0</td>\n    </tr>\n    <tr>\n      <th>614</th>\n      <td>US-WY</td>\n      <td>Wyoming</td>\n      <td>2020-07-27</td>\n      <td>0.0</td>\n      <td>0.0</td>\n      <td>0.0</td>\n      <td>0.0</td>\n      <td>0.0</td>\n      <td>3.44</td>\n      <td>2.75</td>\n      <td>...</td>\n      <td>0.0</td>\n      <td>0.0</td>\n      <td>0.0</td>\n      <td>0.0</td>\n      <td>0.0</td>\n      <td>0.0</td>\n      <td>0.0</td>\n      <td>4.07</td>\n      <td>0.0</td>\n      <td>0.0</td>\n    </tr>\n    <tr>\n      <th>615</th>\n      <td>US-WY</td>\n      <td>Wyoming</td>\n      <td>2020-08-03</td>\n      <td>0.0</td>\n      <td>0.0</td>\n      <td>0.0</td>\n      <td>0.0</td>\n      <td>0.0</td>\n      <td>3.08</td>\n      <td>3.14</td>\n      <td>...</td>\n      <td>0.0</td>\n      <td>0.0</td>\n      <td>0.0</td>\n      <td>0.0</td>\n      <td>0.0</td>\n      <td>0.0</td>\n      <td>0.0</td>\n      <td>4.11</td>\n      <td>0.0</td>\n      <td>0.0</td>\n    </tr>\n    <tr>\n      <th>616</th>\n      <td>US-WY</td>\n      <td>Wyoming</td>\n      <td>2020-08-10</td>\n      <td>0.0</td>\n      <td>0.0</td>\n      <td>0.0</td>\n      <td>0.0</td>\n      <td>0.0</td>\n      <td>3.19</td>\n      <td>0.00</td>\n      <td>...</td>\n      <td>0.0</td>\n      <td>0.0</td>\n      <td>0.0</td>\n      <td>0.0</td>\n      <td>0.0</td>\n      <td>0.0</td>\n      <td>0.0</td>\n      <td>0.00</td>\n      <td>0.0</td>\n      <td>0.0</td>\n    </tr>\n    <tr>\n      <th>617</th>\n      <td>US-WY</td>\n      <td>Wyoming</td>\n      <td>2020-08-17</td>\n      <td>0.0</td>\n      <td>0.0</td>\n      <td>0.0</td>\n      <td>0.0</td>\n      <td>0.0</td>\n      <td>5.95</td>\n      <td>4.10</td>\n      <td>...</td>\n      <td>0.0</td>\n      <td>0.0</td>\n      <td>0.0</td>\n      <td>0.0</td>\n      <td>0.0</td>\n      <td>0.0</td>\n      <td>0.0</td>\n      <td>3.71</td>\n      <td>0.0</td>\n      <td>0.0</td>\n    </tr>\n    <tr>\n      <th>618</th>\n      <td>US-WY</td>\n      <td>Wyoming</td>\n      <td>2020-08-24</td>\n      <td>0.0</td>\n      <td>0.0</td>\n      <td>0.0</td>\n      <td>0.0</td>\n      <td>0.0</td>\n      <td>4.42</td>\n      <td>3.31</td>\n      <td>...</td>\n      <td>0.0</td>\n      <td>0.0</td>\n      <td>0.0</td>\n      <td>0.0</td>\n      <td>0.0</td>\n      <td>0.0</td>\n      <td>0.0</td>\n      <td>3.87</td>\n      <td>0.0</td>\n      <td>0.0</td>\n    </tr>\n    <tr>\n      <th>619</th>\n      <td>US-WY</td>\n      <td>Wyoming</td>\n      <td>2020-08-31</td>\n      <td>0.0</td>\n      <td>0.0</td>\n      <td>0.0</td>\n      <td>0.0</td>\n      <td>0.0</td>\n      <td>5.03</td>\n      <td>2.79</td>\n      <td>...</td>\n      <td>0.0</td>\n      <td>0.0</td>\n      <td>0.0</td>\n      <td>0.0</td>\n      <td>0.0</td>\n      <td>0.0</td>\n      <td>0.0</td>\n      <td>3.63</td>\n      <td>0.0</td>\n      <td>0.0</td>\n    </tr>\n    <tr>\n      <th>620</th>\n      <td>US-WY</td>\n      <td>Wyoming</td>\n      <td>2020-09-07</td>\n      <td>0.0</td>\n      <td>0.0</td>\n      <td>0.0</td>\n      <td>0.0</td>\n      <td>0.0</td>\n      <td>3.36</td>\n      <td>3.25</td>\n      <td>...</td>\n      <td>0.0</td>\n      <td>0.0</td>\n      <td>0.0</td>\n      <td>0.0</td>\n      <td>0.0</td>\n      <td>0.0</td>\n      <td>0.0</td>\n      <td>4.02</td>\n      <td>0.0</td>\n      <td>0.0</td>\n    </tr>\n    <tr>\n      <th>621</th>\n      <td>US-WY</td>\n      <td>Wyoming</td>\n      <td>2020-09-14</td>\n      <td>0.0</td>\n      <td>0.0</td>\n      <td>0.0</td>\n      <td>0.0</td>\n      <td>0.0</td>\n      <td>4.15</td>\n      <td>4.97</td>\n      <td>...</td>\n      <td>0.0</td>\n      <td>0.0</td>\n      <td>0.0</td>\n      <td>0.0</td>\n      <td>0.0</td>\n      <td>0.0</td>\n      <td>0.0</td>\n      <td>4.37</td>\n      <td>0.0</td>\n      <td>0.0</td>\n    </tr>\n    <tr>\n      <th>622</th>\n      <td>US-WY</td>\n      <td>Wyoming</td>\n      <td>2020-09-21</td>\n      <td>0.0</td>\n      <td>0.0</td>\n      <td>0.0</td>\n      <td>0.0</td>\n      <td>0.0</td>\n      <td>5.64</td>\n      <td>3.67</td>\n      <td>...</td>\n      <td>0.0</td>\n      <td>0.0</td>\n      <td>0.0</td>\n      <td>0.0</td>\n      <td>0.0</td>\n      <td>0.0</td>\n      <td>0.0</td>\n      <td>4.76</td>\n      <td>0.0</td>\n      <td>0.0</td>\n    </tr>\n    <tr>\n      <th>623</th>\n      <td>US-WY</td>\n      <td>Wyoming</td>\n      <td>2020-09-28</td>\n      <td>0.0</td>\n      <td>0.0</td>\n      <td>0.0</td>\n      <td>0.0</td>\n      <td>0.0</td>\n      <td>9.79</td>\n      <td>4.54</td>\n      <td>...</td>\n      <td>0.0</td>\n      <td>0.0</td>\n      <td>0.0</td>\n      <td>0.0</td>\n      <td>0.0</td>\n      <td>0.0</td>\n      <td>0.0</td>\n      <td>5.92</td>\n      <td>0.0</td>\n      <td>0.0</td>\n    </tr>\n  </tbody>\n</table>\n<p>20 rows × 425 columns</p>\n</div>"
     },
     "metadata": {},
     "execution_count": 6
    }
   ],
   "source": [
    "search_trend_df.iloc[np.r_[0:10,-10:0]]"
   ]
  },
  {
   "source": [
    "Thus, we reduce the number of columns from 430 to 123\n",
    "\n",
    "Yet, we still see a lot of NaNs, let's check the number of NaNs in each column"
   ],
   "cell_type": "markdown",
   "metadata": {}
  },
  {
   "cell_type": "code",
   "execution_count": 7,
   "metadata": {},
   "outputs": [
    {
     "output_type": "execute_result",
     "data": {
      "text/plain": [
       "open_covid_region_code       0\n",
       "sub_region_1                 0\n",
       "date                         0\n",
       "symptom:Abdominal obesity    0\n",
       "symptom:Abdominal pain       0\n",
       "                            ..\n",
       "symptom:Xeroderma            0\n",
       "symptom:Xerostomia           0\n",
       "symptom:Yawn                 0\n",
       "symptom:hyperhidrosis        0\n",
       "symptom:pancreatitis         0\n",
       "Length: 425, dtype: int64"
      ]
     },
     "metadata": {},
     "execution_count": 7
    }
   ],
   "source": [
    "search_trend_df.isnull().sum()"
   ]
  },
  {
   "source": [
    "In case we need to drop several columns that contains too many NaNs later, we will modify code below to achieve that"
   ],
   "cell_type": "markdown",
   "metadata": {}
  },
  {
   "source": [
    "# cols_drop = []\n",
    "# for col in search_trend_df.columns.values:\n",
    "#     if search_trend_df[col].isnull().sum()/ (float)len(search_trend_df) > .75\n",
    "#         cols_drop.append(col)\n",
    "# search_trend_df = search_trend_df.drop(cols_drop, axis=1)"
   ],
   "cell_type": "code",
   "metadata": {},
   "execution_count": 8,
   "outputs": []
  },
  {
   "source": [
    "### Now, it's time to clean the hospitalization dataset\n",
    "\n",
    "We still need to have a look at the dataset first"
   ],
   "cell_type": "markdown",
   "metadata": {}
  },
  {
   "cell_type": "code",
   "execution_count": 9,
   "metadata": {},
   "outputs": [
    {
     "output_type": "execute_result",
     "data": {
      "text/plain": [
       "      open_covid_region_code  region_name        date  cases_cumulative  cases_new  cases_cumulative_per_million  cases_new_per_million  deaths_cumulative  deaths_new  deaths_cumulative_per_million  ...  stringency_index  stringency_index_for_display  stringency_legacy_index  stringency_legacy_index_for_display  government_response_index government_response_index_for_display  containment_health_index  containment_health_index_for_display  economic_support_index  economic_support_index_for_display\n",
       "0                        AFG  Afghanistan  2019-12-31               0.0        0.0                           0.0                    0.0                0.0         0.0                            0.0  ...               NaN                           NaN                      NaN                                  NaN                        NaN                                   NaN                       NaN                                   NaN                     NaN                                 NaN\n",
       "1                        AFG  Afghanistan  2020-01-01               0.0        0.0                           0.0                    0.0                0.0         0.0                            0.0  ...              0.00                          0.00                     0.00                                 0.00                       0.00                                  0.00                      0.00                                  0.00                     0.0                                 0.0\n",
       "2                        AFG  Afghanistan  2020-01-02               0.0        0.0                           0.0                    0.0                0.0         0.0                            0.0  ...              0.00                          0.00                     0.00                                 0.00                       0.00                                  0.00                      0.00                                  0.00                     0.0                                 0.0\n",
       "3                        AFG  Afghanistan  2020-01-03               0.0        0.0                           0.0                    0.0                0.0         0.0                            0.0  ...              0.00                          0.00                     0.00                                 0.00                       0.00                                  0.00                      0.00                                  0.00                     0.0                                 0.0\n",
       "4                        AFG  Afghanistan  2020-01-04               0.0        0.0                           0.0                    0.0                0.0         0.0                            0.0  ...              0.00                          0.00                     0.00                                 0.00                       0.00                                  0.00                      0.00                                  0.00                     0.0                                 0.0\n",
       "...                      ...          ...         ...               ...        ...                           ...                    ...                ...         ...                            ...  ...               ...                           ...                      ...                                  ...                        ...                                   ...                       ...                                   ...                     ...                                 ...\n",
       "98941                    VUT      Vanuatu  2020-10-05               NaN        NaN                           NaN                    NaN                NaN         NaN                            NaN  ...             22.22                         22.22                    28.57                                28.57                      25.64                                 25.64                     25.76                                 25.76                    25.0                                25.0\n",
       "98942                    VUT      Vanuatu  2020-10-06               NaN        NaN                           NaN                    NaN                NaN         NaN                            NaN  ...               NaN                         22.22                      NaN                                28.57                        NaN                                 25.64                       NaN                                 25.76                     NaN                                25.0\n",
       "98943                    VUT      Vanuatu  2020-10-07               NaN        NaN                           NaN                    NaN                NaN         NaN                            NaN  ...               NaN                         22.22                      NaN                                28.57                        NaN                                 25.64                       NaN                                 25.76                     NaN                                25.0\n",
       "98944                    VUT      Vanuatu  2020-10-08               NaN        NaN                           NaN                    NaN                NaN         NaN                            NaN  ...               NaN                         22.22                      NaN                                28.57                        NaN                                 25.64                       NaN                                 25.76                     NaN                                25.0\n",
       "98945                    VUT      Vanuatu  2020-10-09               NaN        NaN                           NaN                    NaN                NaN         NaN                            NaN  ...               NaN                         22.22                      NaN                                28.57                        NaN                                 25.64                       NaN                                 25.76                     NaN                                25.0\n",
       "\n",
       "[98946 rows x 62 columns]"
      ],
      "text/html": "<div>\n<style scoped>\n    .dataframe tbody tr th:only-of-type {\n        vertical-align: middle;\n    }\n\n    .dataframe tbody tr th {\n        vertical-align: top;\n    }\n\n    .dataframe thead th {\n        text-align: right;\n    }\n</style>\n<table border=\"1\" class=\"dataframe\">\n  <thead>\n    <tr style=\"text-align: right;\">\n      <th></th>\n      <th>open_covid_region_code</th>\n      <th>region_name</th>\n      <th>date</th>\n      <th>cases_cumulative</th>\n      <th>cases_new</th>\n      <th>cases_cumulative_per_million</th>\n      <th>cases_new_per_million</th>\n      <th>deaths_cumulative</th>\n      <th>deaths_new</th>\n      <th>deaths_cumulative_per_million</th>\n      <th>...</th>\n      <th>stringency_index</th>\n      <th>stringency_index_for_display</th>\n      <th>stringency_legacy_index</th>\n      <th>stringency_legacy_index_for_display</th>\n      <th>government_response_index</th>\n      <th>government_response_index_for_display</th>\n      <th>containment_health_index</th>\n      <th>containment_health_index_for_display</th>\n      <th>economic_support_index</th>\n      <th>economic_support_index_for_display</th>\n    </tr>\n  </thead>\n  <tbody>\n    <tr>\n      <th>0</th>\n      <td>AFG</td>\n      <td>Afghanistan</td>\n      <td>2019-12-31</td>\n      <td>0.0</td>\n      <td>0.0</td>\n      <td>0.0</td>\n      <td>0.0</td>\n      <td>0.0</td>\n      <td>0.0</td>\n      <td>0.0</td>\n      <td>...</td>\n      <td>NaN</td>\n      <td>NaN</td>\n      <td>NaN</td>\n      <td>NaN</td>\n      <td>NaN</td>\n      <td>NaN</td>\n      <td>NaN</td>\n      <td>NaN</td>\n      <td>NaN</td>\n      <td>NaN</td>\n    </tr>\n    <tr>\n      <th>1</th>\n      <td>AFG</td>\n      <td>Afghanistan</td>\n      <td>2020-01-01</td>\n      <td>0.0</td>\n      <td>0.0</td>\n      <td>0.0</td>\n      <td>0.0</td>\n      <td>0.0</td>\n      <td>0.0</td>\n      <td>0.0</td>\n      <td>...</td>\n      <td>0.00</td>\n      <td>0.00</td>\n      <td>0.00</td>\n      <td>0.00</td>\n      <td>0.00</td>\n      <td>0.00</td>\n      <td>0.00</td>\n      <td>0.00</td>\n      <td>0.0</td>\n      <td>0.0</td>\n    </tr>\n    <tr>\n      <th>2</th>\n      <td>AFG</td>\n      <td>Afghanistan</td>\n      <td>2020-01-02</td>\n      <td>0.0</td>\n      <td>0.0</td>\n      <td>0.0</td>\n      <td>0.0</td>\n      <td>0.0</td>\n      <td>0.0</td>\n      <td>0.0</td>\n      <td>...</td>\n      <td>0.00</td>\n      <td>0.00</td>\n      <td>0.00</td>\n      <td>0.00</td>\n      <td>0.00</td>\n      <td>0.00</td>\n      <td>0.00</td>\n      <td>0.00</td>\n      <td>0.0</td>\n      <td>0.0</td>\n    </tr>\n    <tr>\n      <th>3</th>\n      <td>AFG</td>\n      <td>Afghanistan</td>\n      <td>2020-01-03</td>\n      <td>0.0</td>\n      <td>0.0</td>\n      <td>0.0</td>\n      <td>0.0</td>\n      <td>0.0</td>\n      <td>0.0</td>\n      <td>0.0</td>\n      <td>...</td>\n      <td>0.00</td>\n      <td>0.00</td>\n      <td>0.00</td>\n      <td>0.00</td>\n      <td>0.00</td>\n      <td>0.00</td>\n      <td>0.00</td>\n      <td>0.00</td>\n      <td>0.0</td>\n      <td>0.0</td>\n    </tr>\n    <tr>\n      <th>4</th>\n      <td>AFG</td>\n      <td>Afghanistan</td>\n      <td>2020-01-04</td>\n      <td>0.0</td>\n      <td>0.0</td>\n      <td>0.0</td>\n      <td>0.0</td>\n      <td>0.0</td>\n      <td>0.0</td>\n      <td>0.0</td>\n      <td>...</td>\n      <td>0.00</td>\n      <td>0.00</td>\n      <td>0.00</td>\n      <td>0.00</td>\n      <td>0.00</td>\n      <td>0.00</td>\n      <td>0.00</td>\n      <td>0.00</td>\n      <td>0.0</td>\n      <td>0.0</td>\n    </tr>\n    <tr>\n      <th>...</th>\n      <td>...</td>\n      <td>...</td>\n      <td>...</td>\n      <td>...</td>\n      <td>...</td>\n      <td>...</td>\n      <td>...</td>\n      <td>...</td>\n      <td>...</td>\n      <td>...</td>\n      <td>...</td>\n      <td>...</td>\n      <td>...</td>\n      <td>...</td>\n      <td>...</td>\n      <td>...</td>\n      <td>...</td>\n      <td>...</td>\n      <td>...</td>\n      <td>...</td>\n      <td>...</td>\n    </tr>\n    <tr>\n      <th>98941</th>\n      <td>VUT</td>\n      <td>Vanuatu</td>\n      <td>2020-10-05</td>\n      <td>NaN</td>\n      <td>NaN</td>\n      <td>NaN</td>\n      <td>NaN</td>\n      <td>NaN</td>\n      <td>NaN</td>\n      <td>NaN</td>\n      <td>...</td>\n      <td>22.22</td>\n      <td>22.22</td>\n      <td>28.57</td>\n      <td>28.57</td>\n      <td>25.64</td>\n      <td>25.64</td>\n      <td>25.76</td>\n      <td>25.76</td>\n      <td>25.0</td>\n      <td>25.0</td>\n    </tr>\n    <tr>\n      <th>98942</th>\n      <td>VUT</td>\n      <td>Vanuatu</td>\n      <td>2020-10-06</td>\n      <td>NaN</td>\n      <td>NaN</td>\n      <td>NaN</td>\n      <td>NaN</td>\n      <td>NaN</td>\n      <td>NaN</td>\n      <td>NaN</td>\n      <td>...</td>\n      <td>NaN</td>\n      <td>22.22</td>\n      <td>NaN</td>\n      <td>28.57</td>\n      <td>NaN</td>\n      <td>25.64</td>\n      <td>NaN</td>\n      <td>25.76</td>\n      <td>NaN</td>\n      <td>25.0</td>\n    </tr>\n    <tr>\n      <th>98943</th>\n      <td>VUT</td>\n      <td>Vanuatu</td>\n      <td>2020-10-07</td>\n      <td>NaN</td>\n      <td>NaN</td>\n      <td>NaN</td>\n      <td>NaN</td>\n      <td>NaN</td>\n      <td>NaN</td>\n      <td>NaN</td>\n      <td>...</td>\n      <td>NaN</td>\n      <td>22.22</td>\n      <td>NaN</td>\n      <td>28.57</td>\n      <td>NaN</td>\n      <td>25.64</td>\n      <td>NaN</td>\n      <td>25.76</td>\n      <td>NaN</td>\n      <td>25.0</td>\n    </tr>\n    <tr>\n      <th>98944</th>\n      <td>VUT</td>\n      <td>Vanuatu</td>\n      <td>2020-10-08</td>\n      <td>NaN</td>\n      <td>NaN</td>\n      <td>NaN</td>\n      <td>NaN</td>\n      <td>NaN</td>\n      <td>NaN</td>\n      <td>NaN</td>\n      <td>...</td>\n      <td>NaN</td>\n      <td>22.22</td>\n      <td>NaN</td>\n      <td>28.57</td>\n      <td>NaN</td>\n      <td>25.64</td>\n      <td>NaN</td>\n      <td>25.76</td>\n      <td>NaN</td>\n      <td>25.0</td>\n    </tr>\n    <tr>\n      <th>98945</th>\n      <td>VUT</td>\n      <td>Vanuatu</td>\n      <td>2020-10-09</td>\n      <td>NaN</td>\n      <td>NaN</td>\n      <td>NaN</td>\n      <td>NaN</td>\n      <td>NaN</td>\n      <td>NaN</td>\n      <td>NaN</td>\n      <td>...</td>\n      <td>NaN</td>\n      <td>22.22</td>\n      <td>NaN</td>\n      <td>28.57</td>\n      <td>NaN</td>\n      <td>25.64</td>\n      <td>NaN</td>\n      <td>25.76</td>\n      <td>NaN</td>\n      <td>25.0</td>\n    </tr>\n  </tbody>\n</table>\n<p>98946 rows × 62 columns</p>\n</div>"
     },
     "metadata": {},
     "execution_count": 9
    }
   ],
   "source": [
    "hospitalization_df"
   ]
  },
  {
   "source": [
    "Since we only need `open_covid_region_code`, `date`, and `hospitalized_new`, we will select only these columns\n",
    "\n",
    "And in this mini-project only, we will use only data gathered from US\n"
   ],
   "cell_type": "markdown",
   "metadata": {}
  },
  {
   "cell_type": "code",
   "execution_count": 10,
   "metadata": {},
   "outputs": [
    {
     "output_type": "execute_result",
     "data": {
      "text/plain": [
       "      open_covid_region_code        date  hospitalized_new\n",
       "85278                  US-WY  2020-03-07               0.0\n",
       "85279                  US-WY  2020-03-08               0.0\n",
       "85280                  US-WY  2020-03-09               0.0\n",
       "85281                  US-WY  2020-03-10               0.0\n",
       "85282                  US-WY  2020-03-11               0.0\n",
       "...                      ...         ...               ...\n",
       "97526                  US-AK  2020-10-04               0.0\n",
       "97527                  US-AK  2020-10-05               0.0\n",
       "97528                  US-AK  2020-10-06               0.0\n",
       "97529                  US-AK  2020-10-07               0.0\n",
       "97530                  US-AK  2020-10-08               0.0\n",
       "\n",
       "[12253 rows x 3 columns]"
      ],
      "text/html": "<div>\n<style scoped>\n    .dataframe tbody tr th:only-of-type {\n        vertical-align: middle;\n    }\n\n    .dataframe tbody tr th {\n        vertical-align: top;\n    }\n\n    .dataframe thead th {\n        text-align: right;\n    }\n</style>\n<table border=\"1\" class=\"dataframe\">\n  <thead>\n    <tr style=\"text-align: right;\">\n      <th></th>\n      <th>open_covid_region_code</th>\n      <th>date</th>\n      <th>hospitalized_new</th>\n    </tr>\n  </thead>\n  <tbody>\n    <tr>\n      <th>85278</th>\n      <td>US-WY</td>\n      <td>2020-03-07</td>\n      <td>0.0</td>\n    </tr>\n    <tr>\n      <th>85279</th>\n      <td>US-WY</td>\n      <td>2020-03-08</td>\n      <td>0.0</td>\n    </tr>\n    <tr>\n      <th>85280</th>\n      <td>US-WY</td>\n      <td>2020-03-09</td>\n      <td>0.0</td>\n    </tr>\n    <tr>\n      <th>85281</th>\n      <td>US-WY</td>\n      <td>2020-03-10</td>\n      <td>0.0</td>\n    </tr>\n    <tr>\n      <th>85282</th>\n      <td>US-WY</td>\n      <td>2020-03-11</td>\n      <td>0.0</td>\n    </tr>\n    <tr>\n      <th>...</th>\n      <td>...</td>\n      <td>...</td>\n      <td>...</td>\n    </tr>\n    <tr>\n      <th>97526</th>\n      <td>US-AK</td>\n      <td>2020-10-04</td>\n      <td>0.0</td>\n    </tr>\n    <tr>\n      <th>97527</th>\n      <td>US-AK</td>\n      <td>2020-10-05</td>\n      <td>0.0</td>\n    </tr>\n    <tr>\n      <th>97528</th>\n      <td>US-AK</td>\n      <td>2020-10-06</td>\n      <td>0.0</td>\n    </tr>\n    <tr>\n      <th>97529</th>\n      <td>US-AK</td>\n      <td>2020-10-07</td>\n      <td>0.0</td>\n    </tr>\n    <tr>\n      <th>97530</th>\n      <td>US-AK</td>\n      <td>2020-10-08</td>\n      <td>0.0</td>\n    </tr>\n  </tbody>\n</table>\n<p>12253 rows × 3 columns</p>\n</div>"
     },
     "metadata": {},
     "execution_count": 10
    }
   ],
   "source": [
    "hospitalization_df = hospitalization_df[['open_covid_region_code','date','hospitalized_new']]\n",
    "hospitalization_df = hospitalization_df[hospitalization_df['open_covid_region_code'].str.contains('^US-')]\n",
    "hospitalization_df"
   ]
  },
  {
   "source": [
    "Since the data here are daily basis, and the data in search_trend_df are weekly basis, we need to convert these to weekly basis"
   ],
   "cell_type": "markdown",
   "metadata": {}
  },
  {
   "cell_type": "code",
   "execution_count": 11,
   "metadata": {},
   "outputs": [
    {
     "output_type": "execute_result",
     "data": {
      "text/plain": [
       "     open_covid_region_code       date  hospitalized_new\n",
       "0                     US-AK 2020-03-03               0.0\n",
       "1                     US-AK 2020-03-10               0.0\n",
       "2                     US-AK 2020-03-17               0.0\n",
       "3                     US-AK 2020-03-24               6.0\n",
       "4                     US-AK 2020-03-31              14.0\n",
       "...                     ...        ...               ...\n",
       "1795                  US-WY 2020-09-08               9.0\n",
       "1796                  US-WY 2020-09-15              15.0\n",
       "1797                  US-WY 2020-09-22              19.0\n",
       "1798                  US-WY 2020-09-29              20.0\n",
       "1799                  US-WY 2020-10-06              31.0\n",
       "\n",
       "[1800 rows x 3 columns]"
      ],
      "text/html": "<div>\n<style scoped>\n    .dataframe tbody tr th:only-of-type {\n        vertical-align: middle;\n    }\n\n    .dataframe tbody tr th {\n        vertical-align: top;\n    }\n\n    .dataframe thead th {\n        text-align: right;\n    }\n</style>\n<table border=\"1\" class=\"dataframe\">\n  <thead>\n    <tr style=\"text-align: right;\">\n      <th></th>\n      <th>open_covid_region_code</th>\n      <th>date</th>\n      <th>hospitalized_new</th>\n    </tr>\n  </thead>\n  <tbody>\n    <tr>\n      <th>0</th>\n      <td>US-AK</td>\n      <td>2020-03-03</td>\n      <td>0.0</td>\n    </tr>\n    <tr>\n      <th>1</th>\n      <td>US-AK</td>\n      <td>2020-03-10</td>\n      <td>0.0</td>\n    </tr>\n    <tr>\n      <th>2</th>\n      <td>US-AK</td>\n      <td>2020-03-17</td>\n      <td>0.0</td>\n    </tr>\n    <tr>\n      <th>3</th>\n      <td>US-AK</td>\n      <td>2020-03-24</td>\n      <td>6.0</td>\n    </tr>\n    <tr>\n      <th>4</th>\n      <td>US-AK</td>\n      <td>2020-03-31</td>\n      <td>14.0</td>\n    </tr>\n    <tr>\n      <th>...</th>\n      <td>...</td>\n      <td>...</td>\n      <td>...</td>\n    </tr>\n    <tr>\n      <th>1795</th>\n      <td>US-WY</td>\n      <td>2020-09-08</td>\n      <td>9.0</td>\n    </tr>\n    <tr>\n      <th>1796</th>\n      <td>US-WY</td>\n      <td>2020-09-15</td>\n      <td>15.0</td>\n    </tr>\n    <tr>\n      <th>1797</th>\n      <td>US-WY</td>\n      <td>2020-09-22</td>\n      <td>19.0</td>\n    </tr>\n    <tr>\n      <th>1798</th>\n      <td>US-WY</td>\n      <td>2020-09-29</td>\n      <td>20.0</td>\n    </tr>\n    <tr>\n      <th>1799</th>\n      <td>US-WY</td>\n      <td>2020-10-06</td>\n      <td>31.0</td>\n    </tr>\n  </tbody>\n</table>\n<p>1800 rows × 3 columns</p>\n</div>"
     },
     "metadata": {},
     "execution_count": 11
    }
   ],
   "source": [
    "hospitalization_df['date'] = pd.to_datetime(hospitalization_df['date'], format='%Y-%m-%d')\n",
    "hospitalization_df = hospitalization_df.groupby(['open_covid_region_code',]).resample('W', on='date',loffset='1d').sum()\n",
    "hospitalization_df = hospitalization_df.reset_index()\n",
    "hospitalization_df"
   ]
  },
  {
   "source": [
    "now the cleanning is done, we merge the datasets\n",
    "\n",
    "We also drop column `open_covid_region_code` since we already have `sub_region_1` \n",
    "\n",
    "For future purpose, we rename `sub_region_1` to `region_name`"
   ],
   "cell_type": "markdown",
   "metadata": {}
  },
  {
   "cell_type": "code",
   "execution_count": 18,
   "metadata": {},
   "outputs": [
    {
     "output_type": "execute_result",
     "data": {
      "text/plain": [
       "Empty DataFrame\n",
       "Columns: [region_name, date, symptom:Abdominal obesity, symptom:Abdominal pain, symptom:Acne, symptom:Actinic keratosis, symptom:Acute bronchitis, symptom:Adrenal crisis, symptom:Ageusia, symptom:Alcoholism, symptom:Allergic conjunctivitis, symptom:Allergy, symptom:Amblyopia, symptom:Amenorrhea, symptom:Amnesia, symptom:Anal fissure, symptom:Anaphylaxis, symptom:Anemia, symptom:Angina pectoris, symptom:Angioedema, symptom:Angular cheilitis, symptom:Anosmia, symptom:Anxiety, symptom:Aphasia, symptom:Aphonia, symptom:Apnea, symptom:Arthralgia, symptom:Arthritis, symptom:Ascites, symptom:Asperger syndrome, symptom:Asphyxia, symptom:Asthma, symptom:Astigmatism, symptom:Ataxia, symptom:Atheroma, symptom:Attention deficit hyperactivity disorder, symptom:Auditory hallucination, symptom:Autoimmune disease, symptom:Avoidant personality disorder, symptom:Back pain, symptom:Bacterial vaginosis, symptom:Balance disorder, symptom:Beau's lines, symptom:Bell's palsy, symptom:Biliary colic, symptom:Binge eating, symptom:Bleeding, symptom:Bleeding on probing, symptom:Blepharospasm, symptom:Bloating, symptom:Blood in stool, symptom:Blurred vision, symptom:Blushing, symptom:Boil, symptom:Bone fracture, symptom:Bone tumor, symptom:Bowel obstruction, symptom:Bradycardia, symptom:Braxton Hicks contractions, symptom:Breakthrough bleeding, symptom:Breast pain, symptom:Bronchitis, symptom:Bruise, symptom:Bruxism, symptom:Bunion, symptom:Burn, symptom:Burning Chest Pain, symptom:Burning mouth syndrome, symptom:Candidiasis, symptom:Canker sore, symptom:Cardiac arrest, symptom:Carpal tunnel syndrome, symptom:Cataplexy, symptom:Cataract, symptom:Chancre, symptom:Cheilitis, symptom:Chest pain, symptom:Chills, symptom:Chorea, symptom:Chronic pain, symptom:Cirrhosis, symptom:Cleft lip and cleft palate, symptom:Clouding of consciousness, symptom:Cluster headache, symptom:Colitis, symptom:Coma, symptom:Common cold, symptom:Compulsive behavior, symptom:Compulsive hoarding, symptom:Confusion, symptom:Congenital heart defect, symptom:Conjunctivitis, symptom:Constipation, symptom:Convulsion, symptom:Cough, symptom:Crackles, symptom:Cramp, symptom:Crepitus, symptom:Croup, symptom:Cyanosis, ...]\n",
       "Index: []\n",
       "\n",
       "[0 rows x 425 columns]"
      ],
      "text/html": "<div>\n<style scoped>\n    .dataframe tbody tr th:only-of-type {\n        vertical-align: middle;\n    }\n\n    .dataframe tbody tr th {\n        vertical-align: top;\n    }\n\n    .dataframe thead th {\n        text-align: right;\n    }\n</style>\n<table border=\"1\" class=\"dataframe\">\n  <thead>\n    <tr style=\"text-align: right;\">\n      <th></th>\n      <th>region_name</th>\n      <th>date</th>\n      <th>symptom:Abdominal obesity</th>\n      <th>symptom:Abdominal pain</th>\n      <th>symptom:Acne</th>\n      <th>symptom:Actinic keratosis</th>\n      <th>symptom:Acute bronchitis</th>\n      <th>symptom:Adrenal crisis</th>\n      <th>symptom:Ageusia</th>\n      <th>symptom:Alcoholism</th>\n      <th>...</th>\n      <th>symptom:Water retention</th>\n      <th>symptom:Weakness</th>\n      <th>symptom:Weight gain</th>\n      <th>symptom:Wheeze</th>\n      <th>symptom:Xeroderma</th>\n      <th>symptom:Xerostomia</th>\n      <th>symptom:Yawn</th>\n      <th>symptom:hyperhidrosis</th>\n      <th>symptom:pancreatitis</th>\n      <th>hospitalized_new</th>\n    </tr>\n  </thead>\n  <tbody>\n  </tbody>\n</table>\n<p>0 rows × 425 columns</p>\n</div>"
     },
     "metadata": {},
     "execution_count": 18
    }
   ],
   "source": [
    "search_trend_df['date'] = pd.to_datetime(search_trend_df['date'], format='%Y-%m-%d')\n",
    "result_df = search_trend_df.merge(hospitalization_df, on=['open_covid_region_code', 'date'])\n",
    "result_df = result_df.rename({'sub_region_1': 'region_name'}, axis=1)\n",
    "result_df = result_df.drop('open_covid_region_code',axis=1)\n",
    "result_df"
   ]
  },
  {
   "source": [
    "We may need to use the dataframe in another file, so we export it as a CSV file\n",
    "\n",
    "And also, we do not want to have index in our generated CSV file, so we use `index=False`"
   ],
   "cell_type": "markdown",
   "metadata": {}
  },
  {
   "cell_type": "code",
   "execution_count": 13,
   "metadata": {},
   "outputs": [],
   "source": [
    "result_df.to_csv('result.csv', index=False)"
   ]
  },
  {
   "source": [
    "### The cleaning process is done"
   ],
   "cell_type": "markdown",
   "metadata": {}
  }
 ],
 "metadata": {
  "kernelspec": {
   "name": "Python 3.7.7 64-bit",
   "display_name": "Python 3.7.7 64-bit",
   "metadata": {
    "interpreter": {
     "hash": "aee8b7b246df8f9039afb4144a1f6fd8d2ca17a180786b69acc140d282b71a49"
    }
   }
  },
  "language_info": {
   "codemirror_mode": {
    "name": "ipython",
    "version": 2
   },
   "file_extension": ".py",
   "mimetype": "text/x-python",
   "name": "python",
   "nbconvert_exporter": "python",
   "pygments_lexer": "ipython2",
   "version": "3.7.7-final"
  }
 },
 "nbformat": 4,
 "nbformat_minor": 0
}