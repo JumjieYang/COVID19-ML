{
 "cells": [
  {
   "source": [
    "#### import the required libs (numpy and pandas)"
   ],
   "cell_type": "markdown",
   "metadata": {
    "collapsed": true
   }
  },
  {
   "cell_type": "code",
   "execution_count": 1,
   "metadata": {},
   "outputs": [],
   "source": [
    "import pandas as pd\n",
    "import numpy as np\n",
    "pd.set_option('expand_frame_repr', False)"
   ]
  },
  {
   "source": [
    "#### load csvs to pandas dataframes, we will use online data for the best accuracy"
   ],
   "cell_type": "markdown",
   "metadata": {}
  },
  {
   "cell_type": "code",
   "execution_count": 2,
   "metadata": {},
   "outputs": [],
   "source": [
    "search_trend_url =\"https://raw.githubusercontent.com/google-research/open-covid-19-data/master/data/exports/search_trends_symptoms_dataset/United%20States%20of%20America/2020_US_weekly_symptoms_dataset.csv\"\n",
    "hospitalization_url =\"https://raw.githubusercontent.com/google-research/open-covid-19-data/master/data/exports/cc_by/aggregated_cc_by.csv\"\n",
    "search_trend_df = pd.read_csv(search_trend_url)\n",
    "hospitalization_df = pd.read_csv(hospitalization_url)\n"
   ]
  },
  {
   "source": [
    "### We will try to clean the search trend dataset first\n",
    "\n",
    "after loading the dataset to pandas dataframe, we will check how many parameters does the dataframe contains"
   ],
   "cell_type": "markdown",
   "metadata": {}
  },
  {
   "cell_type": "code",
   "execution_count": 3,
   "metadata": {},
   "outputs": [
    {
     "output_type": "execute_result",
     "data": {
      "text/plain": [
       "430"
      ]
     },
     "metadata": {},
     "execution_count": 3
    }
   ],
   "source": [
    "len(search_trend_df.columns.values)"
   ]
  },
  {
   "source": [
    "#### Since we have 430 parameters, we now examine the data, and try to determine if we can drop some of the columns to avoid over-fitting"
   ],
   "cell_type": "markdown",
   "metadata": {}
  },
  {
   "cell_type": "code",
   "execution_count": 4,
   "metadata": {},
   "outputs": [
    {
     "output_type": "execute_result",
     "data": {
      "text/plain": [
       "    open_covid_region_code country_region_code country_region sub_region_1 sub_region_1_code  sub_region_2  sub_region_2_code        date  symptom:Abdominal obesity  symptom:Abdominal pain  ...  symptom:Wart  symptom:Water retention  symptom:Weakness  symptom:Weight gain  symptom:Wheeze  symptom:Xeroderma  symptom:Xerostomia  symptom:Yawn  symptom:hyperhidrosis  symptom:pancreatitis\n",
       "0                    US-AK                  US  United States       Alaska             US-AK           NaN                NaN  2020-01-06                        NaN                     NaN  ...           NaN                      NaN               NaN                  NaN             NaN                NaN                 NaN         14.28                    NaN                   NaN\n",
       "1                    US-AK                  US  United States       Alaska             US-AK           NaN                NaN  2020-01-13                        NaN                     NaN  ...           NaN                      NaN               NaN                  NaN             NaN                NaN                 NaN         16.26                    NaN                   NaN\n",
       "2                    US-AK                  US  United States       Alaska             US-AK           NaN                NaN  2020-01-20                        NaN                     NaN  ...           NaN                      NaN               NaN                  NaN             NaN                NaN                 NaN         17.48                    NaN                   NaN\n",
       "3                    US-AK                  US  United States       Alaska             US-AK           NaN                NaN  2020-01-27                        NaN                     NaN  ...           NaN                      NaN               NaN                  NaN             NaN                NaN                 NaN         10.93                    NaN                   NaN\n",
       "4                    US-AK                  US  United States       Alaska             US-AK           NaN                NaN  2020-02-03                        NaN                     NaN  ...           NaN                      NaN               NaN                  NaN             NaN                NaN                 NaN         18.93                    NaN                   NaN\n",
       "5                    US-AK                  US  United States       Alaska             US-AK           NaN                NaN  2020-02-10                        NaN                     NaN  ...           NaN                      NaN               NaN                  NaN             NaN                NaN                 NaN         17.05                    NaN                   NaN\n",
       "6                    US-AK                  US  United States       Alaska             US-AK           NaN                NaN  2020-02-17                        NaN                     NaN  ...           NaN                      NaN               NaN                  NaN             NaN                NaN                 NaN         16.62                    NaN                   NaN\n",
       "7                    US-AK                  US  United States       Alaska             US-AK           NaN                NaN  2020-02-24                        NaN                     NaN  ...           NaN                      NaN               NaN                  NaN             NaN                NaN                 NaN         14.42                    NaN                   NaN\n",
       "8                    US-AK                  US  United States       Alaska             US-AK           NaN                NaN  2020-03-02                        NaN                     NaN  ...           NaN                      NaN               NaN                  NaN             NaN                NaN                 NaN          9.30                    NaN                   NaN\n",
       "9                    US-AK                  US  United States       Alaska             US-AK           NaN                NaN  2020-03-09                        NaN                     NaN  ...           NaN                      NaN               NaN                  NaN             NaN                NaN                 NaN         10.77                    NaN                   NaN\n",
       "614                  US-WY                  US  United States      Wyoming             US-WY           NaN                NaN  2020-07-27                        NaN                     NaN  ...           NaN                      NaN               NaN                  NaN             NaN                NaN                 NaN          4.07                    NaN                   NaN\n",
       "615                  US-WY                  US  United States      Wyoming             US-WY           NaN                NaN  2020-08-03                        NaN                     NaN  ...           NaN                      NaN               NaN                  NaN             NaN                NaN                 NaN          4.11                    NaN                   NaN\n",
       "616                  US-WY                  US  United States      Wyoming             US-WY           NaN                NaN  2020-08-10                        NaN                     NaN  ...           NaN                      NaN               NaN                  NaN             NaN                NaN                 NaN           NaN                    NaN                   NaN\n",
       "617                  US-WY                  US  United States      Wyoming             US-WY           NaN                NaN  2020-08-17                        NaN                     NaN  ...           NaN                      NaN               NaN                  NaN             NaN                NaN                 NaN          3.71                    NaN                   NaN\n",
       "618                  US-WY                  US  United States      Wyoming             US-WY           NaN                NaN  2020-08-24                        NaN                     NaN  ...           NaN                      NaN               NaN                  NaN             NaN                NaN                 NaN          3.87                    NaN                   NaN\n",
       "619                  US-WY                  US  United States      Wyoming             US-WY           NaN                NaN  2020-08-31                        NaN                     NaN  ...           NaN                      NaN               NaN                  NaN             NaN                NaN                 NaN          3.63                    NaN                   NaN\n",
       "620                  US-WY                  US  United States      Wyoming             US-WY           NaN                NaN  2020-09-07                        NaN                     NaN  ...           NaN                      NaN               NaN                  NaN             NaN                NaN                 NaN          4.02                    NaN                   NaN\n",
       "621                  US-WY                  US  United States      Wyoming             US-WY           NaN                NaN  2020-09-14                        NaN                     NaN  ...           NaN                      NaN               NaN                  NaN             NaN                NaN                 NaN          4.37                    NaN                   NaN\n",
       "622                  US-WY                  US  United States      Wyoming             US-WY           NaN                NaN  2020-09-21                        NaN                     NaN  ...           NaN                      NaN               NaN                  NaN             NaN                NaN                 NaN          4.76                    NaN                   NaN\n",
       "623                  US-WY                  US  United States      Wyoming             US-WY           NaN                NaN  2020-09-28                        NaN                     NaN  ...           NaN                      NaN               NaN                  NaN             NaN                NaN                 NaN          5.92                    NaN                   NaN\n",
       "\n",
       "[20 rows x 430 columns]"
      ],
      "text/html": "<div>\n<style scoped>\n    .dataframe tbody tr th:only-of-type {\n        vertical-align: middle;\n    }\n\n    .dataframe tbody tr th {\n        vertical-align: top;\n    }\n\n    .dataframe thead th {\n        text-align: right;\n    }\n</style>\n<table border=\"1\" class=\"dataframe\">\n  <thead>\n    <tr style=\"text-align: right;\">\n      <th></th>\n      <th>open_covid_region_code</th>\n      <th>country_region_code</th>\n      <th>country_region</th>\n      <th>sub_region_1</th>\n      <th>sub_region_1_code</th>\n      <th>sub_region_2</th>\n      <th>sub_region_2_code</th>\n      <th>date</th>\n      <th>symptom:Abdominal obesity</th>\n      <th>symptom:Abdominal pain</th>\n      <th>...</th>\n      <th>symptom:Wart</th>\n      <th>symptom:Water retention</th>\n      <th>symptom:Weakness</th>\n      <th>symptom:Weight gain</th>\n      <th>symptom:Wheeze</th>\n      <th>symptom:Xeroderma</th>\n      <th>symptom:Xerostomia</th>\n      <th>symptom:Yawn</th>\n      <th>symptom:hyperhidrosis</th>\n      <th>symptom:pancreatitis</th>\n    </tr>\n  </thead>\n  <tbody>\n    <tr>\n      <th>0</th>\n      <td>US-AK</td>\n      <td>US</td>\n      <td>United States</td>\n      <td>Alaska</td>\n      <td>US-AK</td>\n      <td>NaN</td>\n      <td>NaN</td>\n      <td>2020-01-06</td>\n      <td>NaN</td>\n      <td>NaN</td>\n      <td>...</td>\n      <td>NaN</td>\n      <td>NaN</td>\n      <td>NaN</td>\n      <td>NaN</td>\n      <td>NaN</td>\n      <td>NaN</td>\n      <td>NaN</td>\n      <td>14.28</td>\n      <td>NaN</td>\n      <td>NaN</td>\n    </tr>\n    <tr>\n      <th>1</th>\n      <td>US-AK</td>\n      <td>US</td>\n      <td>United States</td>\n      <td>Alaska</td>\n      <td>US-AK</td>\n      <td>NaN</td>\n      <td>NaN</td>\n      <td>2020-01-13</td>\n      <td>NaN</td>\n      <td>NaN</td>\n      <td>...</td>\n      <td>NaN</td>\n      <td>NaN</td>\n      <td>NaN</td>\n      <td>NaN</td>\n      <td>NaN</td>\n      <td>NaN</td>\n      <td>NaN</td>\n      <td>16.26</td>\n      <td>NaN</td>\n      <td>NaN</td>\n    </tr>\n    <tr>\n      <th>2</th>\n      <td>US-AK</td>\n      <td>US</td>\n      <td>United States</td>\n      <td>Alaska</td>\n      <td>US-AK</td>\n      <td>NaN</td>\n      <td>NaN</td>\n      <td>2020-01-20</td>\n      <td>NaN</td>\n      <td>NaN</td>\n      <td>...</td>\n      <td>NaN</td>\n      <td>NaN</td>\n      <td>NaN</td>\n      <td>NaN</td>\n      <td>NaN</td>\n      <td>NaN</td>\n      <td>NaN</td>\n      <td>17.48</td>\n      <td>NaN</td>\n      <td>NaN</td>\n    </tr>\n    <tr>\n      <th>3</th>\n      <td>US-AK</td>\n      <td>US</td>\n      <td>United States</td>\n      <td>Alaska</td>\n      <td>US-AK</td>\n      <td>NaN</td>\n      <td>NaN</td>\n      <td>2020-01-27</td>\n      <td>NaN</td>\n      <td>NaN</td>\n      <td>...</td>\n      <td>NaN</td>\n      <td>NaN</td>\n      <td>NaN</td>\n      <td>NaN</td>\n      <td>NaN</td>\n      <td>NaN</td>\n      <td>NaN</td>\n      <td>10.93</td>\n      <td>NaN</td>\n      <td>NaN</td>\n    </tr>\n    <tr>\n      <th>4</th>\n      <td>US-AK</td>\n      <td>US</td>\n      <td>United States</td>\n      <td>Alaska</td>\n      <td>US-AK</td>\n      <td>NaN</td>\n      <td>NaN</td>\n      <td>2020-02-03</td>\n      <td>NaN</td>\n      <td>NaN</td>\n      <td>...</td>\n      <td>NaN</td>\n      <td>NaN</td>\n      <td>NaN</td>\n      <td>NaN</td>\n      <td>NaN</td>\n      <td>NaN</td>\n      <td>NaN</td>\n      <td>18.93</td>\n      <td>NaN</td>\n      <td>NaN</td>\n    </tr>\n    <tr>\n      <th>5</th>\n      <td>US-AK</td>\n      <td>US</td>\n      <td>United States</td>\n      <td>Alaska</td>\n      <td>US-AK</td>\n      <td>NaN</td>\n      <td>NaN</td>\n      <td>2020-02-10</td>\n      <td>NaN</td>\n      <td>NaN</td>\n      <td>...</td>\n      <td>NaN</td>\n      <td>NaN</td>\n      <td>NaN</td>\n      <td>NaN</td>\n      <td>NaN</td>\n      <td>NaN</td>\n      <td>NaN</td>\n      <td>17.05</td>\n      <td>NaN</td>\n      <td>NaN</td>\n    </tr>\n    <tr>\n      <th>6</th>\n      <td>US-AK</td>\n      <td>US</td>\n      <td>United States</td>\n      <td>Alaska</td>\n      <td>US-AK</td>\n      <td>NaN</td>\n      <td>NaN</td>\n      <td>2020-02-17</td>\n      <td>NaN</td>\n      <td>NaN</td>\n      <td>...</td>\n      <td>NaN</td>\n      <td>NaN</td>\n      <td>NaN</td>\n      <td>NaN</td>\n      <td>NaN</td>\n      <td>NaN</td>\n      <td>NaN</td>\n      <td>16.62</td>\n      <td>NaN</td>\n      <td>NaN</td>\n    </tr>\n    <tr>\n      <th>7</th>\n      <td>US-AK</td>\n      <td>US</td>\n      <td>United States</td>\n      <td>Alaska</td>\n      <td>US-AK</td>\n      <td>NaN</td>\n      <td>NaN</td>\n      <td>2020-02-24</td>\n      <td>NaN</td>\n      <td>NaN</td>\n      <td>...</td>\n      <td>NaN</td>\n      <td>NaN</td>\n      <td>NaN</td>\n      <td>NaN</td>\n      <td>NaN</td>\n      <td>NaN</td>\n      <td>NaN</td>\n      <td>14.42</td>\n      <td>NaN</td>\n      <td>NaN</td>\n    </tr>\n    <tr>\n      <th>8</th>\n      <td>US-AK</td>\n      <td>US</td>\n      <td>United States</td>\n      <td>Alaska</td>\n      <td>US-AK</td>\n      <td>NaN</td>\n      <td>NaN</td>\n      <td>2020-03-02</td>\n      <td>NaN</td>\n      <td>NaN</td>\n      <td>...</td>\n      <td>NaN</td>\n      <td>NaN</td>\n      <td>NaN</td>\n      <td>NaN</td>\n      <td>NaN</td>\n      <td>NaN</td>\n      <td>NaN</td>\n      <td>9.30</td>\n      <td>NaN</td>\n      <td>NaN</td>\n    </tr>\n    <tr>\n      <th>9</th>\n      <td>US-AK</td>\n      <td>US</td>\n      <td>United States</td>\n      <td>Alaska</td>\n      <td>US-AK</td>\n      <td>NaN</td>\n      <td>NaN</td>\n      <td>2020-03-09</td>\n      <td>NaN</td>\n      <td>NaN</td>\n      <td>...</td>\n      <td>NaN</td>\n      <td>NaN</td>\n      <td>NaN</td>\n      <td>NaN</td>\n      <td>NaN</td>\n      <td>NaN</td>\n      <td>NaN</td>\n      <td>10.77</td>\n      <td>NaN</td>\n      <td>NaN</td>\n    </tr>\n    <tr>\n      <th>614</th>\n      <td>US-WY</td>\n      <td>US</td>\n      <td>United States</td>\n      <td>Wyoming</td>\n      <td>US-WY</td>\n      <td>NaN</td>\n      <td>NaN</td>\n      <td>2020-07-27</td>\n      <td>NaN</td>\n      <td>NaN</td>\n      <td>...</td>\n      <td>NaN</td>\n      <td>NaN</td>\n      <td>NaN</td>\n      <td>NaN</td>\n      <td>NaN</td>\n      <td>NaN</td>\n      <td>NaN</td>\n      <td>4.07</td>\n      <td>NaN</td>\n      <td>NaN</td>\n    </tr>\n    <tr>\n      <th>615</th>\n      <td>US-WY</td>\n      <td>US</td>\n      <td>United States</td>\n      <td>Wyoming</td>\n      <td>US-WY</td>\n      <td>NaN</td>\n      <td>NaN</td>\n      <td>2020-08-03</td>\n      <td>NaN</td>\n      <td>NaN</td>\n      <td>...</td>\n      <td>NaN</td>\n      <td>NaN</td>\n      <td>NaN</td>\n      <td>NaN</td>\n      <td>NaN</td>\n      <td>NaN</td>\n      <td>NaN</td>\n      <td>4.11</td>\n      <td>NaN</td>\n      <td>NaN</td>\n    </tr>\n    <tr>\n      <th>616</th>\n      <td>US-WY</td>\n      <td>US</td>\n      <td>United States</td>\n      <td>Wyoming</td>\n      <td>US-WY</td>\n      <td>NaN</td>\n      <td>NaN</td>\n      <td>2020-08-10</td>\n      <td>NaN</td>\n      <td>NaN</td>\n      <td>...</td>\n      <td>NaN</td>\n      <td>NaN</td>\n      <td>NaN</td>\n      <td>NaN</td>\n      <td>NaN</td>\n      <td>NaN</td>\n      <td>NaN</td>\n      <td>NaN</td>\n      <td>NaN</td>\n      <td>NaN</td>\n    </tr>\n    <tr>\n      <th>617</th>\n      <td>US-WY</td>\n      <td>US</td>\n      <td>United States</td>\n      <td>Wyoming</td>\n      <td>US-WY</td>\n      <td>NaN</td>\n      <td>NaN</td>\n      <td>2020-08-17</td>\n      <td>NaN</td>\n      <td>NaN</td>\n      <td>...</td>\n      <td>NaN</td>\n      <td>NaN</td>\n      <td>NaN</td>\n      <td>NaN</td>\n      <td>NaN</td>\n      <td>NaN</td>\n      <td>NaN</td>\n      <td>3.71</td>\n      <td>NaN</td>\n      <td>NaN</td>\n    </tr>\n    <tr>\n      <th>618</th>\n      <td>US-WY</td>\n      <td>US</td>\n      <td>United States</td>\n      <td>Wyoming</td>\n      <td>US-WY</td>\n      <td>NaN</td>\n      <td>NaN</td>\n      <td>2020-08-24</td>\n      <td>NaN</td>\n      <td>NaN</td>\n      <td>...</td>\n      <td>NaN</td>\n      <td>NaN</td>\n      <td>NaN</td>\n      <td>NaN</td>\n      <td>NaN</td>\n      <td>NaN</td>\n      <td>NaN</td>\n      <td>3.87</td>\n      <td>NaN</td>\n      <td>NaN</td>\n    </tr>\n    <tr>\n      <th>619</th>\n      <td>US-WY</td>\n      <td>US</td>\n      <td>United States</td>\n      <td>Wyoming</td>\n      <td>US-WY</td>\n      <td>NaN</td>\n      <td>NaN</td>\n      <td>2020-08-31</td>\n      <td>NaN</td>\n      <td>NaN</td>\n      <td>...</td>\n      <td>NaN</td>\n      <td>NaN</td>\n      <td>NaN</td>\n      <td>NaN</td>\n      <td>NaN</td>\n      <td>NaN</td>\n      <td>NaN</td>\n      <td>3.63</td>\n      <td>NaN</td>\n      <td>NaN</td>\n    </tr>\n    <tr>\n      <th>620</th>\n      <td>US-WY</td>\n      <td>US</td>\n      <td>United States</td>\n      <td>Wyoming</td>\n      <td>US-WY</td>\n      <td>NaN</td>\n      <td>NaN</td>\n      <td>2020-09-07</td>\n      <td>NaN</td>\n      <td>NaN</td>\n      <td>...</td>\n      <td>NaN</td>\n      <td>NaN</td>\n      <td>NaN</td>\n      <td>NaN</td>\n      <td>NaN</td>\n      <td>NaN</td>\n      <td>NaN</td>\n      <td>4.02</td>\n      <td>NaN</td>\n      <td>NaN</td>\n    </tr>\n    <tr>\n      <th>621</th>\n      <td>US-WY</td>\n      <td>US</td>\n      <td>United States</td>\n      <td>Wyoming</td>\n      <td>US-WY</td>\n      <td>NaN</td>\n      <td>NaN</td>\n      <td>2020-09-14</td>\n      <td>NaN</td>\n      <td>NaN</td>\n      <td>...</td>\n      <td>NaN</td>\n      <td>NaN</td>\n      <td>NaN</td>\n      <td>NaN</td>\n      <td>NaN</td>\n      <td>NaN</td>\n      <td>NaN</td>\n      <td>4.37</td>\n      <td>NaN</td>\n      <td>NaN</td>\n    </tr>\n    <tr>\n      <th>622</th>\n      <td>US-WY</td>\n      <td>US</td>\n      <td>United States</td>\n      <td>Wyoming</td>\n      <td>US-WY</td>\n      <td>NaN</td>\n      <td>NaN</td>\n      <td>2020-09-21</td>\n      <td>NaN</td>\n      <td>NaN</td>\n      <td>...</td>\n      <td>NaN</td>\n      <td>NaN</td>\n      <td>NaN</td>\n      <td>NaN</td>\n      <td>NaN</td>\n      <td>NaN</td>\n      <td>NaN</td>\n      <td>4.76</td>\n      <td>NaN</td>\n      <td>NaN</td>\n    </tr>\n    <tr>\n      <th>623</th>\n      <td>US-WY</td>\n      <td>US</td>\n      <td>United States</td>\n      <td>Wyoming</td>\n      <td>US-WY</td>\n      <td>NaN</td>\n      <td>NaN</td>\n      <td>2020-09-28</td>\n      <td>NaN</td>\n      <td>NaN</td>\n      <td>...</td>\n      <td>NaN</td>\n      <td>NaN</td>\n      <td>NaN</td>\n      <td>NaN</td>\n      <td>NaN</td>\n      <td>NaN</td>\n      <td>NaN</td>\n      <td>5.92</td>\n      <td>NaN</td>\n      <td>NaN</td>\n    </tr>\n  </tbody>\n</table>\n<p>20 rows × 430 columns</p>\n</div>"
     },
     "metadata": {},
     "execution_count": 4
    }
   ],
   "source": [
    "search_trend_df.iloc[np.r_[0:10,-10:0]]"
   ]
  },
  {
   "source": [
    "Since we have several NaN columns, we can drop the columns where all data in the column are NaN\n",
    "\n",
    "And also, by looking at the dataset, columns named as `country_region_code`, `country_region`, and `open_covid_region_code` can be dropped."
   ],
   "cell_type": "markdown",
   "metadata": {}
  },
  {
   "cell_type": "code",
   "execution_count": 5,
   "metadata": {},
   "outputs": [
    {
     "output_type": "execute_result",
     "data": {
      "text/plain": [
       "    region_name        date  symptom:Adrenal crisis  symptom:Ageusia  symptom:Allergic conjunctivitis  symptom:Amblyopia  symptom:Amenorrhea  symptom:Angular cheilitis  symptom:Anosmia  symptom:Aphonia  ...  symptom:Tenderness  symptom:Thyroid nodule  symptom:Trichoptilosis  symptom:Upper respiratory tract infection  symptom:Urethritis  symptom:Urinary urgency  symptom:Vasculitis  symptom:Ventricular fibrillation  symptom:Viral pneumonia  symptom:Yawn\n",
       "0        Alaska  2020-01-06                   12.69              NaN                              NaN                NaN               12.29                        NaN              NaN              NaN  ...               14.28                   15.86                   11.90                                      18.84               13.88                      NaN               14.08                              9.91                      NaN         14.28\n",
       "1        Alaska  2020-01-13                    9.56              NaN                              NaN                NaN               12.62                        NaN              NaN              NaN  ...               13.39                   12.24                    7.84                                      16.83               13.01                     7.65               15.30                              8.41                      NaN         16.26\n",
       "2        Alaska  2020-01-20                     NaN              NaN                              NaN                NaN               14.17                        NaN             7.36              NaN  ...               12.88                   17.66                   15.27                                      18.40               12.14                     7.54               10.30                             16.19                      NaN         17.48\n",
       "3        Alaska  2020-01-27                   15.31             7.47                              NaN                NaN               15.67                       7.47              NaN             7.65  ...               13.30                   12.76                    9.84                                      20.41               17.49                      NaN               11.30                               NaN                      NaN         10.93\n",
       "4        Alaska  2020-02-03                    8.81              NaN                              NaN                NaN               13.87                       8.06              NaN            12.56  ...               11.81                   16.68                   10.68                                      20.62               16.87                      NaN               14.24                             10.68                     10.5         18.93\n",
       "..          ...         ...                     ...              ...                              ...                ...                 ...                        ...              ...              ...  ...                 ...                     ...                     ...                                        ...                 ...                      ...                 ...                               ...                      ...           ...\n",
       "619     Wyoming  2020-08-31                    5.03             2.79                              NaN               5.75                4.19                        NaN              NaN              NaN  ...                3.07                    3.07                    2.57                                       2.68                 NaN                      NaN                5.08                               NaN                      NaN          3.63\n",
       "620     Wyoming  2020-09-07                    3.36             3.25                              2.2               3.63                 NaN                       2.25             2.70              NaN  ...                4.29                    2.81                     NaN                                       3.19                3.19                      NaN                4.51                               NaN                      NaN          4.02\n",
       "621     Wyoming  2020-09-14                    4.15             4.97                              NaN               5.14                5.79                        NaN             4.59              NaN  ...                3.93                    5.63                    3.06                                       4.59                3.22                     2.68                3.88                               NaN                      NaN          4.37\n",
       "622     Wyoming  2020-09-21                    5.64             3.67                              NaN               5.25                3.77                        NaN             5.09              NaN  ...                3.28                    3.72                    3.17                                       3.23                2.90                      NaN                5.14                              3.23                      NaN          4.76\n",
       "623     Wyoming  2020-09-28                    9.79             4.54                              NaN               4.64                2.60                        NaN             4.87              NaN  ...                3.93                    4.31                    2.54                                        NaN                3.32                      NaN                5.86                              3.37                      NaN          5.92\n",
       "\n",
       "[624 rows x 123 columns]"
      ],
      "text/html": "<div>\n<style scoped>\n    .dataframe tbody tr th:only-of-type {\n        vertical-align: middle;\n    }\n\n    .dataframe tbody tr th {\n        vertical-align: top;\n    }\n\n    .dataframe thead th {\n        text-align: right;\n    }\n</style>\n<table border=\"1\" class=\"dataframe\">\n  <thead>\n    <tr style=\"text-align: right;\">\n      <th></th>\n      <th>region_name</th>\n      <th>date</th>\n      <th>symptom:Adrenal crisis</th>\n      <th>symptom:Ageusia</th>\n      <th>symptom:Allergic conjunctivitis</th>\n      <th>symptom:Amblyopia</th>\n      <th>symptom:Amenorrhea</th>\n      <th>symptom:Angular cheilitis</th>\n      <th>symptom:Anosmia</th>\n      <th>symptom:Aphonia</th>\n      <th>...</th>\n      <th>symptom:Tenderness</th>\n      <th>symptom:Thyroid nodule</th>\n      <th>symptom:Trichoptilosis</th>\n      <th>symptom:Upper respiratory tract infection</th>\n      <th>symptom:Urethritis</th>\n      <th>symptom:Urinary urgency</th>\n      <th>symptom:Vasculitis</th>\n      <th>symptom:Ventricular fibrillation</th>\n      <th>symptom:Viral pneumonia</th>\n      <th>symptom:Yawn</th>\n    </tr>\n  </thead>\n  <tbody>\n    <tr>\n      <th>0</th>\n      <td>Alaska</td>\n      <td>2020-01-06</td>\n      <td>12.69</td>\n      <td>NaN</td>\n      <td>NaN</td>\n      <td>NaN</td>\n      <td>12.29</td>\n      <td>NaN</td>\n      <td>NaN</td>\n      <td>NaN</td>\n      <td>...</td>\n      <td>14.28</td>\n      <td>15.86</td>\n      <td>11.90</td>\n      <td>18.84</td>\n      <td>13.88</td>\n      <td>NaN</td>\n      <td>14.08</td>\n      <td>9.91</td>\n      <td>NaN</td>\n      <td>14.28</td>\n    </tr>\n    <tr>\n      <th>1</th>\n      <td>Alaska</td>\n      <td>2020-01-13</td>\n      <td>9.56</td>\n      <td>NaN</td>\n      <td>NaN</td>\n      <td>NaN</td>\n      <td>12.62</td>\n      <td>NaN</td>\n      <td>NaN</td>\n      <td>NaN</td>\n      <td>...</td>\n      <td>13.39</td>\n      <td>12.24</td>\n      <td>7.84</td>\n      <td>16.83</td>\n      <td>13.01</td>\n      <td>7.65</td>\n      <td>15.30</td>\n      <td>8.41</td>\n      <td>NaN</td>\n      <td>16.26</td>\n    </tr>\n    <tr>\n      <th>2</th>\n      <td>Alaska</td>\n      <td>2020-01-20</td>\n      <td>NaN</td>\n      <td>NaN</td>\n      <td>NaN</td>\n      <td>NaN</td>\n      <td>14.17</td>\n      <td>NaN</td>\n      <td>7.36</td>\n      <td>NaN</td>\n      <td>...</td>\n      <td>12.88</td>\n      <td>17.66</td>\n      <td>15.27</td>\n      <td>18.40</td>\n      <td>12.14</td>\n      <td>7.54</td>\n      <td>10.30</td>\n      <td>16.19</td>\n      <td>NaN</td>\n      <td>17.48</td>\n    </tr>\n    <tr>\n      <th>3</th>\n      <td>Alaska</td>\n      <td>2020-01-27</td>\n      <td>15.31</td>\n      <td>7.47</td>\n      <td>NaN</td>\n      <td>NaN</td>\n      <td>15.67</td>\n      <td>7.47</td>\n      <td>NaN</td>\n      <td>7.65</td>\n      <td>...</td>\n      <td>13.30</td>\n      <td>12.76</td>\n      <td>9.84</td>\n      <td>20.41</td>\n      <td>17.49</td>\n      <td>NaN</td>\n      <td>11.30</td>\n      <td>NaN</td>\n      <td>NaN</td>\n      <td>10.93</td>\n    </tr>\n    <tr>\n      <th>4</th>\n      <td>Alaska</td>\n      <td>2020-02-03</td>\n      <td>8.81</td>\n      <td>NaN</td>\n      <td>NaN</td>\n      <td>NaN</td>\n      <td>13.87</td>\n      <td>8.06</td>\n      <td>NaN</td>\n      <td>12.56</td>\n      <td>...</td>\n      <td>11.81</td>\n      <td>16.68</td>\n      <td>10.68</td>\n      <td>20.62</td>\n      <td>16.87</td>\n      <td>NaN</td>\n      <td>14.24</td>\n      <td>10.68</td>\n      <td>10.5</td>\n      <td>18.93</td>\n    </tr>\n    <tr>\n      <th>...</th>\n      <td>...</td>\n      <td>...</td>\n      <td>...</td>\n      <td>...</td>\n      <td>...</td>\n      <td>...</td>\n      <td>...</td>\n      <td>...</td>\n      <td>...</td>\n      <td>...</td>\n      <td>...</td>\n      <td>...</td>\n      <td>...</td>\n      <td>...</td>\n      <td>...</td>\n      <td>...</td>\n      <td>...</td>\n      <td>...</td>\n      <td>...</td>\n      <td>...</td>\n      <td>...</td>\n    </tr>\n    <tr>\n      <th>619</th>\n      <td>Wyoming</td>\n      <td>2020-08-31</td>\n      <td>5.03</td>\n      <td>2.79</td>\n      <td>NaN</td>\n      <td>5.75</td>\n      <td>4.19</td>\n      <td>NaN</td>\n      <td>NaN</td>\n      <td>NaN</td>\n      <td>...</td>\n      <td>3.07</td>\n      <td>3.07</td>\n      <td>2.57</td>\n      <td>2.68</td>\n      <td>NaN</td>\n      <td>NaN</td>\n      <td>5.08</td>\n      <td>NaN</td>\n      <td>NaN</td>\n      <td>3.63</td>\n    </tr>\n    <tr>\n      <th>620</th>\n      <td>Wyoming</td>\n      <td>2020-09-07</td>\n      <td>3.36</td>\n      <td>3.25</td>\n      <td>2.2</td>\n      <td>3.63</td>\n      <td>NaN</td>\n      <td>2.25</td>\n      <td>2.70</td>\n      <td>NaN</td>\n      <td>...</td>\n      <td>4.29</td>\n      <td>2.81</td>\n      <td>NaN</td>\n      <td>3.19</td>\n      <td>3.19</td>\n      <td>NaN</td>\n      <td>4.51</td>\n      <td>NaN</td>\n      <td>NaN</td>\n      <td>4.02</td>\n    </tr>\n    <tr>\n      <th>621</th>\n      <td>Wyoming</td>\n      <td>2020-09-14</td>\n      <td>4.15</td>\n      <td>4.97</td>\n      <td>NaN</td>\n      <td>5.14</td>\n      <td>5.79</td>\n      <td>NaN</td>\n      <td>4.59</td>\n      <td>NaN</td>\n      <td>...</td>\n      <td>3.93</td>\n      <td>5.63</td>\n      <td>3.06</td>\n      <td>4.59</td>\n      <td>3.22</td>\n      <td>2.68</td>\n      <td>3.88</td>\n      <td>NaN</td>\n      <td>NaN</td>\n      <td>4.37</td>\n    </tr>\n    <tr>\n      <th>622</th>\n      <td>Wyoming</td>\n      <td>2020-09-21</td>\n      <td>5.64</td>\n      <td>3.67</td>\n      <td>NaN</td>\n      <td>5.25</td>\n      <td>3.77</td>\n      <td>NaN</td>\n      <td>5.09</td>\n      <td>NaN</td>\n      <td>...</td>\n      <td>3.28</td>\n      <td>3.72</td>\n      <td>3.17</td>\n      <td>3.23</td>\n      <td>2.90</td>\n      <td>NaN</td>\n      <td>5.14</td>\n      <td>3.23</td>\n      <td>NaN</td>\n      <td>4.76</td>\n    </tr>\n    <tr>\n      <th>623</th>\n      <td>Wyoming</td>\n      <td>2020-09-28</td>\n      <td>9.79</td>\n      <td>4.54</td>\n      <td>NaN</td>\n      <td>4.64</td>\n      <td>2.60</td>\n      <td>NaN</td>\n      <td>4.87</td>\n      <td>NaN</td>\n      <td>...</td>\n      <td>3.93</td>\n      <td>4.31</td>\n      <td>2.54</td>\n      <td>NaN</td>\n      <td>3.32</td>\n      <td>NaN</td>\n      <td>5.86</td>\n      <td>3.37</td>\n      <td>NaN</td>\n      <td>5.92</td>\n    </tr>\n  </tbody>\n</table>\n<p>624 rows × 123 columns</p>\n</div>"
     },
     "metadata": {},
     "execution_count": 5
    }
   ],
   "source": [
    "search_trend_df = search_trend_df.drop(search_trend_df.columns[[0,1,2,4,5,6]], axis=1)\n",
    "search_trend_df = search_trend_df.dropna(axis=1, how='all')\n",
    "search_trend_df = search_trend_df.rename(columns={'sub_region_1':'region_name'})\n",
    "search_trend_df\n"
   ]
  },
  {
   "source": [
    "now, let's check the dataset again"
   ],
   "cell_type": "markdown",
   "metadata": {}
  },
  {
   "cell_type": "code",
   "execution_count": 6,
   "metadata": {},
   "outputs": [
    {
     "output_type": "execute_result",
     "data": {
      "text/plain": [
       "    region_name        date  symptom:Adrenal crisis  symptom:Ageusia  symptom:Allergic conjunctivitis  symptom:Amblyopia  symptom:Amenorrhea  symptom:Angular cheilitis  symptom:Anosmia  symptom:Aphonia  ...  symptom:Tenderness  symptom:Thyroid nodule  symptom:Trichoptilosis  symptom:Upper respiratory tract infection  symptom:Urethritis  symptom:Urinary urgency  symptom:Vasculitis  symptom:Ventricular fibrillation  symptom:Viral pneumonia  symptom:Yawn\n",
       "0        Alaska  2020-01-06                   12.69              NaN                              NaN                NaN               12.29                        NaN              NaN              NaN  ...               14.28                   15.86                   11.90                                      18.84               13.88                      NaN               14.08                              9.91                      NaN         14.28\n",
       "1        Alaska  2020-01-13                    9.56              NaN                              NaN                NaN               12.62                        NaN              NaN              NaN  ...               13.39                   12.24                    7.84                                      16.83               13.01                     7.65               15.30                              8.41                      NaN         16.26\n",
       "2        Alaska  2020-01-20                     NaN              NaN                              NaN                NaN               14.17                        NaN             7.36              NaN  ...               12.88                   17.66                   15.27                                      18.40               12.14                     7.54               10.30                             16.19                      NaN         17.48\n",
       "3        Alaska  2020-01-27                   15.31             7.47                              NaN                NaN               15.67                       7.47              NaN             7.65  ...               13.30                   12.76                    9.84                                      20.41               17.49                      NaN               11.30                               NaN                      NaN         10.93\n",
       "4        Alaska  2020-02-03                    8.81              NaN                              NaN                NaN               13.87                       8.06              NaN            12.56  ...               11.81                   16.68                   10.68                                      20.62               16.87                      NaN               14.24                             10.68                    10.50         18.93\n",
       "5        Alaska  2020-02-10                   11.97              NaN                              NaN                NaN               11.97                        NaN              NaN            10.88  ...                9.97                   15.05                   12.51                                      18.68               14.69                     7.44                9.07                               NaN                     7.80         17.05\n",
       "6        Alaska  2020-02-17                    9.16              NaN                              NaN                NaN                9.33                        NaN              NaN             9.16  ...               22.56                   14.42                   10.18                                      16.96               14.93                      NaN               13.57                              8.65                     8.48         16.62\n",
       "7        Alaska  2020-02-24                   10.44             6.63                              NaN                NaN               11.44                      10.61             9.78             7.29  ...               11.77                   17.57                   15.58                                      18.56               10.44                     7.13               12.26                              8.62                    11.10         14.42\n",
       "8        Alaska  2020-03-02                   14.62              NaN                              NaN                NaN                9.97                        NaN              NaN              NaN  ...               10.80                   19.43                   12.96                                      21.76               11.29                      NaN               13.29                             10.46                    14.12          9.30\n",
       "9        Alaska  2020-03-09                   10.60              NaN                            11.61                NaN               12.79                        NaN             7.07             7.91  ...               12.96                   11.11                   13.97                                      46.95               10.27                      NaN                9.26                               NaN                    18.85         10.77\n",
       "614     Wyoming  2020-07-27                    3.44             2.75                              NaN               5.45                3.38                       3.21             2.35              NaN  ...                4.36                    4.41                    2.75                                       2.35                3.44                     2.41                4.07                               NaN                      NaN          4.07\n",
       "615     Wyoming  2020-08-03                    3.08             3.14                              NaN               4.34                2.34                        NaN             3.94              NaN  ...                3.65                    4.74                    2.97                                        NaN                3.65                     2.40                 NaN                               NaN                      NaN          4.11\n",
       "616     Wyoming  2020-08-10                    3.19              NaN                              NaN               5.08                3.99                        NaN              NaN              NaN  ...                3.54                    5.13                    3.77                                        NaN                4.74                      NaN                4.05                              2.57                      NaN           NaN\n",
       "617     Wyoming  2020-08-17                    5.95             4.10                              NaN               5.00                2.36                        NaN             2.75              NaN  ...                3.42                    3.54                    3.71                                        NaN                3.99                     2.42                3.71                               NaN                      NaN          3.71\n",
       "618     Wyoming  2020-08-24                    4.42             3.31                             3.42               5.19                3.42                        NaN             2.65              NaN  ...                3.98                    3.87                    2.26                                       3.98                4.09                      NaN                3.64                              2.48                      NaN          3.87\n",
       "619     Wyoming  2020-08-31                    5.03             2.79                              NaN               5.75                4.19                        NaN              NaN              NaN  ...                3.07                    3.07                    2.57                                       2.68                 NaN                      NaN                5.08                               NaN                      NaN          3.63\n",
       "620     Wyoming  2020-09-07                    3.36             3.25                             2.20               3.63                 NaN                       2.25             2.70              NaN  ...                4.29                    2.81                     NaN                                       3.19                3.19                      NaN                4.51                               NaN                      NaN          4.02\n",
       "621     Wyoming  2020-09-14                    4.15             4.97                              NaN               5.14                5.79                        NaN             4.59              NaN  ...                3.93                    5.63                    3.06                                       4.59                3.22                     2.68                3.88                               NaN                      NaN          4.37\n",
       "622     Wyoming  2020-09-21                    5.64             3.67                              NaN               5.25                3.77                        NaN             5.09              NaN  ...                3.28                    3.72                    3.17                                       3.23                2.90                      NaN                5.14                              3.23                      NaN          4.76\n",
       "623     Wyoming  2020-09-28                    9.79             4.54                              NaN               4.64                2.60                        NaN             4.87              NaN  ...                3.93                    4.31                    2.54                                        NaN                3.32                      NaN                5.86                              3.37                      NaN          5.92\n",
       "\n",
       "[20 rows x 123 columns]"
      ],
      "text/html": "<div>\n<style scoped>\n    .dataframe tbody tr th:only-of-type {\n        vertical-align: middle;\n    }\n\n    .dataframe tbody tr th {\n        vertical-align: top;\n    }\n\n    .dataframe thead th {\n        text-align: right;\n    }\n</style>\n<table border=\"1\" class=\"dataframe\">\n  <thead>\n    <tr style=\"text-align: right;\">\n      <th></th>\n      <th>region_name</th>\n      <th>date</th>\n      <th>symptom:Adrenal crisis</th>\n      <th>symptom:Ageusia</th>\n      <th>symptom:Allergic conjunctivitis</th>\n      <th>symptom:Amblyopia</th>\n      <th>symptom:Amenorrhea</th>\n      <th>symptom:Angular cheilitis</th>\n      <th>symptom:Anosmia</th>\n      <th>symptom:Aphonia</th>\n      <th>...</th>\n      <th>symptom:Tenderness</th>\n      <th>symptom:Thyroid nodule</th>\n      <th>symptom:Trichoptilosis</th>\n      <th>symptom:Upper respiratory tract infection</th>\n      <th>symptom:Urethritis</th>\n      <th>symptom:Urinary urgency</th>\n      <th>symptom:Vasculitis</th>\n      <th>symptom:Ventricular fibrillation</th>\n      <th>symptom:Viral pneumonia</th>\n      <th>symptom:Yawn</th>\n    </tr>\n  </thead>\n  <tbody>\n    <tr>\n      <th>0</th>\n      <td>Alaska</td>\n      <td>2020-01-06</td>\n      <td>12.69</td>\n      <td>NaN</td>\n      <td>NaN</td>\n      <td>NaN</td>\n      <td>12.29</td>\n      <td>NaN</td>\n      <td>NaN</td>\n      <td>NaN</td>\n      <td>...</td>\n      <td>14.28</td>\n      <td>15.86</td>\n      <td>11.90</td>\n      <td>18.84</td>\n      <td>13.88</td>\n      <td>NaN</td>\n      <td>14.08</td>\n      <td>9.91</td>\n      <td>NaN</td>\n      <td>14.28</td>\n    </tr>\n    <tr>\n      <th>1</th>\n      <td>Alaska</td>\n      <td>2020-01-13</td>\n      <td>9.56</td>\n      <td>NaN</td>\n      <td>NaN</td>\n      <td>NaN</td>\n      <td>12.62</td>\n      <td>NaN</td>\n      <td>NaN</td>\n      <td>NaN</td>\n      <td>...</td>\n      <td>13.39</td>\n      <td>12.24</td>\n      <td>7.84</td>\n      <td>16.83</td>\n      <td>13.01</td>\n      <td>7.65</td>\n      <td>15.30</td>\n      <td>8.41</td>\n      <td>NaN</td>\n      <td>16.26</td>\n    </tr>\n    <tr>\n      <th>2</th>\n      <td>Alaska</td>\n      <td>2020-01-20</td>\n      <td>NaN</td>\n      <td>NaN</td>\n      <td>NaN</td>\n      <td>NaN</td>\n      <td>14.17</td>\n      <td>NaN</td>\n      <td>7.36</td>\n      <td>NaN</td>\n      <td>...</td>\n      <td>12.88</td>\n      <td>17.66</td>\n      <td>15.27</td>\n      <td>18.40</td>\n      <td>12.14</td>\n      <td>7.54</td>\n      <td>10.30</td>\n      <td>16.19</td>\n      <td>NaN</td>\n      <td>17.48</td>\n    </tr>\n    <tr>\n      <th>3</th>\n      <td>Alaska</td>\n      <td>2020-01-27</td>\n      <td>15.31</td>\n      <td>7.47</td>\n      <td>NaN</td>\n      <td>NaN</td>\n      <td>15.67</td>\n      <td>7.47</td>\n      <td>NaN</td>\n      <td>7.65</td>\n      <td>...</td>\n      <td>13.30</td>\n      <td>12.76</td>\n      <td>9.84</td>\n      <td>20.41</td>\n      <td>17.49</td>\n      <td>NaN</td>\n      <td>11.30</td>\n      <td>NaN</td>\n      <td>NaN</td>\n      <td>10.93</td>\n    </tr>\n    <tr>\n      <th>4</th>\n      <td>Alaska</td>\n      <td>2020-02-03</td>\n      <td>8.81</td>\n      <td>NaN</td>\n      <td>NaN</td>\n      <td>NaN</td>\n      <td>13.87</td>\n      <td>8.06</td>\n      <td>NaN</td>\n      <td>12.56</td>\n      <td>...</td>\n      <td>11.81</td>\n      <td>16.68</td>\n      <td>10.68</td>\n      <td>20.62</td>\n      <td>16.87</td>\n      <td>NaN</td>\n      <td>14.24</td>\n      <td>10.68</td>\n      <td>10.50</td>\n      <td>18.93</td>\n    </tr>\n    <tr>\n      <th>5</th>\n      <td>Alaska</td>\n      <td>2020-02-10</td>\n      <td>11.97</td>\n      <td>NaN</td>\n      <td>NaN</td>\n      <td>NaN</td>\n      <td>11.97</td>\n      <td>NaN</td>\n      <td>NaN</td>\n      <td>10.88</td>\n      <td>...</td>\n      <td>9.97</td>\n      <td>15.05</td>\n      <td>12.51</td>\n      <td>18.68</td>\n      <td>14.69</td>\n      <td>7.44</td>\n      <td>9.07</td>\n      <td>NaN</td>\n      <td>7.80</td>\n      <td>17.05</td>\n    </tr>\n    <tr>\n      <th>6</th>\n      <td>Alaska</td>\n      <td>2020-02-17</td>\n      <td>9.16</td>\n      <td>NaN</td>\n      <td>NaN</td>\n      <td>NaN</td>\n      <td>9.33</td>\n      <td>NaN</td>\n      <td>NaN</td>\n      <td>9.16</td>\n      <td>...</td>\n      <td>22.56</td>\n      <td>14.42</td>\n      <td>10.18</td>\n      <td>16.96</td>\n      <td>14.93</td>\n      <td>NaN</td>\n      <td>13.57</td>\n      <td>8.65</td>\n      <td>8.48</td>\n      <td>16.62</td>\n    </tr>\n    <tr>\n      <th>7</th>\n      <td>Alaska</td>\n      <td>2020-02-24</td>\n      <td>10.44</td>\n      <td>6.63</td>\n      <td>NaN</td>\n      <td>NaN</td>\n      <td>11.44</td>\n      <td>10.61</td>\n      <td>9.78</td>\n      <td>7.29</td>\n      <td>...</td>\n      <td>11.77</td>\n      <td>17.57</td>\n      <td>15.58</td>\n      <td>18.56</td>\n      <td>10.44</td>\n      <td>7.13</td>\n      <td>12.26</td>\n      <td>8.62</td>\n      <td>11.10</td>\n      <td>14.42</td>\n    </tr>\n    <tr>\n      <th>8</th>\n      <td>Alaska</td>\n      <td>2020-03-02</td>\n      <td>14.62</td>\n      <td>NaN</td>\n      <td>NaN</td>\n      <td>NaN</td>\n      <td>9.97</td>\n      <td>NaN</td>\n      <td>NaN</td>\n      <td>NaN</td>\n      <td>...</td>\n      <td>10.80</td>\n      <td>19.43</td>\n      <td>12.96</td>\n      <td>21.76</td>\n      <td>11.29</td>\n      <td>NaN</td>\n      <td>13.29</td>\n      <td>10.46</td>\n      <td>14.12</td>\n      <td>9.30</td>\n    </tr>\n    <tr>\n      <th>9</th>\n      <td>Alaska</td>\n      <td>2020-03-09</td>\n      <td>10.60</td>\n      <td>NaN</td>\n      <td>11.61</td>\n      <td>NaN</td>\n      <td>12.79</td>\n      <td>NaN</td>\n      <td>7.07</td>\n      <td>7.91</td>\n      <td>...</td>\n      <td>12.96</td>\n      <td>11.11</td>\n      <td>13.97</td>\n      <td>46.95</td>\n      <td>10.27</td>\n      <td>NaN</td>\n      <td>9.26</td>\n      <td>NaN</td>\n      <td>18.85</td>\n      <td>10.77</td>\n    </tr>\n    <tr>\n      <th>614</th>\n      <td>Wyoming</td>\n      <td>2020-07-27</td>\n      <td>3.44</td>\n      <td>2.75</td>\n      <td>NaN</td>\n      <td>5.45</td>\n      <td>3.38</td>\n      <td>3.21</td>\n      <td>2.35</td>\n      <td>NaN</td>\n      <td>...</td>\n      <td>4.36</td>\n      <td>4.41</td>\n      <td>2.75</td>\n      <td>2.35</td>\n      <td>3.44</td>\n      <td>2.41</td>\n      <td>4.07</td>\n      <td>NaN</td>\n      <td>NaN</td>\n      <td>4.07</td>\n    </tr>\n    <tr>\n      <th>615</th>\n      <td>Wyoming</td>\n      <td>2020-08-03</td>\n      <td>3.08</td>\n      <td>3.14</td>\n      <td>NaN</td>\n      <td>4.34</td>\n      <td>2.34</td>\n      <td>NaN</td>\n      <td>3.94</td>\n      <td>NaN</td>\n      <td>...</td>\n      <td>3.65</td>\n      <td>4.74</td>\n      <td>2.97</td>\n      <td>NaN</td>\n      <td>3.65</td>\n      <td>2.40</td>\n      <td>NaN</td>\n      <td>NaN</td>\n      <td>NaN</td>\n      <td>4.11</td>\n    </tr>\n    <tr>\n      <th>616</th>\n      <td>Wyoming</td>\n      <td>2020-08-10</td>\n      <td>3.19</td>\n      <td>NaN</td>\n      <td>NaN</td>\n      <td>5.08</td>\n      <td>3.99</td>\n      <td>NaN</td>\n      <td>NaN</td>\n      <td>NaN</td>\n      <td>...</td>\n      <td>3.54</td>\n      <td>5.13</td>\n      <td>3.77</td>\n      <td>NaN</td>\n      <td>4.74</td>\n      <td>NaN</td>\n      <td>4.05</td>\n      <td>2.57</td>\n      <td>NaN</td>\n      <td>NaN</td>\n    </tr>\n    <tr>\n      <th>617</th>\n      <td>Wyoming</td>\n      <td>2020-08-17</td>\n      <td>5.95</td>\n      <td>4.10</td>\n      <td>NaN</td>\n      <td>5.00</td>\n      <td>2.36</td>\n      <td>NaN</td>\n      <td>2.75</td>\n      <td>NaN</td>\n      <td>...</td>\n      <td>3.42</td>\n      <td>3.54</td>\n      <td>3.71</td>\n      <td>NaN</td>\n      <td>3.99</td>\n      <td>2.42</td>\n      <td>3.71</td>\n      <td>NaN</td>\n      <td>NaN</td>\n      <td>3.71</td>\n    </tr>\n    <tr>\n      <th>618</th>\n      <td>Wyoming</td>\n      <td>2020-08-24</td>\n      <td>4.42</td>\n      <td>3.31</td>\n      <td>3.42</td>\n      <td>5.19</td>\n      <td>3.42</td>\n      <td>NaN</td>\n      <td>2.65</td>\n      <td>NaN</td>\n      <td>...</td>\n      <td>3.98</td>\n      <td>3.87</td>\n      <td>2.26</td>\n      <td>3.98</td>\n      <td>4.09</td>\n      <td>NaN</td>\n      <td>3.64</td>\n      <td>2.48</td>\n      <td>NaN</td>\n      <td>3.87</td>\n    </tr>\n    <tr>\n      <th>619</th>\n      <td>Wyoming</td>\n      <td>2020-08-31</td>\n      <td>5.03</td>\n      <td>2.79</td>\n      <td>NaN</td>\n      <td>5.75</td>\n      <td>4.19</td>\n      <td>NaN</td>\n      <td>NaN</td>\n      <td>NaN</td>\n      <td>...</td>\n      <td>3.07</td>\n      <td>3.07</td>\n      <td>2.57</td>\n      <td>2.68</td>\n      <td>NaN</td>\n      <td>NaN</td>\n      <td>5.08</td>\n      <td>NaN</td>\n      <td>NaN</td>\n      <td>3.63</td>\n    </tr>\n    <tr>\n      <th>620</th>\n      <td>Wyoming</td>\n      <td>2020-09-07</td>\n      <td>3.36</td>\n      <td>3.25</td>\n      <td>2.20</td>\n      <td>3.63</td>\n      <td>NaN</td>\n      <td>2.25</td>\n      <td>2.70</td>\n      <td>NaN</td>\n      <td>...</td>\n      <td>4.29</td>\n      <td>2.81</td>\n      <td>NaN</td>\n      <td>3.19</td>\n      <td>3.19</td>\n      <td>NaN</td>\n      <td>4.51</td>\n      <td>NaN</td>\n      <td>NaN</td>\n      <td>4.02</td>\n    </tr>\n    <tr>\n      <th>621</th>\n      <td>Wyoming</td>\n      <td>2020-09-14</td>\n      <td>4.15</td>\n      <td>4.97</td>\n      <td>NaN</td>\n      <td>5.14</td>\n      <td>5.79</td>\n      <td>NaN</td>\n      <td>4.59</td>\n      <td>NaN</td>\n      <td>...</td>\n      <td>3.93</td>\n      <td>5.63</td>\n      <td>3.06</td>\n      <td>4.59</td>\n      <td>3.22</td>\n      <td>2.68</td>\n      <td>3.88</td>\n      <td>NaN</td>\n      <td>NaN</td>\n      <td>4.37</td>\n    </tr>\n    <tr>\n      <th>622</th>\n      <td>Wyoming</td>\n      <td>2020-09-21</td>\n      <td>5.64</td>\n      <td>3.67</td>\n      <td>NaN</td>\n      <td>5.25</td>\n      <td>3.77</td>\n      <td>NaN</td>\n      <td>5.09</td>\n      <td>NaN</td>\n      <td>...</td>\n      <td>3.28</td>\n      <td>3.72</td>\n      <td>3.17</td>\n      <td>3.23</td>\n      <td>2.90</td>\n      <td>NaN</td>\n      <td>5.14</td>\n      <td>3.23</td>\n      <td>NaN</td>\n      <td>4.76</td>\n    </tr>\n    <tr>\n      <th>623</th>\n      <td>Wyoming</td>\n      <td>2020-09-28</td>\n      <td>9.79</td>\n      <td>4.54</td>\n      <td>NaN</td>\n      <td>4.64</td>\n      <td>2.60</td>\n      <td>NaN</td>\n      <td>4.87</td>\n      <td>NaN</td>\n      <td>...</td>\n      <td>3.93</td>\n      <td>4.31</td>\n      <td>2.54</td>\n      <td>NaN</td>\n      <td>3.32</td>\n      <td>NaN</td>\n      <td>5.86</td>\n      <td>3.37</td>\n      <td>NaN</td>\n      <td>5.92</td>\n    </tr>\n  </tbody>\n</table>\n<p>20 rows × 123 columns</p>\n</div>"
     },
     "metadata": {},
     "execution_count": 6
    }
   ],
   "source": [
    "search_trend_df.iloc[np.r_[0:10,-10:0]]"
   ]
  },
  {
   "source": [
    "Thus, we reduce the number of columns from 430 to 123\n",
    "\n",
    "Yet, we still see a lot of NaNs, let's check the number of NaNs in each column"
   ],
   "cell_type": "markdown",
   "metadata": {}
  },
  {
   "cell_type": "code",
   "execution_count": 7,
   "metadata": {},
   "outputs": [
    {
     "output_type": "execute_result",
     "data": {
      "text/plain": [
       "region_name                           0\n",
       "date                                  0\n",
       "symptom:Adrenal crisis              355\n",
       "symptom:Ageusia                     378\n",
       "symptom:Allergic conjunctivitis     287\n",
       "                                   ... \n",
       "symptom:Urinary urgency             224\n",
       "symptom:Vasculitis                  549\n",
       "symptom:Ventricular fibrillation    193\n",
       "symptom:Viral pneumonia             224\n",
       "symptom:Yawn                        547\n",
       "Length: 123, dtype: int64"
      ]
     },
     "metadata": {},
     "execution_count": 7
    }
   ],
   "source": [
    "search_trend_df.isnull().sum()"
   ]
  },
  {
   "source": [
    "We will determine if we need to deal with these during training"
   ],
   "cell_type": "markdown",
   "metadata": {}
  },
  {
   "source": [
    "### Now, it's time to clean the hospitalization dataset\n",
    "\n",
    "We still need to have a look at the dataset first"
   ],
   "cell_type": "markdown",
   "metadata": {}
  },
  {
   "cell_type": "code",
   "execution_count": 8,
   "metadata": {},
   "outputs": [
    {
     "output_type": "execute_result",
     "data": {
      "text/plain": [
       "      open_covid_region_code  region_name        date  cases_cumulative  cases_new  cases_cumulative_per_million  cases_new_per_million  deaths_cumulative  deaths_new  deaths_cumulative_per_million  ...  stringency_index  stringency_index_for_display  stringency_legacy_index  stringency_legacy_index_for_display  government_response_index government_response_index_for_display  containment_health_index  containment_health_index_for_display  economic_support_index  economic_support_index_for_display\n",
       "0                        AFG  Afghanistan  2019-12-31               0.0        0.0                           0.0                    0.0                0.0         0.0                            0.0  ...               NaN                           NaN                      NaN                                  NaN                        NaN                                   NaN                       NaN                                   NaN                     NaN                                 NaN\n",
       "1                        AFG  Afghanistan  2020-01-01               0.0        0.0                           0.0                    0.0                0.0         0.0                            0.0  ...              0.00                          0.00                     0.00                                 0.00                       0.00                                  0.00                      0.00                                  0.00                     0.0                                 0.0\n",
       "2                        AFG  Afghanistan  2020-01-02               0.0        0.0                           0.0                    0.0                0.0         0.0                            0.0  ...              0.00                          0.00                     0.00                                 0.00                       0.00                                  0.00                      0.00                                  0.00                     0.0                                 0.0\n",
       "3                        AFG  Afghanistan  2020-01-03               0.0        0.0                           0.0                    0.0                0.0         0.0                            0.0  ...              0.00                          0.00                     0.00                                 0.00                       0.00                                  0.00                      0.00                                  0.00                     0.0                                 0.0\n",
       "4                        AFG  Afghanistan  2020-01-04               0.0        0.0                           0.0                    0.0                0.0         0.0                            0.0  ...              0.00                          0.00                     0.00                                 0.00                       0.00                                  0.00                      0.00                                  0.00                     0.0                                 0.0\n",
       "...                      ...          ...         ...               ...        ...                           ...                    ...                ...         ...                            ...  ...               ...                           ...                      ...                                  ...                        ...                                   ...                       ...                                   ...                     ...                                 ...\n",
       "98941                    VUT      Vanuatu  2020-10-05               NaN        NaN                           NaN                    NaN                NaN         NaN                            NaN  ...             22.22                         22.22                    28.57                                28.57                      25.64                                 25.64                     25.76                                 25.76                    25.0                                25.0\n",
       "98942                    VUT      Vanuatu  2020-10-06               NaN        NaN                           NaN                    NaN                NaN         NaN                            NaN  ...               NaN                         22.22                      NaN                                28.57                        NaN                                 25.64                       NaN                                 25.76                     NaN                                25.0\n",
       "98943                    VUT      Vanuatu  2020-10-07               NaN        NaN                           NaN                    NaN                NaN         NaN                            NaN  ...               NaN                         22.22                      NaN                                28.57                        NaN                                 25.64                       NaN                                 25.76                     NaN                                25.0\n",
       "98944                    VUT      Vanuatu  2020-10-08               NaN        NaN                           NaN                    NaN                NaN         NaN                            NaN  ...               NaN                         22.22                      NaN                                28.57                        NaN                                 25.64                       NaN                                 25.76                     NaN                                25.0\n",
       "98945                    VUT      Vanuatu  2020-10-09               NaN        NaN                           NaN                    NaN                NaN         NaN                            NaN  ...               NaN                         22.22                      NaN                                28.57                        NaN                                 25.64                       NaN                                 25.76                     NaN                                25.0\n",
       "\n",
       "[98946 rows x 62 columns]"
      ],
      "text/html": "<div>\n<style scoped>\n    .dataframe tbody tr th:only-of-type {\n        vertical-align: middle;\n    }\n\n    .dataframe tbody tr th {\n        vertical-align: top;\n    }\n\n    .dataframe thead th {\n        text-align: right;\n    }\n</style>\n<table border=\"1\" class=\"dataframe\">\n  <thead>\n    <tr style=\"text-align: right;\">\n      <th></th>\n      <th>open_covid_region_code</th>\n      <th>region_name</th>\n      <th>date</th>\n      <th>cases_cumulative</th>\n      <th>cases_new</th>\n      <th>cases_cumulative_per_million</th>\n      <th>cases_new_per_million</th>\n      <th>deaths_cumulative</th>\n      <th>deaths_new</th>\n      <th>deaths_cumulative_per_million</th>\n      <th>...</th>\n      <th>stringency_index</th>\n      <th>stringency_index_for_display</th>\n      <th>stringency_legacy_index</th>\n      <th>stringency_legacy_index_for_display</th>\n      <th>government_response_index</th>\n      <th>government_response_index_for_display</th>\n      <th>containment_health_index</th>\n      <th>containment_health_index_for_display</th>\n      <th>economic_support_index</th>\n      <th>economic_support_index_for_display</th>\n    </tr>\n  </thead>\n  <tbody>\n    <tr>\n      <th>0</th>\n      <td>AFG</td>\n      <td>Afghanistan</td>\n      <td>2019-12-31</td>\n      <td>0.0</td>\n      <td>0.0</td>\n      <td>0.0</td>\n      <td>0.0</td>\n      <td>0.0</td>\n      <td>0.0</td>\n      <td>0.0</td>\n      <td>...</td>\n      <td>NaN</td>\n      <td>NaN</td>\n      <td>NaN</td>\n      <td>NaN</td>\n      <td>NaN</td>\n      <td>NaN</td>\n      <td>NaN</td>\n      <td>NaN</td>\n      <td>NaN</td>\n      <td>NaN</td>\n    </tr>\n    <tr>\n      <th>1</th>\n      <td>AFG</td>\n      <td>Afghanistan</td>\n      <td>2020-01-01</td>\n      <td>0.0</td>\n      <td>0.0</td>\n      <td>0.0</td>\n      <td>0.0</td>\n      <td>0.0</td>\n      <td>0.0</td>\n      <td>0.0</td>\n      <td>...</td>\n      <td>0.00</td>\n      <td>0.00</td>\n      <td>0.00</td>\n      <td>0.00</td>\n      <td>0.00</td>\n      <td>0.00</td>\n      <td>0.00</td>\n      <td>0.00</td>\n      <td>0.0</td>\n      <td>0.0</td>\n    </tr>\n    <tr>\n      <th>2</th>\n      <td>AFG</td>\n      <td>Afghanistan</td>\n      <td>2020-01-02</td>\n      <td>0.0</td>\n      <td>0.0</td>\n      <td>0.0</td>\n      <td>0.0</td>\n      <td>0.0</td>\n      <td>0.0</td>\n      <td>0.0</td>\n      <td>...</td>\n      <td>0.00</td>\n      <td>0.00</td>\n      <td>0.00</td>\n      <td>0.00</td>\n      <td>0.00</td>\n      <td>0.00</td>\n      <td>0.00</td>\n      <td>0.00</td>\n      <td>0.0</td>\n      <td>0.0</td>\n    </tr>\n    <tr>\n      <th>3</th>\n      <td>AFG</td>\n      <td>Afghanistan</td>\n      <td>2020-01-03</td>\n      <td>0.0</td>\n      <td>0.0</td>\n      <td>0.0</td>\n      <td>0.0</td>\n      <td>0.0</td>\n      <td>0.0</td>\n      <td>0.0</td>\n      <td>...</td>\n      <td>0.00</td>\n      <td>0.00</td>\n      <td>0.00</td>\n      <td>0.00</td>\n      <td>0.00</td>\n      <td>0.00</td>\n      <td>0.00</td>\n      <td>0.00</td>\n      <td>0.0</td>\n      <td>0.0</td>\n    </tr>\n    <tr>\n      <th>4</th>\n      <td>AFG</td>\n      <td>Afghanistan</td>\n      <td>2020-01-04</td>\n      <td>0.0</td>\n      <td>0.0</td>\n      <td>0.0</td>\n      <td>0.0</td>\n      <td>0.0</td>\n      <td>0.0</td>\n      <td>0.0</td>\n      <td>...</td>\n      <td>0.00</td>\n      <td>0.00</td>\n      <td>0.00</td>\n      <td>0.00</td>\n      <td>0.00</td>\n      <td>0.00</td>\n      <td>0.00</td>\n      <td>0.00</td>\n      <td>0.0</td>\n      <td>0.0</td>\n    </tr>\n    <tr>\n      <th>...</th>\n      <td>...</td>\n      <td>...</td>\n      <td>...</td>\n      <td>...</td>\n      <td>...</td>\n      <td>...</td>\n      <td>...</td>\n      <td>...</td>\n      <td>...</td>\n      <td>...</td>\n      <td>...</td>\n      <td>...</td>\n      <td>...</td>\n      <td>...</td>\n      <td>...</td>\n      <td>...</td>\n      <td>...</td>\n      <td>...</td>\n      <td>...</td>\n      <td>...</td>\n      <td>...</td>\n    </tr>\n    <tr>\n      <th>98941</th>\n      <td>VUT</td>\n      <td>Vanuatu</td>\n      <td>2020-10-05</td>\n      <td>NaN</td>\n      <td>NaN</td>\n      <td>NaN</td>\n      <td>NaN</td>\n      <td>NaN</td>\n      <td>NaN</td>\n      <td>NaN</td>\n      <td>...</td>\n      <td>22.22</td>\n      <td>22.22</td>\n      <td>28.57</td>\n      <td>28.57</td>\n      <td>25.64</td>\n      <td>25.64</td>\n      <td>25.76</td>\n      <td>25.76</td>\n      <td>25.0</td>\n      <td>25.0</td>\n    </tr>\n    <tr>\n      <th>98942</th>\n      <td>VUT</td>\n      <td>Vanuatu</td>\n      <td>2020-10-06</td>\n      <td>NaN</td>\n      <td>NaN</td>\n      <td>NaN</td>\n      <td>NaN</td>\n      <td>NaN</td>\n      <td>NaN</td>\n      <td>NaN</td>\n      <td>...</td>\n      <td>NaN</td>\n      <td>22.22</td>\n      <td>NaN</td>\n      <td>28.57</td>\n      <td>NaN</td>\n      <td>25.64</td>\n      <td>NaN</td>\n      <td>25.76</td>\n      <td>NaN</td>\n      <td>25.0</td>\n    </tr>\n    <tr>\n      <th>98943</th>\n      <td>VUT</td>\n      <td>Vanuatu</td>\n      <td>2020-10-07</td>\n      <td>NaN</td>\n      <td>NaN</td>\n      <td>NaN</td>\n      <td>NaN</td>\n      <td>NaN</td>\n      <td>NaN</td>\n      <td>NaN</td>\n      <td>...</td>\n      <td>NaN</td>\n      <td>22.22</td>\n      <td>NaN</td>\n      <td>28.57</td>\n      <td>NaN</td>\n      <td>25.64</td>\n      <td>NaN</td>\n      <td>25.76</td>\n      <td>NaN</td>\n      <td>25.0</td>\n    </tr>\n    <tr>\n      <th>98944</th>\n      <td>VUT</td>\n      <td>Vanuatu</td>\n      <td>2020-10-08</td>\n      <td>NaN</td>\n      <td>NaN</td>\n      <td>NaN</td>\n      <td>NaN</td>\n      <td>NaN</td>\n      <td>NaN</td>\n      <td>NaN</td>\n      <td>...</td>\n      <td>NaN</td>\n      <td>22.22</td>\n      <td>NaN</td>\n      <td>28.57</td>\n      <td>NaN</td>\n      <td>25.64</td>\n      <td>NaN</td>\n      <td>25.76</td>\n      <td>NaN</td>\n      <td>25.0</td>\n    </tr>\n    <tr>\n      <th>98945</th>\n      <td>VUT</td>\n      <td>Vanuatu</td>\n      <td>2020-10-09</td>\n      <td>NaN</td>\n      <td>NaN</td>\n      <td>NaN</td>\n      <td>NaN</td>\n      <td>NaN</td>\n      <td>NaN</td>\n      <td>NaN</td>\n      <td>...</td>\n      <td>NaN</td>\n      <td>22.22</td>\n      <td>NaN</td>\n      <td>28.57</td>\n      <td>NaN</td>\n      <td>25.64</td>\n      <td>NaN</td>\n      <td>25.76</td>\n      <td>NaN</td>\n      <td>25.0</td>\n    </tr>\n  </tbody>\n</table>\n<p>98946 rows × 62 columns</p>\n</div>"
     },
     "metadata": {},
     "execution_count": 8
    }
   ],
   "source": [
    "hospitalization_df"
   ]
  },
  {
   "source": [
    "Since we only need `open_covid_region_code`, `region_name`,  `date`, and `hospitalized_new`, we will select only these columns\n",
    "\n",
    "And in this mini-project only, we will use only data gathered from US\n"
   ],
   "cell_type": "markdown",
   "metadata": {}
  },
  {
   "cell_type": "code",
   "execution_count": 9,
   "metadata": {},
   "outputs": [
    {
     "output_type": "execute_result",
     "data": {
      "text/plain": [
       "      region_name        date  hospitalized_new\n",
       "85278     Wyoming  2020-03-07               0.0\n",
       "85279     Wyoming  2020-03-08               0.0\n",
       "85280     Wyoming  2020-03-09               0.0\n",
       "85281     Wyoming  2020-03-10               0.0\n",
       "85282     Wyoming  2020-03-11               0.0\n",
       "...           ...         ...               ...\n",
       "97526      Alaska  2020-10-04               0.0\n",
       "97527      Alaska  2020-10-05               0.0\n",
       "97528      Alaska  2020-10-06               0.0\n",
       "97529      Alaska  2020-10-07               0.0\n",
       "97530      Alaska  2020-10-08               0.0\n",
       "\n",
       "[9242 rows x 3 columns]"
      ],
      "text/html": "<div>\n<style scoped>\n    .dataframe tbody tr th:only-of-type {\n        vertical-align: middle;\n    }\n\n    .dataframe tbody tr th {\n        vertical-align: top;\n    }\n\n    .dataframe thead th {\n        text-align: right;\n    }\n</style>\n<table border=\"1\" class=\"dataframe\">\n  <thead>\n    <tr style=\"text-align: right;\">\n      <th></th>\n      <th>region_name</th>\n      <th>date</th>\n      <th>hospitalized_new</th>\n    </tr>\n  </thead>\n  <tbody>\n    <tr>\n      <th>85278</th>\n      <td>Wyoming</td>\n      <td>2020-03-07</td>\n      <td>0.0</td>\n    </tr>\n    <tr>\n      <th>85279</th>\n      <td>Wyoming</td>\n      <td>2020-03-08</td>\n      <td>0.0</td>\n    </tr>\n    <tr>\n      <th>85280</th>\n      <td>Wyoming</td>\n      <td>2020-03-09</td>\n      <td>0.0</td>\n    </tr>\n    <tr>\n      <th>85281</th>\n      <td>Wyoming</td>\n      <td>2020-03-10</td>\n      <td>0.0</td>\n    </tr>\n    <tr>\n      <th>85282</th>\n      <td>Wyoming</td>\n      <td>2020-03-11</td>\n      <td>0.0</td>\n    </tr>\n    <tr>\n      <th>...</th>\n      <td>...</td>\n      <td>...</td>\n      <td>...</td>\n    </tr>\n    <tr>\n      <th>97526</th>\n      <td>Alaska</td>\n      <td>2020-10-04</td>\n      <td>0.0</td>\n    </tr>\n    <tr>\n      <th>97527</th>\n      <td>Alaska</td>\n      <td>2020-10-05</td>\n      <td>0.0</td>\n    </tr>\n    <tr>\n      <th>97528</th>\n      <td>Alaska</td>\n      <td>2020-10-06</td>\n      <td>0.0</td>\n    </tr>\n    <tr>\n      <th>97529</th>\n      <td>Alaska</td>\n      <td>2020-10-07</td>\n      <td>0.0</td>\n    </tr>\n    <tr>\n      <th>97530</th>\n      <td>Alaska</td>\n      <td>2020-10-08</td>\n      <td>0.0</td>\n    </tr>\n  </tbody>\n</table>\n<p>9242 rows × 3 columns</p>\n</div>"
     },
     "metadata": {},
     "execution_count": 9
    }
   ],
   "source": [
    "hospitalization_df = hospitalization_df[['open_covid_region_code','region_name','date','hospitalized_new']]\n",
    "hospitalization_df = hospitalization_df[hospitalization_df['open_covid_region_code'].str.contains('^US-')]\n",
    "hospitalization_df = hospitalization_df.drop(hospitalization_df.columns[[0]], axis=1)\n",
    "regions = hospitalization_df.region_name.unique()\n",
    "\n",
    "for region in regions:\n",
    "    region_df = hospitalization_df[hospitalization_df['region_name'] == region]\n",
    "    if (region_df['hospitalized_new'] == 0).all():\n",
    "        hospitalization_df = hospitalization_df.drop(hospitalization_df[hospitalization_df.region_name == region].index, axis=0) \n",
    "hospitalization_df"
   ]
  },
  {
   "source": [
    "Since the data here are daily basis, and the data in search_trend_df are weekly basis, we need to convert these to weekly basis"
   ],
   "cell_type": "markdown",
   "metadata": {}
  },
  {
   "cell_type": "code",
   "execution_count": 10,
   "metadata": {},
   "outputs": [
    {
     "output_type": "execute_result",
     "data": {
      "text/plain": [
       "     region_name       date  hospitalized_new\n",
       "0        Alabama 2020-03-09               0.0\n",
       "1        Alabama 2020-03-16               0.0\n",
       "2        Alabama 2020-03-23               0.0\n",
       "3        Alabama 2020-03-30               0.0\n",
       "4        Alabama 2020-04-06             231.0\n",
       "...          ...        ...               ...\n",
       "1354     Wyoming 2020-09-14               9.0\n",
       "1355     Wyoming 2020-09-21              15.0\n",
       "1356     Wyoming 2020-09-28              19.0\n",
       "1357     Wyoming 2020-10-05              20.0\n",
       "1358     Wyoming 2020-10-12              31.0\n",
       "\n",
       "[1359 rows x 3 columns]"
      ],
      "text/html": "<div>\n<style scoped>\n    .dataframe tbody tr th:only-of-type {\n        vertical-align: middle;\n    }\n\n    .dataframe tbody tr th {\n        vertical-align: top;\n    }\n\n    .dataframe thead th {\n        text-align: right;\n    }\n</style>\n<table border=\"1\" class=\"dataframe\">\n  <thead>\n    <tr style=\"text-align: right;\">\n      <th></th>\n      <th>region_name</th>\n      <th>date</th>\n      <th>hospitalized_new</th>\n    </tr>\n  </thead>\n  <tbody>\n    <tr>\n      <th>0</th>\n      <td>Alabama</td>\n      <td>2020-03-09</td>\n      <td>0.0</td>\n    </tr>\n    <tr>\n      <th>1</th>\n      <td>Alabama</td>\n      <td>2020-03-16</td>\n      <td>0.0</td>\n    </tr>\n    <tr>\n      <th>2</th>\n      <td>Alabama</td>\n      <td>2020-03-23</td>\n      <td>0.0</td>\n    </tr>\n    <tr>\n      <th>3</th>\n      <td>Alabama</td>\n      <td>2020-03-30</td>\n      <td>0.0</td>\n    </tr>\n    <tr>\n      <th>4</th>\n      <td>Alabama</td>\n      <td>2020-04-06</td>\n      <td>231.0</td>\n    </tr>\n    <tr>\n      <th>...</th>\n      <td>...</td>\n      <td>...</td>\n      <td>...</td>\n    </tr>\n    <tr>\n      <th>1354</th>\n      <td>Wyoming</td>\n      <td>2020-09-14</td>\n      <td>9.0</td>\n    </tr>\n    <tr>\n      <th>1355</th>\n      <td>Wyoming</td>\n      <td>2020-09-21</td>\n      <td>15.0</td>\n    </tr>\n    <tr>\n      <th>1356</th>\n      <td>Wyoming</td>\n      <td>2020-09-28</td>\n      <td>19.0</td>\n    </tr>\n    <tr>\n      <th>1357</th>\n      <td>Wyoming</td>\n      <td>2020-10-05</td>\n      <td>20.0</td>\n    </tr>\n    <tr>\n      <th>1358</th>\n      <td>Wyoming</td>\n      <td>2020-10-12</td>\n      <td>31.0</td>\n    </tr>\n  </tbody>\n</table>\n<p>1359 rows × 3 columns</p>\n</div>"
     },
     "metadata": {},
     "execution_count": 10
    }
   ],
   "source": [
    "hospitalization_df['date'] = pd.to_datetime(hospitalization_df['date'], format='%Y-%m-%d')\n",
    "hospitalization_df = hospitalization_df.groupby(['region_name',]).resample('W', on='date',loffset='1d').sum()\n",
    "hospitalization_df = hospitalization_df.reset_index()\n",
    "hospitalization_df"
   ]
  },
  {
   "source": [
    "now the cleanning is done, we merge the datasets\n",
    "\n",
    "We also drop column `open_covid_region_code` since we already have `sub_region_1` \n",
    "\n",
    "For future purpose, we rename `sub_region_1` to `region_name`"
   ],
   "cell_type": "markdown",
   "metadata": {}
  },
  {
   "cell_type": "code",
   "execution_count": 11,
   "metadata": {},
   "outputs": [
    {
     "output_type": "execute_result",
     "data": {
      "text/plain": [
       "    region_name       date  symptom:Adrenal crisis  symptom:Ageusia  symptom:Allergic conjunctivitis  symptom:Amblyopia  symptom:Amenorrhea  symptom:Angular cheilitis  symptom:Anosmia  symptom:Aphonia  ...  symptom:Thyroid nodule  symptom:Trichoptilosis  symptom:Upper respiratory tract infection  symptom:Urethritis  symptom:Urinary urgency  symptom:Vasculitis  symptom:Ventricular fibrillation  symptom:Viral pneumonia  symptom:Yawn  hospitalized_new\n",
       "0        Alaska 2020-03-09                   10.60              NaN                            11.61                NaN               12.79                        NaN             7.07             7.91  ...                   11.11                   13.97                                      46.95               10.27                      NaN                9.26                               NaN                    18.85         10.77               0.0\n",
       "1        Alaska 2020-03-16                   11.69              NaN                             6.39                NaN                 NaN                        NaN            15.59             7.95  ...                   14.49                    9.04                                      78.71               12.00                      NaN               11.53                               NaN                    24.94         14.34               0.0\n",
       "2        Alaska 2020-03-23                   11.15            16.57                              NaN                NaN                9.53                        NaN            45.17              NaN  ...                    7.63                    8.36                                      37.54                8.80                      NaN                6.75                              7.04                    13.79         15.69               0.0\n",
       "3        Alaska 2020-03-30                    8.96             8.96                             7.11                NaN                8.53                        NaN            19.05              NaN  ...                    9.38                   14.79                                      24.46                9.81                     7.96                7.54                              7.11                     8.82         17.63               6.0\n",
       "4        Alaska 2020-04-06                   10.08             7.35                              NaN                NaN               10.80                       7.06             6.77              NaN  ...                    8.64                   13.83                                      16.28               10.08                      NaN               11.09                               NaN                     9.07         14.12              14.0\n",
       "..          ...        ...                     ...              ...                              ...                ...                 ...                        ...              ...              ...  ...                     ...                     ...                                        ...                 ...                      ...                 ...                               ...                      ...           ...               ...\n",
       "416     Wyoming 2020-08-31                    5.03             2.79                              NaN               5.75                4.19                        NaN              NaN              NaN  ...                    3.07                    2.57                                       2.68                 NaN                      NaN                5.08                               NaN                      NaN          3.63               8.0\n",
       "417     Wyoming 2020-09-07                    3.36             3.25                             2.20               3.63                 NaN                       2.25             2.70              NaN  ...                    2.81                     NaN                                       3.19                3.19                      NaN                4.51                               NaN                      NaN          4.02               4.0\n",
       "418     Wyoming 2020-09-14                    4.15             4.97                              NaN               5.14                5.79                        NaN             4.59              NaN  ...                    5.63                    3.06                                       4.59                3.22                     2.68                3.88                               NaN                      NaN          4.37               9.0\n",
       "419     Wyoming 2020-09-21                    5.64             3.67                              NaN               5.25                3.77                        NaN             5.09              NaN  ...                    3.72                    3.17                                       3.23                2.90                      NaN                5.14                              3.23                      NaN          4.76              15.0\n",
       "420     Wyoming 2020-09-28                    9.79             4.54                              NaN               4.64                2.60                        NaN             4.87              NaN  ...                    4.31                    2.54                                        NaN                3.32                      NaN                5.86                              3.37                      NaN          5.92              19.0\n",
       "\n",
       "[421 rows x 124 columns]"
      ],
      "text/html": "<div>\n<style scoped>\n    .dataframe tbody tr th:only-of-type {\n        vertical-align: middle;\n    }\n\n    .dataframe tbody tr th {\n        vertical-align: top;\n    }\n\n    .dataframe thead th {\n        text-align: right;\n    }\n</style>\n<table border=\"1\" class=\"dataframe\">\n  <thead>\n    <tr style=\"text-align: right;\">\n      <th></th>\n      <th>region_name</th>\n      <th>date</th>\n      <th>symptom:Adrenal crisis</th>\n      <th>symptom:Ageusia</th>\n      <th>symptom:Allergic conjunctivitis</th>\n      <th>symptom:Amblyopia</th>\n      <th>symptom:Amenorrhea</th>\n      <th>symptom:Angular cheilitis</th>\n      <th>symptom:Anosmia</th>\n      <th>symptom:Aphonia</th>\n      <th>...</th>\n      <th>symptom:Thyroid nodule</th>\n      <th>symptom:Trichoptilosis</th>\n      <th>symptom:Upper respiratory tract infection</th>\n      <th>symptom:Urethritis</th>\n      <th>symptom:Urinary urgency</th>\n      <th>symptom:Vasculitis</th>\n      <th>symptom:Ventricular fibrillation</th>\n      <th>symptom:Viral pneumonia</th>\n      <th>symptom:Yawn</th>\n      <th>hospitalized_new</th>\n    </tr>\n  </thead>\n  <tbody>\n    <tr>\n      <th>0</th>\n      <td>Alaska</td>\n      <td>2020-03-09</td>\n      <td>10.60</td>\n      <td>NaN</td>\n      <td>11.61</td>\n      <td>NaN</td>\n      <td>12.79</td>\n      <td>NaN</td>\n      <td>7.07</td>\n      <td>7.91</td>\n      <td>...</td>\n      <td>11.11</td>\n      <td>13.97</td>\n      <td>46.95</td>\n      <td>10.27</td>\n      <td>NaN</td>\n      <td>9.26</td>\n      <td>NaN</td>\n      <td>18.85</td>\n      <td>10.77</td>\n      <td>0.0</td>\n    </tr>\n    <tr>\n      <th>1</th>\n      <td>Alaska</td>\n      <td>2020-03-16</td>\n      <td>11.69</td>\n      <td>NaN</td>\n      <td>6.39</td>\n      <td>NaN</td>\n      <td>NaN</td>\n      <td>NaN</td>\n      <td>15.59</td>\n      <td>7.95</td>\n      <td>...</td>\n      <td>14.49</td>\n      <td>9.04</td>\n      <td>78.71</td>\n      <td>12.00</td>\n      <td>NaN</td>\n      <td>11.53</td>\n      <td>NaN</td>\n      <td>24.94</td>\n      <td>14.34</td>\n      <td>0.0</td>\n    </tr>\n    <tr>\n      <th>2</th>\n      <td>Alaska</td>\n      <td>2020-03-23</td>\n      <td>11.15</td>\n      <td>16.57</td>\n      <td>NaN</td>\n      <td>NaN</td>\n      <td>9.53</td>\n      <td>NaN</td>\n      <td>45.17</td>\n      <td>NaN</td>\n      <td>...</td>\n      <td>7.63</td>\n      <td>8.36</td>\n      <td>37.54</td>\n      <td>8.80</td>\n      <td>NaN</td>\n      <td>6.75</td>\n      <td>7.04</td>\n      <td>13.79</td>\n      <td>15.69</td>\n      <td>0.0</td>\n    </tr>\n    <tr>\n      <th>3</th>\n      <td>Alaska</td>\n      <td>2020-03-30</td>\n      <td>8.96</td>\n      <td>8.96</td>\n      <td>7.11</td>\n      <td>NaN</td>\n      <td>8.53</td>\n      <td>NaN</td>\n      <td>19.05</td>\n      <td>NaN</td>\n      <td>...</td>\n      <td>9.38</td>\n      <td>14.79</td>\n      <td>24.46</td>\n      <td>9.81</td>\n      <td>7.96</td>\n      <td>7.54</td>\n      <td>7.11</td>\n      <td>8.82</td>\n      <td>17.63</td>\n      <td>6.0</td>\n    </tr>\n    <tr>\n      <th>4</th>\n      <td>Alaska</td>\n      <td>2020-04-06</td>\n      <td>10.08</td>\n      <td>7.35</td>\n      <td>NaN</td>\n      <td>NaN</td>\n      <td>10.80</td>\n      <td>7.06</td>\n      <td>6.77</td>\n      <td>NaN</td>\n      <td>...</td>\n      <td>8.64</td>\n      <td>13.83</td>\n      <td>16.28</td>\n      <td>10.08</td>\n      <td>NaN</td>\n      <td>11.09</td>\n      <td>NaN</td>\n      <td>9.07</td>\n      <td>14.12</td>\n      <td>14.0</td>\n    </tr>\n    <tr>\n      <th>...</th>\n      <td>...</td>\n      <td>...</td>\n      <td>...</td>\n      <td>...</td>\n      <td>...</td>\n      <td>...</td>\n      <td>...</td>\n      <td>...</td>\n      <td>...</td>\n      <td>...</td>\n      <td>...</td>\n      <td>...</td>\n      <td>...</td>\n      <td>...</td>\n      <td>...</td>\n      <td>...</td>\n      <td>...</td>\n      <td>...</td>\n      <td>...</td>\n      <td>...</td>\n      <td>...</td>\n    </tr>\n    <tr>\n      <th>416</th>\n      <td>Wyoming</td>\n      <td>2020-08-31</td>\n      <td>5.03</td>\n      <td>2.79</td>\n      <td>NaN</td>\n      <td>5.75</td>\n      <td>4.19</td>\n      <td>NaN</td>\n      <td>NaN</td>\n      <td>NaN</td>\n      <td>...</td>\n      <td>3.07</td>\n      <td>2.57</td>\n      <td>2.68</td>\n      <td>NaN</td>\n      <td>NaN</td>\n      <td>5.08</td>\n      <td>NaN</td>\n      <td>NaN</td>\n      <td>3.63</td>\n      <td>8.0</td>\n    </tr>\n    <tr>\n      <th>417</th>\n      <td>Wyoming</td>\n      <td>2020-09-07</td>\n      <td>3.36</td>\n      <td>3.25</td>\n      <td>2.20</td>\n      <td>3.63</td>\n      <td>NaN</td>\n      <td>2.25</td>\n      <td>2.70</td>\n      <td>NaN</td>\n      <td>...</td>\n      <td>2.81</td>\n      <td>NaN</td>\n      <td>3.19</td>\n      <td>3.19</td>\n      <td>NaN</td>\n      <td>4.51</td>\n      <td>NaN</td>\n      <td>NaN</td>\n      <td>4.02</td>\n      <td>4.0</td>\n    </tr>\n    <tr>\n      <th>418</th>\n      <td>Wyoming</td>\n      <td>2020-09-14</td>\n      <td>4.15</td>\n      <td>4.97</td>\n      <td>NaN</td>\n      <td>5.14</td>\n      <td>5.79</td>\n      <td>NaN</td>\n      <td>4.59</td>\n      <td>NaN</td>\n      <td>...</td>\n      <td>5.63</td>\n      <td>3.06</td>\n      <td>4.59</td>\n      <td>3.22</td>\n      <td>2.68</td>\n      <td>3.88</td>\n      <td>NaN</td>\n      <td>NaN</td>\n      <td>4.37</td>\n      <td>9.0</td>\n    </tr>\n    <tr>\n      <th>419</th>\n      <td>Wyoming</td>\n      <td>2020-09-21</td>\n      <td>5.64</td>\n      <td>3.67</td>\n      <td>NaN</td>\n      <td>5.25</td>\n      <td>3.77</td>\n      <td>NaN</td>\n      <td>5.09</td>\n      <td>NaN</td>\n      <td>...</td>\n      <td>3.72</td>\n      <td>3.17</td>\n      <td>3.23</td>\n      <td>2.90</td>\n      <td>NaN</td>\n      <td>5.14</td>\n      <td>3.23</td>\n      <td>NaN</td>\n      <td>4.76</td>\n      <td>15.0</td>\n    </tr>\n    <tr>\n      <th>420</th>\n      <td>Wyoming</td>\n      <td>2020-09-28</td>\n      <td>9.79</td>\n      <td>4.54</td>\n      <td>NaN</td>\n      <td>4.64</td>\n      <td>2.60</td>\n      <td>NaN</td>\n      <td>4.87</td>\n      <td>NaN</td>\n      <td>...</td>\n      <td>4.31</td>\n      <td>2.54</td>\n      <td>NaN</td>\n      <td>3.32</td>\n      <td>NaN</td>\n      <td>5.86</td>\n      <td>3.37</td>\n      <td>NaN</td>\n      <td>5.92</td>\n      <td>19.0</td>\n    </tr>\n  </tbody>\n</table>\n<p>421 rows × 124 columns</p>\n</div>"
     },
     "metadata": {},
     "execution_count": 11
    }
   ],
   "source": [
    "search_trend_df['date'] = pd.to_datetime(search_trend_df['date'], format='%Y-%m-%d')\n",
    "result_df = search_trend_df.merge(hospitalization_df, on=['region_name', 'date'])\n",
    "result_df"
   ]
  },
  {
   "source": [
    "We may need to use the dataframe in another file, so we export it as a CSV file\n",
    "\n",
    "And also, we do not want to have index in our generated CSV file, so we use `index=False`"
   ],
   "cell_type": "markdown",
   "metadata": {}
  },
  {
   "cell_type": "code",
   "execution_count": 12,
   "metadata": {},
   "outputs": [],
   "source": [
    "result_df.to_csv('result.csv', index=False)"
   ]
  },
  {
   "source": [
    "### The cleaning process is done"
   ],
   "cell_type": "markdown",
   "metadata": {}
  }
 ],
 "metadata": {
  "kernelspec": {
   "name": "Python 3.7.7 64-bit",
   "display_name": "Python 3.7.7 64-bit",
   "metadata": {
    "interpreter": {
     "hash": "aee8b7b246df8f9039afb4144a1f6fd8d2ca17a180786b69acc140d282b71a49"
    }
   }
  },
  "language_info": {
   "codemirror_mode": {
    "name": "ipython",
    "version": 2
   },
   "file_extension": ".py",
   "mimetype": "text/x-python",
   "name": "python",
   "nbconvert_exporter": "python",
   "pygments_lexer": "ipython2",
   "version": "3.7.7-final"
  }
 },
 "nbformat": 4,
 "nbformat_minor": 0
}