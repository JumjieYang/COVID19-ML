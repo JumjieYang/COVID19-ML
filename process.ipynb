{
 "cells": [
  {
   "cell_type": "code",
   "execution_count": 10,
   "metadata": {
    "collapsed": true
   }
  },
  {
   "cell_type": "code",
   "execution_count": 1,
   "metadata": {},
   "outputs": [],
   "source": [
    "import pandas as pd\n",
    "import numpy as np\n",
    "pd.set_option('expand_frame_repr', False)"
   ]
  },
  {
   "source": [
    "#### load csvs to pandas dataframes, we will use online data for the best accuracy"
   ],
   "cell_type": "markdown",
   "metadata": {}
  },
  {
   "cell_type": "code",
   "execution_count": 2,
   "metadata": {},
   "outputs": [],
   "source": [
    "search_trend_url =\"https://raw.githubusercontent.com/google-research/open-covid-19-data/master/data/exports/search_trends_symptoms_dataset/United%20States%20of%20America/2020_US_weekly_symptoms_dataset.csv\"\n",
    "hospitalization_url =\"https://raw.githubusercontent.com/google-research/open-covid-19-data/master/data/exports/cc_by/aggregated_cc_by.csv\"\n",
    "search_trend_df = pd.read_csv(search_trend_url)\n",
    "hospitalization_df = pd.read_csv(hospitalization_url)\n"
   ]
  },
  {
   "source": [
    "### We will try to clean the search trend dataset first\n",
    "\n",
    "after loading the dataset to pandas dataframe, we will check how many parameters does the dataframe contains"
   ],
   "cell_type": "markdown",
   "metadata": {}
  },
  {
   "cell_type": "code",
   "execution_count": 3,
   "metadata": {},
   "outputs": [
    {
     "name": "stdout",
     "output_type": "stream",
     "text": [
      "<class 'pandas.core.frame.DataFrame'>\n",
      "RangeIndex: 576 entries, 0 to 575\n",
      "Columns: 124 entries, open_covid_region_code to symptom:Yawn\n",
      "dtypes: float64(121), object(3)\n",
      "memory usage: 558.1+ KB\n",
      "None\n",
      "<class 'pandas.core.frame.DataFrame'>\n",
      "Int64Index: 433 entries, 0 to 432\n",
      "Columns: 125 entries, open_covid_region_code to hospitalized_new\n",
      "dtypes: datetime64[ns](1), float64(122), object(2)\n",
      "memory usage: 426.2+ KB\n",
      "None\n",
      "                                      sum\n",
      "symptom:Aphonia                   4478.88\n",
      "symptom:Viral pneumonia           4136.85\n",
      "symptom:Shallow breathing         3902.18\n",
      "symptom:Angular cheilitis         3526.01\n",
      "symptom:Dysautonomia              3435.65\n",
      "symptom:Laryngitis                3280.74\n",
      "symptom:Crackles                  3268.78\n",
      "symptom:Ventricular fibrillation  3209.33\n",
      "symptom:Rectal pain               3170.71\n",
      "symptom:Hemolysis                 3168.77\n"
     ]
    },
    {
     "name": "stderr",
     "output_type": "stream",
     "text": [
      "/Library/Frameworks/Python.framework/Versions/3.8/lib/python3.8/site-packages/IPython/core/interactiveshell.py:3145: DtypeWarning: Columns (15) have mixed types.Specify dtype option on import or set low_memory=False.\n",
      "  has_raised = await self.run_ast_nodes(code_ast.body, cell_name,\n"
     ]
    }
   ],
   "source": [
    "search_trend_df.iloc[np.r_[0:10,-10:0]]"
   ]
  },
  {
   "source": [
    "Since we have several NaN columns, we can drop the columns where all data in the column are NaN\n",
    "\n",
    "And also, by looking at the dataset, columns named as `country_region_code`, `country_region`, and `sub_region_1_code` can be dropped."
   ],
   "cell_type": "markdown",
   "metadata": {}
  },
  {
   "cell_type": "code",
   "execution_count": 5,
   "metadata": {},
   "outputs": [
    {
     "output_type": "execute_result",
     "data": {
      "text/plain": [
       "    open_covid_region_code sub_region_1        date  symptom:Adrenal crisis  symptom:Ageusia  symptom:Allergic conjunctivitis  symptom:Amblyopia  symptom:Amenorrhea  symptom:Angular cheilitis  symptom:Anosmia  ...  symptom:Tenderness  symptom:Thyroid nodule  symptom:Trichoptilosis  symptom:Upper respiratory tract infection  symptom:Urethritis  symptom:Urinary urgency  symptom:Vasculitis  symptom:Ventricular fibrillation  symptom:Viral pneumonia  symptom:Yawn\n",
       "0                    US-AK       Alaska  2020-01-06                   12.69              NaN                              NaN                NaN               12.29                        NaN              NaN  ...               14.28                   15.86                   11.90                                      18.84               13.88                      NaN               14.08                              9.91                      NaN         14.28\n",
       "1                    US-AK       Alaska  2020-01-13                    9.56              NaN                              NaN                NaN               12.62                        NaN              NaN  ...               13.39                   12.24                    7.84                                      16.83               13.01                     7.65               15.30                              8.41                      NaN         16.26\n",
       "2                    US-AK       Alaska  2020-01-20                     NaN              NaN                              NaN                NaN               14.17                        NaN             7.36  ...               12.88                   17.66                   15.27                                      18.40               12.14                     7.54               10.30                             16.19                      NaN         17.48\n",
       "3                    US-AK       Alaska  2020-01-27                   15.31             7.47                              NaN                NaN               15.67                       7.47              NaN  ...               13.30                   12.76                    9.84                                      20.41               17.49                      NaN               11.30                               NaN                      NaN         10.93\n",
       "4                    US-AK       Alaska  2020-02-03                    8.81              NaN                              NaN                NaN               13.87                       8.06              NaN  ...               11.81                   16.68                   10.68                                      20.62               16.87                      NaN               14.24                             10.68                     10.5         18.93\n",
       "..                     ...          ...         ...                     ...              ...                              ...                ...                 ...                        ...              ...  ...                 ...                     ...                     ...                                        ...                 ...                      ...                 ...                               ...                      ...           ...\n",
       "603                  US-WY      Wyoming  2020-08-24                    4.42             3.31                             3.42               5.19                3.42                        NaN             2.65  ...                3.98                    3.87                    2.26                                       3.98                4.09                      NaN                3.64                              2.48                      NaN          3.87\n",
       "604                  US-WY      Wyoming  2020-08-31                    5.03             2.79                              NaN               5.75                4.19                        NaN              NaN  ...                3.07                    3.07                    2.57                                       2.68                 NaN                      NaN                5.08                               NaN                      NaN          3.63\n",
       "605                  US-WY      Wyoming  2020-09-07                    3.36             3.25                             2.20               3.63                 NaN                       2.25             2.70  ...                4.29                    2.81                     NaN                                       3.19                3.19                      NaN                4.51                               NaN                      NaN          4.02\n",
       "606                  US-WY      Wyoming  2020-09-14                    4.15             4.97                              NaN               5.14                5.79                        NaN             4.59  ...                3.93                    5.63                    3.06                                       4.59                3.22                     2.68                3.88                               NaN                      NaN          4.37\n",
       "607                  US-WY      Wyoming  2020-09-21                    5.64             3.67                              NaN               5.25                3.77                        NaN             5.09  ...                3.28                    3.72                    3.17                                       3.23                2.90                      NaN                5.14                              3.23                      NaN          4.76\n",
       "\n",
       "[608 rows x 124 columns]"
      ],
      "text/html": "<div>\n<style scoped>\n    .dataframe tbody tr th:only-of-type {\n        vertical-align: middle;\n    }\n\n    .dataframe tbody tr th {\n        vertical-align: top;\n    }\n\n    .dataframe thead th {\n        text-align: right;\n    }\n</style>\n<table border=\"1\" class=\"dataframe\">\n  <thead>\n    <tr style=\"text-align: right;\">\n      <th></th>\n      <th>open_covid_region_code</th>\n      <th>sub_region_1</th>\n      <th>date</th>\n      <th>symptom:Adrenal crisis</th>\n      <th>symptom:Ageusia</th>\n      <th>symptom:Allergic conjunctivitis</th>\n      <th>symptom:Amblyopia</th>\n      <th>symptom:Amenorrhea</th>\n      <th>symptom:Angular cheilitis</th>\n      <th>symptom:Anosmia</th>\n      <th>...</th>\n      <th>symptom:Tenderness</th>\n      <th>symptom:Thyroid nodule</th>\n      <th>symptom:Trichoptilosis</th>\n      <th>symptom:Upper respiratory tract infection</th>\n      <th>symptom:Urethritis</th>\n      <th>symptom:Urinary urgency</th>\n      <th>symptom:Vasculitis</th>\n      <th>symptom:Ventricular fibrillation</th>\n      <th>symptom:Viral pneumonia</th>\n      <th>symptom:Yawn</th>\n    </tr>\n  </thead>\n  <tbody>\n    <tr>\n      <th>0</th>\n      <td>US-AK</td>\n      <td>Alaska</td>\n      <td>2020-01-06</td>\n      <td>12.69</td>\n      <td>NaN</td>\n      <td>NaN</td>\n      <td>NaN</td>\n      <td>12.29</td>\n      <td>NaN</td>\n      <td>NaN</td>\n      <td>...</td>\n      <td>14.28</td>\n      <td>15.86</td>\n      <td>11.90</td>\n      <td>18.84</td>\n      <td>13.88</td>\n      <td>NaN</td>\n      <td>14.08</td>\n      <td>9.91</td>\n      <td>NaN</td>\n      <td>14.28</td>\n    </tr>\n    <tr>\n      <th>1</th>\n      <td>US-AK</td>\n      <td>Alaska</td>\n      <td>2020-01-13</td>\n      <td>9.56</td>\n      <td>NaN</td>\n      <td>NaN</td>\n      <td>NaN</td>\n      <td>12.62</td>\n      <td>NaN</td>\n      <td>NaN</td>\n      <td>...</td>\n      <td>13.39</td>\n      <td>12.24</td>\n      <td>7.84</td>\n      <td>16.83</td>\n      <td>13.01</td>\n      <td>7.65</td>\n      <td>15.30</td>\n      <td>8.41</td>\n      <td>NaN</td>\n      <td>16.26</td>\n    </tr>\n    <tr>\n      <th>2</th>\n      <td>US-AK</td>\n      <td>Alaska</td>\n      <td>2020-01-20</td>\n      <td>NaN</td>\n      <td>NaN</td>\n      <td>NaN</td>\n      <td>NaN</td>\n      <td>14.17</td>\n      <td>NaN</td>\n      <td>7.36</td>\n      <td>...</td>\n      <td>12.88</td>\n      <td>17.66</td>\n      <td>15.27</td>\n      <td>18.40</td>\n      <td>12.14</td>\n      <td>7.54</td>\n      <td>10.30</td>\n      <td>16.19</td>\n      <td>NaN</td>\n      <td>17.48</td>\n    </tr>\n    <tr>\n      <th>3</th>\n      <td>US-AK</td>\n      <td>Alaska</td>\n      <td>2020-01-27</td>\n      <td>15.31</td>\n      <td>7.47</td>\n      <td>NaN</td>\n      <td>NaN</td>\n      <td>15.67</td>\n      <td>7.47</td>\n      <td>NaN</td>\n      <td>...</td>\n      <td>13.30</td>\n      <td>12.76</td>\n      <td>9.84</td>\n      <td>20.41</td>\n      <td>17.49</td>\n      <td>NaN</td>\n      <td>11.30</td>\n      <td>NaN</td>\n      <td>NaN</td>\n      <td>10.93</td>\n    </tr>\n    <tr>\n      <th>4</th>\n      <td>US-AK</td>\n      <td>Alaska</td>\n      <td>2020-02-03</td>\n      <td>8.81</td>\n      <td>NaN</td>\n      <td>NaN</td>\n      <td>NaN</td>\n      <td>13.87</td>\n      <td>8.06</td>\n      <td>NaN</td>\n      <td>...</td>\n      <td>11.81</td>\n      <td>16.68</td>\n      <td>10.68</td>\n      <td>20.62</td>\n      <td>16.87</td>\n      <td>NaN</td>\n      <td>14.24</td>\n      <td>10.68</td>\n      <td>10.5</td>\n      <td>18.93</td>\n    </tr>\n    <tr>\n      <th>...</th>\n      <td>...</td>\n      <td>...</td>\n      <td>...</td>\n      <td>...</td>\n      <td>...</td>\n      <td>...</td>\n      <td>...</td>\n      <td>...</td>\n      <td>...</td>\n      <td>...</td>\n      <td>...</td>\n      <td>...</td>\n      <td>...</td>\n      <td>...</td>\n      <td>...</td>\n      <td>...</td>\n      <td>...</td>\n      <td>...</td>\n      <td>...</td>\n      <td>...</td>\n      <td>...</td>\n    </tr>\n    <tr>\n      <th>603</th>\n      <td>US-WY</td>\n      <td>Wyoming</td>\n      <td>2020-08-24</td>\n      <td>4.42</td>\n      <td>3.31</td>\n      <td>3.42</td>\n      <td>5.19</td>\n      <td>3.42</td>\n      <td>NaN</td>\n      <td>2.65</td>\n      <td>...</td>\n      <td>3.98</td>\n      <td>3.87</td>\n      <td>2.26</td>\n      <td>3.98</td>\n      <td>4.09</td>\n      <td>NaN</td>\n      <td>3.64</td>\n      <td>2.48</td>\n      <td>NaN</td>\n      <td>3.87</td>\n    </tr>\n    <tr>\n      <th>604</th>\n      <td>US-WY</td>\n      <td>Wyoming</td>\n      <td>2020-08-31</td>\n      <td>5.03</td>\n      <td>2.79</td>\n      <td>NaN</td>\n      <td>5.75</td>\n      <td>4.19</td>\n      <td>NaN</td>\n      <td>NaN</td>\n      <td>...</td>\n      <td>3.07</td>\n      <td>3.07</td>\n      <td>2.57</td>\n      <td>2.68</td>\n      <td>NaN</td>\n      <td>NaN</td>\n      <td>5.08</td>\n      <td>NaN</td>\n      <td>NaN</td>\n      <td>3.63</td>\n    </tr>\n    <tr>\n      <th>605</th>\n      <td>US-WY</td>\n      <td>Wyoming</td>\n      <td>2020-09-07</td>\n      <td>3.36</td>\n      <td>3.25</td>\n      <td>2.20</td>\n      <td>3.63</td>\n      <td>NaN</td>\n      <td>2.25</td>\n      <td>2.70</td>\n      <td>...</td>\n      <td>4.29</td>\n      <td>2.81</td>\n      <td>NaN</td>\n      <td>3.19</td>\n      <td>3.19</td>\n      <td>NaN</td>\n      <td>4.51</td>\n      <td>NaN</td>\n      <td>NaN</td>\n      <td>4.02</td>\n    </tr>\n    <tr>\n      <th>606</th>\n      <td>US-WY</td>\n      <td>Wyoming</td>\n      <td>2020-09-14</td>\n      <td>4.15</td>\n      <td>4.97</td>\n      <td>NaN</td>\n      <td>5.14</td>\n      <td>5.79</td>\n      <td>NaN</td>\n      <td>4.59</td>\n      <td>...</td>\n      <td>3.93</td>\n      <td>5.63</td>\n      <td>3.06</td>\n      <td>4.59</td>\n      <td>3.22</td>\n      <td>2.68</td>\n      <td>3.88</td>\n      <td>NaN</td>\n      <td>NaN</td>\n      <td>4.37</td>\n    </tr>\n    <tr>\n      <th>607</th>\n      <td>US-WY</td>\n      <td>Wyoming</td>\n      <td>2020-09-21</td>\n      <td>5.64</td>\n      <td>3.67</td>\n      <td>NaN</td>\n      <td>5.25</td>\n      <td>3.77</td>\n      <td>NaN</td>\n      <td>5.09</td>\n      <td>...</td>\n      <td>3.28</td>\n      <td>3.72</td>\n      <td>3.17</td>\n      <td>3.23</td>\n      <td>2.90</td>\n      <td>NaN</td>\n      <td>5.14</td>\n      <td>3.23</td>\n      <td>NaN</td>\n      <td>4.76</td>\n    </tr>\n  </tbody>\n</table>\n<p>608 rows × 124 columns</p>\n</div>"
     },
     "metadata": {},
     "execution_count": 5
    }
   ],
   "source": [
    "search_trend_df = search_trend_df.dropna(axis=1, how='all')\n",
    "search_trend_df = search_trend_df.drop(['country_region_code', 'country_region', 'sub_region_1_code'], axis=1)\n",
    "search_trend_df = search_trend_df.rename({'sub_region_1': 'region_name'}, axis=1)\n",
    "# now, check the hospitalization cases\n",
    "\n",
    "print(search_trend_df.info())\n",
    "\n",
    "hospitalization_df = pd.read_csv('aggregated_cc_by.csv')\n",
    "\n",
    "# since we have several NaN columns, we can drop the columns with null values to get better result\n",
    "hospitalization_df = hospitalization_df[['open_covid_region_code', 'region_name', 'date', 'hospitalized_new']]\n",
    "hospitalization_df = hospitalization_df.dropna(axis=0, how='all')\n",
    "\n",
    "Yet, we still see a lot of NaNs, let's check the number of NaNs in each column"
   ],
   "cell_type": "markdown",
   "metadata": {}
  },
  {
   "cell_type": "code",
   "execution_count": 7,
   "metadata": {},
   "outputs": [
    {
     "output_type": "execute_result",
     "data": {
      "text/plain": [
       "open_covid_region_code                0\n",
       "sub_region_1                          0\n",
       "date                                  0\n",
       "symptom:Adrenal crisis              346\n",
       "symptom:Ageusia                     370\n",
       "                                   ... \n",
       "symptom:Urinary urgency             218\n",
       "symptom:Vasculitis                  535\n",
       "symptom:Ventricular fibrillation    189\n",
       "symptom:Viral pneumonia             218\n",
       "symptom:Yawn                        533\n",
       "Length: 124, dtype: int64"
      ]
     },
     "metadata": {},
     "execution_count": 7
    }
   ],
   "source": [
    "search_trend_df.isnull().sum()"
   ]
  },
  {
   "source": [
    "In case we need to drop several columns that contains too many NaNs later, we will modify code below to achieve that"
   ],
   "cell_type": "markdown",
   "metadata": {}
  },
  {
   "source": [
    "# cols_drop = []\n",
    "# for col in search_trend_df.columns.values:\n",
    "#     if search_trend_df[col].isnull().sum()/ (float)len(search_trend_df) > .75\n",
    "#         cols_drop.append(col)\n",
    "# search_trend_df = search_trend_df.drop(cols_drop, axis=1)"
   ],
   "cell_type": "code",
   "metadata": {},
   "execution_count": 8,
   "outputs": []
  },
  {
   "source": [
    "### Now, it's time to clean the hospitalization dataset\n",
    "\n",
    "We still need to have a look at the dataset first"
   ],
   "cell_type": "markdown",
   "metadata": {}
  },
  {
   "cell_type": "code",
   "execution_count": 9,
   "metadata": {},
   "outputs": [
    {
     "output_type": "execute_result",
     "data": {
      "text/plain": [
       "      open_covid_region_code  region_name        date  cases_cumulative  cases_new  cases_cumulative_per_million  cases_new_per_million  deaths_cumulative  deaths_new  deaths_cumulative_per_million  ...  stringency_index  stringency_index_for_display  stringency_legacy_index  stringency_legacy_index_for_display  government_response_index government_response_index_for_display  containment_health_index  containment_health_index_for_display  economic_support_index  economic_support_index_for_display\n",
       "0                        AFG  Afghanistan  2019-12-31               0.0        0.0                           0.0                    0.0                0.0         0.0                            0.0  ...               NaN                           NaN                      NaN                                  NaN                        NaN                                   NaN                       NaN                                   NaN                     NaN                                 NaN\n",
       "1                        AFG  Afghanistan  2020-01-01               0.0        0.0                           0.0                    0.0                0.0         0.0                            0.0  ...              0.00                          0.00                     0.00                                 0.00                       0.00                                  0.00                      0.00                                  0.00                     0.0                                 0.0\n",
       "2                        AFG  Afghanistan  2020-01-02               0.0        0.0                           0.0                    0.0                0.0         0.0                            0.0  ...              0.00                          0.00                     0.00                                 0.00                       0.00                                  0.00                      0.00                                  0.00                     0.0                                 0.0\n",
       "3                        AFG  Afghanistan  2020-01-03               0.0        0.0                           0.0                    0.0                0.0         0.0                            0.0  ...              0.00                          0.00                     0.00                                 0.00                       0.00                                  0.00                      0.00                                  0.00                     0.0                                 0.0\n",
       "4                        AFG  Afghanistan  2020-01-04               0.0        0.0                           0.0                    0.0                0.0         0.0                            0.0  ...              0.00                          0.00                     0.00                                 0.00                       0.00                                  0.00                      0.00                                  0.00                     0.0                                 0.0\n",
       "...                      ...          ...         ...               ...        ...                           ...                    ...                ...         ...                            ...  ...               ...                           ...                      ...                                  ...                        ...                                   ...                       ...                                   ...                     ...                                 ...\n",
       "98429                    VUT      Vanuatu  2020-10-04               NaN        NaN                           NaN                    NaN                NaN         NaN                            NaN  ...             22.22                         22.22                    28.57                                28.57                      25.64                                 25.64                     25.76                                 25.76                    25.0                                25.0\n",
       "98430                    VUT      Vanuatu  2020-10-05               NaN        NaN                           NaN                    NaN                NaN         NaN                            NaN  ...             22.22                         22.22                    28.57                                28.57                      25.64                                 25.64                     25.76                                 25.76                    25.0                                25.0\n",
       "98431                    VUT      Vanuatu  2020-10-06               NaN        NaN                           NaN                    NaN                NaN         NaN                            NaN  ...               NaN                         22.22                      NaN                                28.57                        NaN                                 25.64                       NaN                                 25.76                     NaN                                25.0\n",
       "98432                    VUT      Vanuatu  2020-10-07               NaN        NaN                           NaN                    NaN                NaN         NaN                            NaN  ...               NaN                         22.22                      NaN                                28.57                        NaN                                 25.64                       NaN                                 25.76                     NaN                                25.0\n",
       "98433                    VUT      Vanuatu  2020-10-08               NaN        NaN                           NaN                    NaN                NaN         NaN                            NaN  ...               NaN                         22.22                      NaN                                28.57                        NaN                                 25.64                       NaN                                 25.76                     NaN                                25.0\n",
       "\n",
       "[98434 rows x 62 columns]"
      ],
      "text/html": "<div>\n<style scoped>\n    .dataframe tbody tr th:only-of-type {\n        vertical-align: middle;\n    }\n\n    .dataframe tbody tr th {\n        vertical-align: top;\n    }\n\n    .dataframe thead th {\n        text-align: right;\n    }\n</style>\n<table border=\"1\" class=\"dataframe\">\n  <thead>\n    <tr style=\"text-align: right;\">\n      <th></th>\n      <th>open_covid_region_code</th>\n      <th>region_name</th>\n      <th>date</th>\n      <th>cases_cumulative</th>\n      <th>cases_new</th>\n      <th>cases_cumulative_per_million</th>\n      <th>cases_new_per_million</th>\n      <th>deaths_cumulative</th>\n      <th>deaths_new</th>\n      <th>deaths_cumulative_per_million</th>\n      <th>...</th>\n      <th>stringency_index</th>\n      <th>stringency_index_for_display</th>\n      <th>stringency_legacy_index</th>\n      <th>stringency_legacy_index_for_display</th>\n      <th>government_response_index</th>\n      <th>government_response_index_for_display</th>\n      <th>containment_health_index</th>\n      <th>containment_health_index_for_display</th>\n      <th>economic_support_index</th>\n      <th>economic_support_index_for_display</th>\n    </tr>\n  </thead>\n  <tbody>\n    <tr>\n      <th>0</th>\n      <td>AFG</td>\n      <td>Afghanistan</td>\n      <td>2019-12-31</td>\n      <td>0.0</td>\n      <td>0.0</td>\n      <td>0.0</td>\n      <td>0.0</td>\n      <td>0.0</td>\n      <td>0.0</td>\n      <td>0.0</td>\n      <td>...</td>\n      <td>NaN</td>\n      <td>NaN</td>\n      <td>NaN</td>\n      <td>NaN</td>\n      <td>NaN</td>\n      <td>NaN</td>\n      <td>NaN</td>\n      <td>NaN</td>\n      <td>NaN</td>\n      <td>NaN</td>\n    </tr>\n    <tr>\n      <th>1</th>\n      <td>AFG</td>\n      <td>Afghanistan</td>\n      <td>2020-01-01</td>\n      <td>0.0</td>\n      <td>0.0</td>\n      <td>0.0</td>\n      <td>0.0</td>\n      <td>0.0</td>\n      <td>0.0</td>\n      <td>0.0</td>\n      <td>...</td>\n      <td>0.00</td>\n      <td>0.00</td>\n      <td>0.00</td>\n      <td>0.00</td>\n      <td>0.00</td>\n      <td>0.00</td>\n      <td>0.00</td>\n      <td>0.00</td>\n      <td>0.0</td>\n      <td>0.0</td>\n    </tr>\n    <tr>\n      <th>2</th>\n      <td>AFG</td>\n      <td>Afghanistan</td>\n      <td>2020-01-02</td>\n      <td>0.0</td>\n      <td>0.0</td>\n      <td>0.0</td>\n      <td>0.0</td>\n      <td>0.0</td>\n      <td>0.0</td>\n      <td>0.0</td>\n      <td>...</td>\n      <td>0.00</td>\n      <td>0.00</td>\n      <td>0.00</td>\n      <td>0.00</td>\n      <td>0.00</td>\n      <td>0.00</td>\n      <td>0.00</td>\n      <td>0.00</td>\n      <td>0.0</td>\n      <td>0.0</td>\n    </tr>\n    <tr>\n      <th>3</th>\n      <td>AFG</td>\n      <td>Afghanistan</td>\n      <td>2020-01-03</td>\n      <td>0.0</td>\n      <td>0.0</td>\n      <td>0.0</td>\n      <td>0.0</td>\n      <td>0.0</td>\n      <td>0.0</td>\n      <td>0.0</td>\n      <td>...</td>\n      <td>0.00</td>\n      <td>0.00</td>\n      <td>0.00</td>\n      <td>0.00</td>\n      <td>0.00</td>\n      <td>0.00</td>\n      <td>0.00</td>\n      <td>0.00</td>\n      <td>0.0</td>\n      <td>0.0</td>\n    </tr>\n    <tr>\n      <th>4</th>\n      <td>AFG</td>\n      <td>Afghanistan</td>\n      <td>2020-01-04</td>\n      <td>0.0</td>\n      <td>0.0</td>\n      <td>0.0</td>\n      <td>0.0</td>\n      <td>0.0</td>\n      <td>0.0</td>\n      <td>0.0</td>\n      <td>...</td>\n      <td>0.00</td>\n      <td>0.00</td>\n      <td>0.00</td>\n      <td>0.00</td>\n      <td>0.00</td>\n      <td>0.00</td>\n      <td>0.00</td>\n      <td>0.00</td>\n      <td>0.0</td>\n      <td>0.0</td>\n    </tr>\n    <tr>\n      <th>...</th>\n      <td>...</td>\n      <td>...</td>\n      <td>...</td>\n      <td>...</td>\n      <td>...</td>\n      <td>...</td>\n      <td>...</td>\n      <td>...</td>\n      <td>...</td>\n      <td>...</td>\n      <td>...</td>\n      <td>...</td>\n      <td>...</td>\n      <td>...</td>\n      <td>...</td>\n      <td>...</td>\n      <td>...</td>\n      <td>...</td>\n      <td>...</td>\n      <td>...</td>\n      <td>...</td>\n    </tr>\n    <tr>\n      <th>98429</th>\n      <td>VUT</td>\n      <td>Vanuatu</td>\n      <td>2020-10-04</td>\n      <td>NaN</td>\n      <td>NaN</td>\n      <td>NaN</td>\n      <td>NaN</td>\n      <td>NaN</td>\n      <td>NaN</td>\n      <td>NaN</td>\n      <td>...</td>\n      <td>22.22</td>\n      <td>22.22</td>\n      <td>28.57</td>\n      <td>28.57</td>\n      <td>25.64</td>\n      <td>25.64</td>\n      <td>25.76</td>\n      <td>25.76</td>\n      <td>25.0</td>\n      <td>25.0</td>\n    </tr>\n    <tr>\n      <th>98430</th>\n      <td>VUT</td>\n      <td>Vanuatu</td>\n      <td>2020-10-05</td>\n      <td>NaN</td>\n      <td>NaN</td>\n      <td>NaN</td>\n      <td>NaN</td>\n      <td>NaN</td>\n      <td>NaN</td>\n      <td>NaN</td>\n      <td>...</td>\n      <td>22.22</td>\n      <td>22.22</td>\n      <td>28.57</td>\n      <td>28.57</td>\n      <td>25.64</td>\n      <td>25.64</td>\n      <td>25.76</td>\n      <td>25.76</td>\n      <td>25.0</td>\n      <td>25.0</td>\n    </tr>\n    <tr>\n      <th>98431</th>\n      <td>VUT</td>\n      <td>Vanuatu</td>\n      <td>2020-10-06</td>\n      <td>NaN</td>\n      <td>NaN</td>\n      <td>NaN</td>\n      <td>NaN</td>\n      <td>NaN</td>\n      <td>NaN</td>\n      <td>NaN</td>\n      <td>...</td>\n      <td>NaN</td>\n      <td>22.22</td>\n      <td>NaN</td>\n      <td>28.57</td>\n      <td>NaN</td>\n      <td>25.64</td>\n      <td>NaN</td>\n      <td>25.76</td>\n      <td>NaN</td>\n      <td>25.0</td>\n    </tr>\n    <tr>\n      <th>98432</th>\n      <td>VUT</td>\n      <td>Vanuatu</td>\n      <td>2020-10-07</td>\n      <td>NaN</td>\n      <td>NaN</td>\n      <td>NaN</td>\n      <td>NaN</td>\n      <td>NaN</td>\n      <td>NaN</td>\n      <td>NaN</td>\n      <td>...</td>\n      <td>NaN</td>\n      <td>22.22</td>\n      <td>NaN</td>\n      <td>28.57</td>\n      <td>NaN</td>\n      <td>25.64</td>\n      <td>NaN</td>\n      <td>25.76</td>\n      <td>NaN</td>\n      <td>25.0</td>\n    </tr>\n    <tr>\n      <th>98433</th>\n      <td>VUT</td>\n      <td>Vanuatu</td>\n      <td>2020-10-08</td>\n      <td>NaN</td>\n      <td>NaN</td>\n      <td>NaN</td>\n      <td>NaN</td>\n      <td>NaN</td>\n      <td>NaN</td>\n      <td>NaN</td>\n      <td>...</td>\n      <td>NaN</td>\n      <td>22.22</td>\n      <td>NaN</td>\n      <td>28.57</td>\n      <td>NaN</td>\n      <td>25.64</td>\n      <td>NaN</td>\n      <td>25.76</td>\n      <td>NaN</td>\n      <td>25.0</td>\n    </tr>\n  </tbody>\n</table>\n<p>98434 rows × 62 columns</p>\n</div>"
     },
     "metadata": {},
     "execution_count": 9
    }
   ],
   "source": [
    "hospitalization_df"
   ]
  },
  {
   "source": [
    "Since we only need `open_covid_region_code`, `date`, and `hospitalized_new`, we will select only these columns\n",
    "\n",
    "And in this mini-project only, we will use only data gathered from US\n"
   ],
   "cell_type": "markdown",
   "metadata": {}
  },
  {
   "cell_type": "code",
   "execution_count": 10,
   "metadata": {},
   "outputs": [
    {
     "output_type": "execute_result",
     "data": {
      "text/plain": [
       "      open_covid_region_code        date  hospitalized_new\n",
       "84830                  US-WY  2020-03-07               0.0\n",
       "84831                  US-WY  2020-03-08               0.0\n",
       "84832                  US-WY  2020-03-09               0.0\n",
       "84833                  US-WY  2020-03-10               0.0\n",
       "84834                  US-WY  2020-03-11               0.0\n",
       "...                      ...         ...               ...\n",
       "97019                  US-AK  2020-10-03               0.0\n",
       "97020                  US-AK  2020-10-04               0.0\n",
       "97021                  US-AK  2020-10-05               0.0\n",
       "97022                  US-AK  2020-10-06               0.0\n",
       "97023                  US-AK  2020-10-07               0.0\n",
       "\n",
       "[12194 rows x 3 columns]"
      ],
      "text/html": "<div>\n<style scoped>\n    .dataframe tbody tr th:only-of-type {\n        vertical-align: middle;\n    }\n\n    .dataframe tbody tr th {\n        vertical-align: top;\n    }\n\n    .dataframe thead th {\n        text-align: right;\n    }\n</style>\n<table border=\"1\" class=\"dataframe\">\n  <thead>\n    <tr style=\"text-align: right;\">\n      <th></th>\n      <th>open_covid_region_code</th>\n      <th>date</th>\n      <th>hospitalized_new</th>\n    </tr>\n  </thead>\n  <tbody>\n    <tr>\n      <th>84830</th>\n      <td>US-WY</td>\n      <td>2020-03-07</td>\n      <td>0.0</td>\n    </tr>\n    <tr>\n      <th>84831</th>\n      <td>US-WY</td>\n      <td>2020-03-08</td>\n      <td>0.0</td>\n    </tr>\n    <tr>\n      <th>84832</th>\n      <td>US-WY</td>\n      <td>2020-03-09</td>\n      <td>0.0</td>\n    </tr>\n    <tr>\n      <th>84833</th>\n      <td>US-WY</td>\n      <td>2020-03-10</td>\n      <td>0.0</td>\n    </tr>\n    <tr>\n      <th>84834</th>\n      <td>US-WY</td>\n      <td>2020-03-11</td>\n      <td>0.0</td>\n    </tr>\n    <tr>\n      <th>...</th>\n      <td>...</td>\n      <td>...</td>\n      <td>...</td>\n    </tr>\n    <tr>\n      <th>97019</th>\n      <td>US-AK</td>\n      <td>2020-10-03</td>\n      <td>0.0</td>\n    </tr>\n    <tr>\n      <th>97020</th>\n      <td>US-AK</td>\n      <td>2020-10-04</td>\n      <td>0.0</td>\n    </tr>\n    <tr>\n      <th>97021</th>\n      <td>US-AK</td>\n      <td>2020-10-05</td>\n      <td>0.0</td>\n    </tr>\n    <tr>\n      <th>97022</th>\n      <td>US-AK</td>\n      <td>2020-10-06</td>\n      <td>0.0</td>\n    </tr>\n    <tr>\n      <th>97023</th>\n      <td>US-AK</td>\n      <td>2020-10-07</td>\n      <td>0.0</td>\n    </tr>\n  </tbody>\n</table>\n<p>12194 rows × 3 columns</p>\n</div>"
     },
     "metadata": {},
     "execution_count": 10
    }
   ],
   "source": [
    "hospitalization_df = hospitalization_df[['open_covid_region_code','date','hospitalized_new']]\n",
    "hospitalization_df = hospitalization_df[hospitalization_df['open_covid_region_code'].str.contains('^US-')]\n",
    "hospitalization_df"
   ]
  },
  {
   "source": [
    "Since the data here are daily basis, and the data in search_trend_df are weekly basis, we need to convert these to weekly basis"
   ],
   "cell_type": "markdown",
   "metadata": {}
  },
  {
   "cell_type": "code",
   "execution_count": 11,
   "metadata": {},
   "outputs": [
    {
     "output_type": "execute_result",
     "data": {
      "text/plain": [
       "     open_covid_region_code       date  hospitalized_new\n",
       "0                     US-AK 2020-03-09               0.0\n",
       "1                     US-AK 2020-03-16               0.0\n",
       "2                     US-AK 2020-03-23               0.0\n",
       "3                     US-AK 2020-03-30               6.0\n",
       "4                     US-AK 2020-04-06              14.0\n",
       "...                     ...        ...               ...\n",
       "1795                  US-WY 2020-09-14               9.0\n",
       "1796                  US-WY 2020-09-21              15.0\n",
       "1797                  US-WY 2020-09-28              19.0\n",
       "1798                  US-WY 2020-10-05              20.0\n",
       "1799                  US-WY 2020-10-12              23.0\n",
       "\n",
       "[1800 rows x 3 columns]"
      ],
      "text/html": "<div>\n<style scoped>\n    .dataframe tbody tr th:only-of-type {\n        vertical-align: middle;\n    }\n\n    .dataframe tbody tr th {\n        vertical-align: top;\n    }\n\n    .dataframe thead th {\n        text-align: right;\n    }\n</style>\n<table border=\"1\" class=\"dataframe\">\n  <thead>\n    <tr style=\"text-align: right;\">\n      <th></th>\n      <th>open_covid_region_code</th>\n      <th>date</th>\n      <th>hospitalized_new</th>\n    </tr>\n  </thead>\n  <tbody>\n    <tr>\n      <th>0</th>\n      <td>US-AK</td>\n      <td>2020-03-09</td>\n      <td>0.0</td>\n    </tr>\n    <tr>\n      <th>1</th>\n      <td>US-AK</td>\n      <td>2020-03-16</td>\n      <td>0.0</td>\n    </tr>\n    <tr>\n      <th>2</th>\n      <td>US-AK</td>\n      <td>2020-03-23</td>\n      <td>0.0</td>\n    </tr>\n    <tr>\n      <th>3</th>\n      <td>US-AK</td>\n      <td>2020-03-30</td>\n      <td>6.0</td>\n    </tr>\n    <tr>\n      <th>4</th>\n      <td>US-AK</td>\n      <td>2020-04-06</td>\n      <td>14.0</td>\n    </tr>\n    <tr>\n      <th>...</th>\n      <td>...</td>\n      <td>...</td>\n      <td>...</td>\n    </tr>\n    <tr>\n      <th>1795</th>\n      <td>US-WY</td>\n      <td>2020-09-14</td>\n      <td>9.0</td>\n    </tr>\n    <tr>\n      <th>1796</th>\n      <td>US-WY</td>\n      <td>2020-09-21</td>\n      <td>15.0</td>\n    </tr>\n    <tr>\n      <th>1797</th>\n      <td>US-WY</td>\n      <td>2020-09-28</td>\n      <td>19.0</td>\n    </tr>\n    <tr>\n      <th>1798</th>\n      <td>US-WY</td>\n      <td>2020-10-05</td>\n      <td>20.0</td>\n    </tr>\n    <tr>\n      <th>1799</th>\n      <td>US-WY</td>\n      <td>2020-10-12</td>\n      <td>23.0</td>\n    </tr>\n  </tbody>\n</table>\n<p>1800 rows × 3 columns</p>\n</div>"
     },
     "metadata": {},
     "execution_count": 11
    }
   ],
   "source": [
    "hospitalization_df['date'] = pd.to_datetime(hospitalization_df['date'], format='%Y-%m-%d')\n",
    "hospitalization_df = hospitalization_df.groupby(['open_covid_region_code',]).resample('W', on='date',loffset='1d').sum()\n",
    "hospitalization_df = hospitalization_df.reset_index()\n",
    "result = search_trend_df.merge(hospitalization_df, on=['open_covid_region_code', 'region_name', 'date'])\n",
    "result.reset_index()\n",
    "print(result.info())\n",
    "result.to_csv(\"result.csv\", index=False)\n",
    "print(pd.DataFrame(result[result.columns[3:-1]].sum(axis=0), columns=['sum']).sort_values(by=['sum'], ascending=False).head(10))\n",
    "\n",
    "# print(pd.DataFrame(result.sum(axis=0), columns=['sum']).sort_values(by=['sum']))\n"
   ]
  },
  {
   "source": [
    "now the cleanning is done, we merge the datasets\n",
    "\n",
    "We also drop column `open_covid_region_code` since we already have `sub_region_1` \n",
    "\n",
    "For future purpose, we rename `sub_region_1` to `region_name`"
   ],
   "cell_type": "markdown",
   "metadata": {}
  },
  {
   "cell_type": "code",
   "execution_count": 12,
   "metadata": {},
   "outputs": [
    {
     "output_type": "execute_result",
     "data": {
      "text/plain": [
       "    region_name       date  symptom:Adrenal crisis  symptom:Ageusia  symptom:Allergic conjunctivitis  symptom:Amblyopia  symptom:Amenorrhea  symptom:Angular cheilitis  symptom:Anosmia  symptom:Aphonia  ...  symptom:Thyroid nodule  symptom:Trichoptilosis  symptom:Upper respiratory tract infection  symptom:Urethritis  symptom:Urinary urgency  symptom:Vasculitis  symptom:Ventricular fibrillation  symptom:Viral pneumonia  symptom:Yawn  hospitalized_new\n",
       "0        Alaska 2020-03-09                   10.60              NaN                            11.61                NaN               12.79                        NaN             7.07             7.91  ...                   11.11                   13.97                                      46.95               10.27                      NaN                9.26                               NaN                    18.85         10.77               0.0\n",
       "1        Alaska 2020-03-16                   11.69              NaN                             6.39                NaN                 NaN                        NaN            15.59             7.95  ...                   14.49                    9.04                                      78.71               12.00                      NaN               11.53                               NaN                    24.94         14.34               0.0\n",
       "2        Alaska 2020-03-23                   11.15            16.57                              NaN                NaN                9.53                        NaN            45.17              NaN  ...                    7.63                    8.36                                      37.54                8.80                      NaN                6.75                              7.04                    13.79         15.69               0.0\n",
       "3        Alaska 2020-03-30                    8.96             8.96                             7.11                NaN                8.53                        NaN            19.05              NaN  ...                    9.38                   14.79                                      24.46                9.81                     7.96                7.54                              7.11                     8.82         17.63               6.0\n",
       "4        Alaska 2020-04-06                   10.08             7.35                              NaN                NaN               10.80                       7.06             6.77              NaN  ...                    8.64                   13.83                                      16.28               10.08                      NaN               11.09                               NaN                     9.07         14.12              14.0\n",
       "..          ...        ...                     ...              ...                              ...                ...                 ...                        ...              ...              ...  ...                     ...                     ...                                        ...                 ...                      ...                 ...                               ...                      ...           ...               ...\n",
       "460     Wyoming 2020-08-24                    4.42             3.31                             3.42               5.19                3.42                        NaN             2.65              NaN  ...                    3.87                    2.26                                       3.98                4.09                      NaN                3.64                              2.48                      NaN          3.87              16.0\n",
       "461     Wyoming 2020-08-31                    5.03             2.79                              NaN               5.75                4.19                        NaN              NaN              NaN  ...                    3.07                    2.57                                       2.68                 NaN                      NaN                5.08                               NaN                      NaN          3.63               8.0\n",
       "462     Wyoming 2020-09-07                    3.36             3.25                             2.20               3.63                 NaN                       2.25             2.70              NaN  ...                    2.81                     NaN                                       3.19                3.19                      NaN                4.51                               NaN                      NaN          4.02               4.0\n",
       "463     Wyoming 2020-09-14                    4.15             4.97                              NaN               5.14                5.79                        NaN             4.59              NaN  ...                    5.63                    3.06                                       4.59                3.22                     2.68                3.88                               NaN                      NaN          4.37               9.0\n",
       "464     Wyoming 2020-09-21                    5.64             3.67                              NaN               5.25                3.77                        NaN             5.09              NaN  ...                    3.72                    3.17                                       3.23                2.90                      NaN                5.14                              3.23                      NaN          4.76              15.0\n",
       "\n",
       "[465 rows x 124 columns]"
      ],
      "text/html": "<div>\n<style scoped>\n    .dataframe tbody tr th:only-of-type {\n        vertical-align: middle;\n    }\n\n    .dataframe tbody tr th {\n        vertical-align: top;\n    }\n\n    .dataframe thead th {\n        text-align: right;\n    }\n</style>\n<table border=\"1\" class=\"dataframe\">\n  <thead>\n    <tr style=\"text-align: right;\">\n      <th></th>\n      <th>region_name</th>\n      <th>date</th>\n      <th>symptom:Adrenal crisis</th>\n      <th>symptom:Ageusia</th>\n      <th>symptom:Allergic conjunctivitis</th>\n      <th>symptom:Amblyopia</th>\n      <th>symptom:Amenorrhea</th>\n      <th>symptom:Angular cheilitis</th>\n      <th>symptom:Anosmia</th>\n      <th>symptom:Aphonia</th>\n      <th>...</th>\n      <th>symptom:Thyroid nodule</th>\n      <th>symptom:Trichoptilosis</th>\n      <th>symptom:Upper respiratory tract infection</th>\n      <th>symptom:Urethritis</th>\n      <th>symptom:Urinary urgency</th>\n      <th>symptom:Vasculitis</th>\n      <th>symptom:Ventricular fibrillation</th>\n      <th>symptom:Viral pneumonia</th>\n      <th>symptom:Yawn</th>\n      <th>hospitalized_new</th>\n    </tr>\n  </thead>\n  <tbody>\n    <tr>\n      <th>0</th>\n      <td>Alaska</td>\n      <td>2020-03-09</td>\n      <td>10.60</td>\n      <td>NaN</td>\n      <td>11.61</td>\n      <td>NaN</td>\n      <td>12.79</td>\n      <td>NaN</td>\n      <td>7.07</td>\n      <td>7.91</td>\n      <td>...</td>\n      <td>11.11</td>\n      <td>13.97</td>\n      <td>46.95</td>\n      <td>10.27</td>\n      <td>NaN</td>\n      <td>9.26</td>\n      <td>NaN</td>\n      <td>18.85</td>\n      <td>10.77</td>\n      <td>0.0</td>\n    </tr>\n    <tr>\n      <th>1</th>\n      <td>Alaska</td>\n      <td>2020-03-16</td>\n      <td>11.69</td>\n      <td>NaN</td>\n      <td>6.39</td>\n      <td>NaN</td>\n      <td>NaN</td>\n      <td>NaN</td>\n      <td>15.59</td>\n      <td>7.95</td>\n      <td>...</td>\n      <td>14.49</td>\n      <td>9.04</td>\n      <td>78.71</td>\n      <td>12.00</td>\n      <td>NaN</td>\n      <td>11.53</td>\n      <td>NaN</td>\n      <td>24.94</td>\n      <td>14.34</td>\n      <td>0.0</td>\n    </tr>\n    <tr>\n      <th>2</th>\n      <td>Alaska</td>\n      <td>2020-03-23</td>\n      <td>11.15</td>\n      <td>16.57</td>\n      <td>NaN</td>\n      <td>NaN</td>\n      <td>9.53</td>\n      <td>NaN</td>\n      <td>45.17</td>\n      <td>NaN</td>\n      <td>...</td>\n      <td>7.63</td>\n      <td>8.36</td>\n      <td>37.54</td>\n      <td>8.80</td>\n      <td>NaN</td>\n      <td>6.75</td>\n      <td>7.04</td>\n      <td>13.79</td>\n      <td>15.69</td>\n      <td>0.0</td>\n    </tr>\n    <tr>\n      <th>3</th>\n      <td>Alaska</td>\n      <td>2020-03-30</td>\n      <td>8.96</td>\n      <td>8.96</td>\n      <td>7.11</td>\n      <td>NaN</td>\n      <td>8.53</td>\n      <td>NaN</td>\n      <td>19.05</td>\n      <td>NaN</td>\n      <td>...</td>\n      <td>9.38</td>\n      <td>14.79</td>\n      <td>24.46</td>\n      <td>9.81</td>\n      <td>7.96</td>\n      <td>7.54</td>\n      <td>7.11</td>\n      <td>8.82</td>\n      <td>17.63</td>\n      <td>6.0</td>\n    </tr>\n    <tr>\n      <th>4</th>\n      <td>Alaska</td>\n      <td>2020-04-06</td>\n      <td>10.08</td>\n      <td>7.35</td>\n      <td>NaN</td>\n      <td>NaN</td>\n      <td>10.80</td>\n      <td>7.06</td>\n      <td>6.77</td>\n      <td>NaN</td>\n      <td>...</td>\n      <td>8.64</td>\n      <td>13.83</td>\n      <td>16.28</td>\n      <td>10.08</td>\n      <td>NaN</td>\n      <td>11.09</td>\n      <td>NaN</td>\n      <td>9.07</td>\n      <td>14.12</td>\n      <td>14.0</td>\n    </tr>\n    <tr>\n      <th>...</th>\n      <td>...</td>\n      <td>...</td>\n      <td>...</td>\n      <td>...</td>\n      <td>...</td>\n      <td>...</td>\n      <td>...</td>\n      <td>...</td>\n      <td>...</td>\n      <td>...</td>\n      <td>...</td>\n      <td>...</td>\n      <td>...</td>\n      <td>...</td>\n      <td>...</td>\n      <td>...</td>\n      <td>...</td>\n      <td>...</td>\n      <td>...</td>\n      <td>...</td>\n      <td>...</td>\n    </tr>\n    <tr>\n      <th>460</th>\n      <td>Wyoming</td>\n      <td>2020-08-24</td>\n      <td>4.42</td>\n      <td>3.31</td>\n      <td>3.42</td>\n      <td>5.19</td>\n      <td>3.42</td>\n      <td>NaN</td>\n      <td>2.65</td>\n      <td>NaN</td>\n      <td>...</td>\n      <td>3.87</td>\n      <td>2.26</td>\n      <td>3.98</td>\n      <td>4.09</td>\n      <td>NaN</td>\n      <td>3.64</td>\n      <td>2.48</td>\n      <td>NaN</td>\n      <td>3.87</td>\n      <td>16.0</td>\n    </tr>\n    <tr>\n      <th>461</th>\n      <td>Wyoming</td>\n      <td>2020-08-31</td>\n      <td>5.03</td>\n      <td>2.79</td>\n      <td>NaN</td>\n      <td>5.75</td>\n      <td>4.19</td>\n      <td>NaN</td>\n      <td>NaN</td>\n      <td>NaN</td>\n      <td>...</td>\n      <td>3.07</td>\n      <td>2.57</td>\n      <td>2.68</td>\n      <td>NaN</td>\n      <td>NaN</td>\n      <td>5.08</td>\n      <td>NaN</td>\n      <td>NaN</td>\n      <td>3.63</td>\n      <td>8.0</td>\n    </tr>\n    <tr>\n      <th>462</th>\n      <td>Wyoming</td>\n      <td>2020-09-07</td>\n      <td>3.36</td>\n      <td>3.25</td>\n      <td>2.20</td>\n      <td>3.63</td>\n      <td>NaN</td>\n      <td>2.25</td>\n      <td>2.70</td>\n      <td>NaN</td>\n      <td>...</td>\n      <td>2.81</td>\n      <td>NaN</td>\n      <td>3.19</td>\n      <td>3.19</td>\n      <td>NaN</td>\n      <td>4.51</td>\n      <td>NaN</td>\n      <td>NaN</td>\n      <td>4.02</td>\n      <td>4.0</td>\n    </tr>\n    <tr>\n      <th>463</th>\n      <td>Wyoming</td>\n      <td>2020-09-14</td>\n      <td>4.15</td>\n      <td>4.97</td>\n      <td>NaN</td>\n      <td>5.14</td>\n      <td>5.79</td>\n      <td>NaN</td>\n      <td>4.59</td>\n      <td>NaN</td>\n      <td>...</td>\n      <td>5.63</td>\n      <td>3.06</td>\n      <td>4.59</td>\n      <td>3.22</td>\n      <td>2.68</td>\n      <td>3.88</td>\n      <td>NaN</td>\n      <td>NaN</td>\n      <td>4.37</td>\n      <td>9.0</td>\n    </tr>\n    <tr>\n      <th>464</th>\n      <td>Wyoming</td>\n      <td>2020-09-21</td>\n      <td>5.64</td>\n      <td>3.67</td>\n      <td>NaN</td>\n      <td>5.25</td>\n      <td>3.77</td>\n      <td>NaN</td>\n      <td>5.09</td>\n      <td>NaN</td>\n      <td>...</td>\n      <td>3.72</td>\n      <td>3.17</td>\n      <td>3.23</td>\n      <td>2.90</td>\n      <td>NaN</td>\n      <td>5.14</td>\n      <td>3.23</td>\n      <td>NaN</td>\n      <td>4.76</td>\n      <td>15.0</td>\n    </tr>\n  </tbody>\n</table>\n<p>465 rows × 124 columns</p>\n</div>"
     },
     "metadata": {},
     "execution_count": 12
    }
   ],
   "source": [
    "search_trend_df['date'] = pd.to_datetime(search_trend_df['date'], format='%Y-%m-%d')\n",
    "result_df = search_trend_df.merge(hospitalization_df, on=['open_covid_region_code', 'date'])\n",
    "result_df = result_df.rename({'sub_region_1': 'region_name'}, axis=1)\n",
    "result_df = result_df.drop('open_covid_region_code',axis=1)\n",
    "result_df"
   ]
  },
  {
   "source": [
    "We may need to use the dataframe in another file, so we export it as a CSV file\n",
    "\n",
    "And also, we do not want to have index in our generated CSV file, so we use `index=False`"
   ],
   "cell_type": "markdown",
   "metadata": {}
  },
  {
   "cell_type": "code",
   "execution_count": 13,
   "metadata": {},
   "outputs": [],
   "source": [
    "result_df.to_csv('result.csv', index=False)"
   ]
  },
  {
   "source": [
    "### The cleaning process is done"
   ],
   "cell_type": "markdown",
   "metadata": {}
  }
 ],
 "metadata": {
  "kernelspec": {
   "name": "Python 3.7.7 64-bit",
   "display_name": "Python 3.7.7 64-bit",
   "metadata": {
    "interpreter": {
     "hash": "aee8b7b246df8f9039afb4144a1f6fd8d2ca17a180786b69acc140d282b71a49"
    }
   }
  },
  "language_info": {
   "codemirror_mode": {
    "name": "ipython",
    "version": 2
   },
   "file_extension": ".py",
   "mimetype": "text/x-python",
   "name": "python",
   "nbconvert_exporter": "python",
   "pygments_lexer": "ipython2",
   "version": "3.7.7-final"
  }
 },
 "nbformat": 4,
 "nbformat_minor": 0
}