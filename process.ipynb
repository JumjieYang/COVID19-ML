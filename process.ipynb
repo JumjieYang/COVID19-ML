{
 "cells": [
  {
   "cell_type": "code",
   "execution_count": 10,
   "metadata": {
    "collapsed": true
   },
   "outputs": [
    {
     "name": "stdout",
     "output_type": "stream",
     "text": [
      "<class 'pandas.core.frame.DataFrame'>\n",
      "RangeIndex: 576 entries, 0 to 575\n",
      "Columns: 124 entries, open_covid_region_code to symptom:Yawn\n",
      "dtypes: float64(121), object(3)\n",
      "memory usage: 558.1+ KB\n",
      "None\n",
      "<class 'pandas.core.frame.DataFrame'>\n",
      "Int64Index: 433 entries, 0 to 432\n",
      "Columns: 125 entries, open_covid_region_code to hospitalized_new\n",
      "dtypes: datetime64[ns](1), float64(122), object(2)\n",
      "memory usage: 426.2+ KB\n",
      "None\n",
      "                                      sum\n",
      "symptom:Aphonia                   4478.88\n",
      "symptom:Viral pneumonia           4136.85\n",
      "symptom:Shallow breathing         3902.18\n",
      "symptom:Angular cheilitis         3526.01\n",
      "symptom:Dysautonomia              3435.65\n",
      "symptom:Laryngitis                3280.74\n",
      "symptom:Crackles                  3268.78\n",
      "symptom:Ventricular fibrillation  3209.33\n",
      "symptom:Rectal pain               3170.71\n",
      "symptom:Hemolysis                 3168.77\n"
     ]
    },
    {
     "name": "stderr",
     "output_type": "stream",
     "text": [
      "/Library/Frameworks/Python.framework/Versions/3.8/lib/python3.8/site-packages/IPython/core/interactiveshell.py:3145: DtypeWarning: Columns (15) have mixed types.Specify dtype option on import or set low_memory=False.\n",
      "  has_raised = await self.run_ast_nodes(code_ast.body, cell_name,\n"
     ]
    }
   ],
   "source": [
    "import pandas as pd\n",
    "import numpy as np\n",
    "# load csv into pandas dataframe\n",
    "search_trend_df = pd.read_csv('2020_US_weekly_symptoms_dataset.csv')\n",
    "\n",
    "# since we have several NaN columns, we can drop the columns with null values to get better result\n",
    "search_trend_df = search_trend_df.dropna(axis=1, how='all')\n",
    "search_trend_df = search_trend_df.drop(['country_region_code', 'country_region', 'sub_region_1_code'], axis=1)\n",
    "search_trend_df = search_trend_df.rename({'sub_region_1': 'region_name'}, axis=1)\n",
    "# now, check the hospitalization cases\n",
    "\n",
    "print(search_trend_df.info())\n",
    "\n",
    "hospitalization_df = pd.read_csv('aggregated_cc_by.csv')\n",
    "\n",
    "# since we have several NaN columns, we can drop the columns with null values to get better result\n",
    "hospitalization_df = hospitalization_df[['open_covid_region_code', 'region_name', 'date', 'hospitalized_new']]\n",
    "hospitalization_df = hospitalization_df.dropna(axis=0, how='all')\n",
    "\n",
    "# then we need to resample the data to weekly basis\n",
    "hospitalization_df['date'] = pd.to_datetime(hospitalization_df['date'], format='%Y-%m-%d')\n",
    "search_trend_df['date'] = pd.to_datetime(search_trend_df['date'], format='%Y-%m-%d')\n",
    "\n",
    "hospitalization_df = hospitalization_df.groupby(['open_covid_region_code', 'region_name'])\\\n",
    "    .resample('W', on='date').agg('sum').reset_index()\n",
    "\n",
    "hospitalization_df = hospitalization_df.set_index('date')\n",
    "hospitalization_df.index = hospitalization_df.index + pd.tseries.frequencies.to_offset('1d')\n",
    "hospitalization_df = hospitalization_df.reset_index()\n",
    "result = search_trend_df.merge(hospitalization_df, on=['open_covid_region_code', 'region_name', 'date'])\n",
    "result.reset_index()\n",
    "print(result.info())\n",
    "result.to_csv(\"result.csv\", index=False)\n",
    "print(pd.DataFrame(result[result.columns[3:-1]].sum(axis=0), columns=['sum']).sort_values(by=['sum'], ascending=False).head(10))\n",
    "\n",
    "# print(pd.DataFrame(result.sum(axis=0), columns=['sum']).sort_values(by=['sum']))\n"
   ]
  }
 ],
 "metadata": {
  "kernelspec": {
   "display_name": "Python 3",
   "language": "python",
   "name": "python3"
  },
  "language_info": {
   "codemirror_mode": {
    "name": "ipython",
    "version": 2
   },
   "file_extension": ".py",
   "mimetype": "text/x-python",
   "name": "python",
   "nbconvert_exporter": "python",
   "pygments_lexer": "ipython2",
   "version": "2.7.6"
  }
 },
 "nbformat": 4,
 "nbformat_minor": 0
}