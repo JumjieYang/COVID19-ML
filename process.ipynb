{
 "cells": [
  {
   "source": [
    "#### import the required libs (numpy and pandas)"
   ],
   "cell_type": "markdown",
   "metadata": {
    "collapsed": true
   }
  },
  {
   "cell_type": "code",
   "execution_count": 1,
   "metadata": {},
   "outputs": [],
   "source": [
    "import pandas as pd\n",
    "import numpy as np\n",
    "pd.set_option('expand_frame_repr', False)"
   ]
  },
  {
   "source": [
    "#### load csvs to pandas dataframes, we will use online data for the best accuracy"
   ],
   "cell_type": "markdown",
   "metadata": {}
  },
  {
   "cell_type": "code",
   "execution_count": 2,
   "metadata": {},
   "outputs": [],
   "source": [
    "search_trend_url =\"https://raw.githubusercontent.com/google-research/open-covid-19-data/master/data/exports/search_trends_symptoms_dataset/United%20States%20of%20America/2020_US_weekly_symptoms_dataset.csv\"\n",
    "hospitalization_url =\"https://raw.githubusercontent.com/google-research/open-covid-19-data/master/data/exports/cc_by/aggregated_cc_by.csv\"\n",
    "search_trend_df = pd.read_csv(search_trend_url)\n",
    "hospitalization_df = pd.read_csv(hospitalization_url)\n"
   ]
  },
  {
   "source": [
    "### We will try to clean the search trend dataset first\n",
    "\n",
    "after loading the dataset to pandas dataframe, we will check how many parameters does the dataframe contains"
   ],
   "cell_type": "markdown",
   "metadata": {}
  },
  {
   "cell_type": "code",
   "execution_count": 3,
   "metadata": {},
   "outputs": [
    {
     "output_type": "execute_result",
     "data": {
      "text/plain": [
       "430"
      ]
     },
     "metadata": {},
     "execution_count": 3
    }
   ],
   "source": [
    "len(search_trend_df.columns.values)"
   ]
  },
  {
   "source": [
    "#### Since we have 430 parameters, we now examine the data, and try to determine if we can drop some of the columns to avoid over-fitting"
   ],
   "cell_type": "markdown",
   "metadata": {}
  },
  {
   "cell_type": "code",
   "execution_count": 4,
   "metadata": {},
   "outputs": [
    {
     "output_type": "execute_result",
     "data": {
      "text/plain": [
       "    open_covid_region_code country_region_code country_region sub_region_1 sub_region_1_code  sub_region_2  sub_region_2_code        date  symptom:Abdominal obesity  symptom:Abdominal pain  ...  symptom:Wart  symptom:Water retention  symptom:Weakness  symptom:Weight gain  symptom:Wheeze  symptom:Xeroderma  symptom:Xerostomia  symptom:Yawn  symptom:hyperhidrosis  symptom:pancreatitis\n",
       "0                    US-AK                  US  United States       Alaska             US-AK           NaN                NaN  2020-01-06                        NaN                     NaN  ...           NaN                      NaN               NaN                  NaN             NaN                NaN                 NaN         14.28                    NaN                   NaN\n",
       "1                    US-AK                  US  United States       Alaska             US-AK           NaN                NaN  2020-01-13                        NaN                     NaN  ...           NaN                      NaN               NaN                  NaN             NaN                NaN                 NaN         16.26                    NaN                   NaN\n",
       "2                    US-AK                  US  United States       Alaska             US-AK           NaN                NaN  2020-01-20                        NaN                     NaN  ...           NaN                      NaN               NaN                  NaN             NaN                NaN                 NaN         17.48                    NaN                   NaN\n",
       "3                    US-AK                  US  United States       Alaska             US-AK           NaN                NaN  2020-01-27                        NaN                     NaN  ...           NaN                      NaN               NaN                  NaN             NaN                NaN                 NaN         10.93                    NaN                   NaN\n",
       "4                    US-AK                  US  United States       Alaska             US-AK           NaN                NaN  2020-02-03                        NaN                     NaN  ...           NaN                      NaN               NaN                  NaN             NaN                NaN                 NaN         18.93                    NaN                   NaN\n",
       "5                    US-AK                  US  United States       Alaska             US-AK           NaN                NaN  2020-02-10                        NaN                     NaN  ...           NaN                      NaN               NaN                  NaN             NaN                NaN                 NaN         17.05                    NaN                   NaN\n",
       "6                    US-AK                  US  United States       Alaska             US-AK           NaN                NaN  2020-02-17                        NaN                     NaN  ...           NaN                      NaN               NaN                  NaN             NaN                NaN                 NaN         16.62                    NaN                   NaN\n",
       "7                    US-AK                  US  United States       Alaska             US-AK           NaN                NaN  2020-02-24                        NaN                     NaN  ...           NaN                      NaN               NaN                  NaN             NaN                NaN                 NaN         14.42                    NaN                   NaN\n",
       "8                    US-AK                  US  United States       Alaska             US-AK           NaN                NaN  2020-03-02                        NaN                     NaN  ...           NaN                      NaN               NaN                  NaN             NaN                NaN                 NaN          9.30                    NaN                   NaN\n",
       "9                    US-AK                  US  United States       Alaska             US-AK           NaN                NaN  2020-03-09                        NaN                     NaN  ...           NaN                      NaN               NaN                  NaN             NaN                NaN                 NaN         10.77                    NaN                   NaN\n",
       "614                  US-WY                  US  United States      Wyoming             US-WY           NaN                NaN  2020-07-27                        NaN                     NaN  ...           NaN                      NaN               NaN                  NaN             NaN                NaN                 NaN          4.07                    NaN                   NaN\n",
       "615                  US-WY                  US  United States      Wyoming             US-WY           NaN                NaN  2020-08-03                        NaN                     NaN  ...           NaN                      NaN               NaN                  NaN             NaN                NaN                 NaN          4.11                    NaN                   NaN\n",
       "616                  US-WY                  US  United States      Wyoming             US-WY           NaN                NaN  2020-08-10                        NaN                     NaN  ...           NaN                      NaN               NaN                  NaN             NaN                NaN                 NaN           NaN                    NaN                   NaN\n",
       "617                  US-WY                  US  United States      Wyoming             US-WY           NaN                NaN  2020-08-17                        NaN                     NaN  ...           NaN                      NaN               NaN                  NaN             NaN                NaN                 NaN          3.71                    NaN                   NaN\n",
       "618                  US-WY                  US  United States      Wyoming             US-WY           NaN                NaN  2020-08-24                        NaN                     NaN  ...           NaN                      NaN               NaN                  NaN             NaN                NaN                 NaN          3.87                    NaN                   NaN\n",
       "619                  US-WY                  US  United States      Wyoming             US-WY           NaN                NaN  2020-08-31                        NaN                     NaN  ...           NaN                      NaN               NaN                  NaN             NaN                NaN                 NaN          3.63                    NaN                   NaN\n",
       "620                  US-WY                  US  United States      Wyoming             US-WY           NaN                NaN  2020-09-07                        NaN                     NaN  ...           NaN                      NaN               NaN                  NaN             NaN                NaN                 NaN          4.02                    NaN                   NaN\n",
       "621                  US-WY                  US  United States      Wyoming             US-WY           NaN                NaN  2020-09-14                        NaN                     NaN  ...           NaN                      NaN               NaN                  NaN             NaN                NaN                 NaN          4.37                    NaN                   NaN\n",
       "622                  US-WY                  US  United States      Wyoming             US-WY           NaN                NaN  2020-09-21                        NaN                     NaN  ...           NaN                      NaN               NaN                  NaN             NaN                NaN                 NaN          4.76                    NaN                   NaN\n",
       "623                  US-WY                  US  United States      Wyoming             US-WY           NaN                NaN  2020-09-28                        NaN                     NaN  ...           NaN                      NaN               NaN                  NaN             NaN                NaN                 NaN          5.92                    NaN                   NaN\n",
       "\n",
       "[20 rows x 430 columns]"
      ],
      "text/html": "<div>\n<style scoped>\n    .dataframe tbody tr th:only-of-type {\n        vertical-align: middle;\n    }\n\n    .dataframe tbody tr th {\n        vertical-align: top;\n    }\n\n    .dataframe thead th {\n        text-align: right;\n    }\n</style>\n<table border=\"1\" class=\"dataframe\">\n  <thead>\n    <tr style=\"text-align: right;\">\n      <th></th>\n      <th>open_covid_region_code</th>\n      <th>country_region_code</th>\n      <th>country_region</th>\n      <th>sub_region_1</th>\n      <th>sub_region_1_code</th>\n      <th>sub_region_2</th>\n      <th>sub_region_2_code</th>\n      <th>date</th>\n      <th>symptom:Abdominal obesity</th>\n      <th>symptom:Abdominal pain</th>\n      <th>...</th>\n      <th>symptom:Wart</th>\n      <th>symptom:Water retention</th>\n      <th>symptom:Weakness</th>\n      <th>symptom:Weight gain</th>\n      <th>symptom:Wheeze</th>\n      <th>symptom:Xeroderma</th>\n      <th>symptom:Xerostomia</th>\n      <th>symptom:Yawn</th>\n      <th>symptom:hyperhidrosis</th>\n      <th>symptom:pancreatitis</th>\n    </tr>\n  </thead>\n  <tbody>\n    <tr>\n      <th>0</th>\n      <td>US-AK</td>\n      <td>US</td>\n      <td>United States</td>\n      <td>Alaska</td>\n      <td>US-AK</td>\n      <td>NaN</td>\n      <td>NaN</td>\n      <td>2020-01-06</td>\n      <td>NaN</td>\n      <td>NaN</td>\n      <td>...</td>\n      <td>NaN</td>\n      <td>NaN</td>\n      <td>NaN</td>\n      <td>NaN</td>\n      <td>NaN</td>\n      <td>NaN</td>\n      <td>NaN</td>\n      <td>14.28</td>\n      <td>NaN</td>\n      <td>NaN</td>\n    </tr>\n    <tr>\n      <th>1</th>\n      <td>US-AK</td>\n      <td>US</td>\n      <td>United States</td>\n      <td>Alaska</td>\n      <td>US-AK</td>\n      <td>NaN</td>\n      <td>NaN</td>\n      <td>2020-01-13</td>\n      <td>NaN</td>\n      <td>NaN</td>\n      <td>...</td>\n      <td>NaN</td>\n      <td>NaN</td>\n      <td>NaN</td>\n      <td>NaN</td>\n      <td>NaN</td>\n      <td>NaN</td>\n      <td>NaN</td>\n      <td>16.26</td>\n      <td>NaN</td>\n      <td>NaN</td>\n    </tr>\n    <tr>\n      <th>2</th>\n      <td>US-AK</td>\n      <td>US</td>\n      <td>United States</td>\n      <td>Alaska</td>\n      <td>US-AK</td>\n      <td>NaN</td>\n      <td>NaN</td>\n      <td>2020-01-20</td>\n      <td>NaN</td>\n      <td>NaN</td>\n      <td>...</td>\n      <td>NaN</td>\n      <td>NaN</td>\n      <td>NaN</td>\n      <td>NaN</td>\n      <td>NaN</td>\n      <td>NaN</td>\n      <td>NaN</td>\n      <td>17.48</td>\n      <td>NaN</td>\n      <td>NaN</td>\n    </tr>\n    <tr>\n      <th>3</th>\n      <td>US-AK</td>\n      <td>US</td>\n      <td>United States</td>\n      <td>Alaska</td>\n      <td>US-AK</td>\n      <td>NaN</td>\n      <td>NaN</td>\n      <td>2020-01-27</td>\n      <td>NaN</td>\n      <td>NaN</td>\n      <td>...</td>\n      <td>NaN</td>\n      <td>NaN</td>\n      <td>NaN</td>\n      <td>NaN</td>\n      <td>NaN</td>\n      <td>NaN</td>\n      <td>NaN</td>\n      <td>10.93</td>\n      <td>NaN</td>\n      <td>NaN</td>\n    </tr>\n    <tr>\n      <th>4</th>\n      <td>US-AK</td>\n      <td>US</td>\n      <td>United States</td>\n      <td>Alaska</td>\n      <td>US-AK</td>\n      <td>NaN</td>\n      <td>NaN</td>\n      <td>2020-02-03</td>\n      <td>NaN</td>\n      <td>NaN</td>\n      <td>...</td>\n      <td>NaN</td>\n      <td>NaN</td>\n      <td>NaN</td>\n      <td>NaN</td>\n      <td>NaN</td>\n      <td>NaN</td>\n      <td>NaN</td>\n      <td>18.93</td>\n      <td>NaN</td>\n      <td>NaN</td>\n    </tr>\n    <tr>\n      <th>5</th>\n      <td>US-AK</td>\n      <td>US</td>\n      <td>United States</td>\n      <td>Alaska</td>\n      <td>US-AK</td>\n      <td>NaN</td>\n      <td>NaN</td>\n      <td>2020-02-10</td>\n      <td>NaN</td>\n      <td>NaN</td>\n      <td>...</td>\n      <td>NaN</td>\n      <td>NaN</td>\n      <td>NaN</td>\n      <td>NaN</td>\n      <td>NaN</td>\n      <td>NaN</td>\n      <td>NaN</td>\n      <td>17.05</td>\n      <td>NaN</td>\n      <td>NaN</td>\n    </tr>\n    <tr>\n      <th>6</th>\n      <td>US-AK</td>\n      <td>US</td>\n      <td>United States</td>\n      <td>Alaska</td>\n      <td>US-AK</td>\n      <td>NaN</td>\n      <td>NaN</td>\n      <td>2020-02-17</td>\n      <td>NaN</td>\n      <td>NaN</td>\n      <td>...</td>\n      <td>NaN</td>\n      <td>NaN</td>\n      <td>NaN</td>\n      <td>NaN</td>\n      <td>NaN</td>\n      <td>NaN</td>\n      <td>NaN</td>\n      <td>16.62</td>\n      <td>NaN</td>\n      <td>NaN</td>\n    </tr>\n    <tr>\n      <th>7</th>\n      <td>US-AK</td>\n      <td>US</td>\n      <td>United States</td>\n      <td>Alaska</td>\n      <td>US-AK</td>\n      <td>NaN</td>\n      <td>NaN</td>\n      <td>2020-02-24</td>\n      <td>NaN</td>\n      <td>NaN</td>\n      <td>...</td>\n      <td>NaN</td>\n      <td>NaN</td>\n      <td>NaN</td>\n      <td>NaN</td>\n      <td>NaN</td>\n      <td>NaN</td>\n      <td>NaN</td>\n      <td>14.42</td>\n      <td>NaN</td>\n      <td>NaN</td>\n    </tr>\n    <tr>\n      <th>8</th>\n      <td>US-AK</td>\n      <td>US</td>\n      <td>United States</td>\n      <td>Alaska</td>\n      <td>US-AK</td>\n      <td>NaN</td>\n      <td>NaN</td>\n      <td>2020-03-02</td>\n      <td>NaN</td>\n      <td>NaN</td>\n      <td>...</td>\n      <td>NaN</td>\n      <td>NaN</td>\n      <td>NaN</td>\n      <td>NaN</td>\n      <td>NaN</td>\n      <td>NaN</td>\n      <td>NaN</td>\n      <td>9.30</td>\n      <td>NaN</td>\n      <td>NaN</td>\n    </tr>\n    <tr>\n      <th>9</th>\n      <td>US-AK</td>\n      <td>US</td>\n      <td>United States</td>\n      <td>Alaska</td>\n      <td>US-AK</td>\n      <td>NaN</td>\n      <td>NaN</td>\n      <td>2020-03-09</td>\n      <td>NaN</td>\n      <td>NaN</td>\n      <td>...</td>\n      <td>NaN</td>\n      <td>NaN</td>\n      <td>NaN</td>\n      <td>NaN</td>\n      <td>NaN</td>\n      <td>NaN</td>\n      <td>NaN</td>\n      <td>10.77</td>\n      <td>NaN</td>\n      <td>NaN</td>\n    </tr>\n    <tr>\n      <th>614</th>\n      <td>US-WY</td>\n      <td>US</td>\n      <td>United States</td>\n      <td>Wyoming</td>\n      <td>US-WY</td>\n      <td>NaN</td>\n      <td>NaN</td>\n      <td>2020-07-27</td>\n      <td>NaN</td>\n      <td>NaN</td>\n      <td>...</td>\n      <td>NaN</td>\n      <td>NaN</td>\n      <td>NaN</td>\n      <td>NaN</td>\n      <td>NaN</td>\n      <td>NaN</td>\n      <td>NaN</td>\n      <td>4.07</td>\n      <td>NaN</td>\n      <td>NaN</td>\n    </tr>\n    <tr>\n      <th>615</th>\n      <td>US-WY</td>\n      <td>US</td>\n      <td>United States</td>\n      <td>Wyoming</td>\n      <td>US-WY</td>\n      <td>NaN</td>\n      <td>NaN</td>\n      <td>2020-08-03</td>\n      <td>NaN</td>\n      <td>NaN</td>\n      <td>...</td>\n      <td>NaN</td>\n      <td>NaN</td>\n      <td>NaN</td>\n      <td>NaN</td>\n      <td>NaN</td>\n      <td>NaN</td>\n      <td>NaN</td>\n      <td>4.11</td>\n      <td>NaN</td>\n      <td>NaN</td>\n    </tr>\n    <tr>\n      <th>616</th>\n      <td>US-WY</td>\n      <td>US</td>\n      <td>United States</td>\n      <td>Wyoming</td>\n      <td>US-WY</td>\n      <td>NaN</td>\n      <td>NaN</td>\n      <td>2020-08-10</td>\n      <td>NaN</td>\n      <td>NaN</td>\n      <td>...</td>\n      <td>NaN</td>\n      <td>NaN</td>\n      <td>NaN</td>\n      <td>NaN</td>\n      <td>NaN</td>\n      <td>NaN</td>\n      <td>NaN</td>\n      <td>NaN</td>\n      <td>NaN</td>\n      <td>NaN</td>\n    </tr>\n    <tr>\n      <th>617</th>\n      <td>US-WY</td>\n      <td>US</td>\n      <td>United States</td>\n      <td>Wyoming</td>\n      <td>US-WY</td>\n      <td>NaN</td>\n      <td>NaN</td>\n      <td>2020-08-17</td>\n      <td>NaN</td>\n      <td>NaN</td>\n      <td>...</td>\n      <td>NaN</td>\n      <td>NaN</td>\n      <td>NaN</td>\n      <td>NaN</td>\n      <td>NaN</td>\n      <td>NaN</td>\n      <td>NaN</td>\n      <td>3.71</td>\n      <td>NaN</td>\n      <td>NaN</td>\n    </tr>\n    <tr>\n      <th>618</th>\n      <td>US-WY</td>\n      <td>US</td>\n      <td>United States</td>\n      <td>Wyoming</td>\n      <td>US-WY</td>\n      <td>NaN</td>\n      <td>NaN</td>\n      <td>2020-08-24</td>\n      <td>NaN</td>\n      <td>NaN</td>\n      <td>...</td>\n      <td>NaN</td>\n      <td>NaN</td>\n      <td>NaN</td>\n      <td>NaN</td>\n      <td>NaN</td>\n      <td>NaN</td>\n      <td>NaN</td>\n      <td>3.87</td>\n      <td>NaN</td>\n      <td>NaN</td>\n    </tr>\n    <tr>\n      <th>619</th>\n      <td>US-WY</td>\n      <td>US</td>\n      <td>United States</td>\n      <td>Wyoming</td>\n      <td>US-WY</td>\n      <td>NaN</td>\n      <td>NaN</td>\n      <td>2020-08-31</td>\n      <td>NaN</td>\n      <td>NaN</td>\n      <td>...</td>\n      <td>NaN</td>\n      <td>NaN</td>\n      <td>NaN</td>\n      <td>NaN</td>\n      <td>NaN</td>\n      <td>NaN</td>\n      <td>NaN</td>\n      <td>3.63</td>\n      <td>NaN</td>\n      <td>NaN</td>\n    </tr>\n    <tr>\n      <th>620</th>\n      <td>US-WY</td>\n      <td>US</td>\n      <td>United States</td>\n      <td>Wyoming</td>\n      <td>US-WY</td>\n      <td>NaN</td>\n      <td>NaN</td>\n      <td>2020-09-07</td>\n      <td>NaN</td>\n      <td>NaN</td>\n      <td>...</td>\n      <td>NaN</td>\n      <td>NaN</td>\n      <td>NaN</td>\n      <td>NaN</td>\n      <td>NaN</td>\n      <td>NaN</td>\n      <td>NaN</td>\n      <td>4.02</td>\n      <td>NaN</td>\n      <td>NaN</td>\n    </tr>\n    <tr>\n      <th>621</th>\n      <td>US-WY</td>\n      <td>US</td>\n      <td>United States</td>\n      <td>Wyoming</td>\n      <td>US-WY</td>\n      <td>NaN</td>\n      <td>NaN</td>\n      <td>2020-09-14</td>\n      <td>NaN</td>\n      <td>NaN</td>\n      <td>...</td>\n      <td>NaN</td>\n      <td>NaN</td>\n      <td>NaN</td>\n      <td>NaN</td>\n      <td>NaN</td>\n      <td>NaN</td>\n      <td>NaN</td>\n      <td>4.37</td>\n      <td>NaN</td>\n      <td>NaN</td>\n    </tr>\n    <tr>\n      <th>622</th>\n      <td>US-WY</td>\n      <td>US</td>\n      <td>United States</td>\n      <td>Wyoming</td>\n      <td>US-WY</td>\n      <td>NaN</td>\n      <td>NaN</td>\n      <td>2020-09-21</td>\n      <td>NaN</td>\n      <td>NaN</td>\n      <td>...</td>\n      <td>NaN</td>\n      <td>NaN</td>\n      <td>NaN</td>\n      <td>NaN</td>\n      <td>NaN</td>\n      <td>NaN</td>\n      <td>NaN</td>\n      <td>4.76</td>\n      <td>NaN</td>\n      <td>NaN</td>\n    </tr>\n    <tr>\n      <th>623</th>\n      <td>US-WY</td>\n      <td>US</td>\n      <td>United States</td>\n      <td>Wyoming</td>\n      <td>US-WY</td>\n      <td>NaN</td>\n      <td>NaN</td>\n      <td>2020-09-28</td>\n      <td>NaN</td>\n      <td>NaN</td>\n      <td>...</td>\n      <td>NaN</td>\n      <td>NaN</td>\n      <td>NaN</td>\n      <td>NaN</td>\n      <td>NaN</td>\n      <td>NaN</td>\n      <td>NaN</td>\n      <td>5.92</td>\n      <td>NaN</td>\n      <td>NaN</td>\n    </tr>\n  </tbody>\n</table>\n<p>20 rows × 430 columns</p>\n</div>"
     },
     "metadata": {},
     "execution_count": 4
    }
   ],
   "source": [
    "search_trend_df.iloc[np.r_[0:10,-10:0]]"
   ]
  },
  {
   "source": [
    "Since we have several NaN columns, we can drop the columns where all data in the column are NaN\n",
    "\n",
    "And also, by looking at the dataset, columns named as `country_region_code`, `country_region`, and `open_covid_region_code` can be dropped."
   ],
   "cell_type": "markdown",
   "metadata": {}
  },
  {
   "cell_type": "code",
   "execution_count": 5,
   "metadata": {},
   "outputs": [
    {
     "output_type": "stream",
     "name": "stdout",
     "text": [
      "11.31113043478261\n10.484588235294119\n7.344206896551725\n4.651794871794872\n10.525286343612335\n6.945277777777777\n12.655911330049259\n7.666146788990826\n5.019736842105263\n13.511048034934499\n10.37778761061947\n7.999104477611941\n11.736163793103447\n10.11824034334764\n9.084640522875818\n7.084149659863945\n10.21642857142857\n10.433171806167401\n13.372307692307693\n12.59245614035088\n12.070344827586206\n8.611477832512316\n4.6049999999999995\n8.139107142857142\n8.185633802816902\n18.813728813559322\n9.02555023923445\n8.85990243902439\n17.825909090909093\n8.464285714285714\n10.902202643171806\n9.052499999999998\n12.941082474226805\n10.60651282051282\n8.046908212560387\n9.733695652173912\n11.260410256410257\n9.954026548672564\n11.296896551724139\n8.951491228070175\n9.889439655172414\n11.32217391304348\n5.587435897435896\n10.01203463203463\n9.268571428571429\n10.789423076923075\n10.708711340206186\n11.002709677419356\n11.612068965517242\n8.670828729281768\n8.909565217391306\n8.477163461538462\n9.617467248908298\n10.904889867841412\n10.361135371179039\n8.865467289719627\n9.49768888888889\n10.246576576576576\n7.826009615384615\n9.802222222222222\n10.534240837696334\n10.961045454545456\n11.618138528138529\n11.21102564102564\n5.281538461538461\n10.419894736842107\n9.898076923076925\n10.160324675324675\n10.979155844155844\n9.481004366812227\n10.68285067873303\n11.061004366812227\n7.545963855421686\n8.359906542056075\n10.65397379912664\n12.225394736842107\n9.47609865470852\n12.089224137931033\n10.766768558951966\n9.800174672489081\n11.768495575221237\n12.780628272251308\n11.44648068669528\n8.79051948051948\n9.408430493273542\n10.869652173913044\n18.977008547008545\n8.812318181818181\n8.785844155844156\n4.857435897435898\n8.86077922077922\n6.426287878787878\n9.842755555555556\n5.074358974358974\n8.981469194312798\n8.141151832460734\n7.467377049180329\n11.473275862068965\n9.345844155844157\n8.678254716981131\n10.94058064516129\n9.095616438356165\n9.586380090497737\n7.107769784172662\n8.72800925925926\n10.636010362694304\n12.275\n8.035589743589744\n9.452918918918918\n11.030526315789475\n9.778675799086757\n10.839137931034482\n10.841927083333333\n9.60890829694323\n14.248581081081081\n9.817434554973822\n7.2447305389221555\n7.962266666666667\n7.978223350253807\n12.116999999999999\n9.33038961038961\n"
     ]
    },
    {
     "output_type": "execute_result",
     "data": {
      "text/plain": [
       "    region_name        date  symptom:Adrenal crisis  symptom:Ageusia  symptom:Allergic conjunctivitis  symptom:Amblyopia  symptom:Amenorrhea  symptom:Angular cheilitis  symptom:Anosmia  symptom:Aphonia  ...  symptom:Tenderness  symptom:Thyroid nodule  symptom:Trichoptilosis  symptom:Upper respiratory tract infection  symptom:Urethritis  symptom:Urinary urgency  symptom:Vasculitis  symptom:Ventricular fibrillation  symptom:Viral pneumonia  symptom:Yawn\n",
       "0        Alaska  2020-01-06                12.69000        10.484588                         7.344207           4.651795           12.290000                   6.945278        12.655911         7.666147  ...               14.28                   15.86               11.900000                                  18.840000           13.880000                 7.244731               14.08                          9.910000                   12.117         14.28\n",
       "1        Alaska  2020-01-13                 9.56000        10.484588                         7.344207           4.651795           12.620000                   6.945278        12.655911         7.666147  ...               13.39                   12.24                7.840000                                  16.830000           13.010000                 7.650000               15.30                          8.410000                   12.117         16.26\n",
       "2        Alaska  2020-01-20                11.31113        10.484588                         7.344207           4.651795           14.170000                   6.945278         7.360000         7.666147  ...               12.88                   17.66               15.270000                                  18.400000           12.140000                 7.540000               10.30                         16.190000                   12.117         17.48\n",
       "3        Alaska  2020-01-27                15.31000         7.470000                         7.344207           4.651795           15.670000                   7.470000        12.655911         7.650000  ...               13.30                   12.76                9.840000                                  20.410000           17.490000                 7.244731               11.30                          7.978223                   12.117         10.93\n",
       "4        Alaska  2020-02-03                 8.81000        10.484588                         7.344207           4.651795           13.870000                   8.060000        12.655911        12.560000  ...               11.81                   16.68               10.680000                                  20.620000           16.870000                 7.244731               14.24                         10.680000                   10.500         18.93\n",
       "..          ...         ...                     ...              ...                              ...                ...                 ...                        ...              ...              ...  ...                 ...                     ...                     ...                                        ...                 ...                      ...                 ...                               ...                      ...           ...\n",
       "619     Wyoming  2020-08-31                 5.03000         2.790000                         7.344207           5.750000            4.190000                   6.945278        12.655911         7.666147  ...                3.07                    3.07                2.570000                                   2.680000            9.817435                 7.244731                5.08                          7.978223                   12.117          3.63\n",
       "620     Wyoming  2020-09-07                 3.36000         3.250000                         2.200000           3.630000           10.525286                   2.250000         2.700000         7.666147  ...                4.29                    2.81                9.608908                                   3.190000            3.190000                 7.244731                4.51                          7.978223                   12.117          4.02\n",
       "621     Wyoming  2020-09-14                 4.15000         4.970000                         7.344207           5.140000            5.790000                   6.945278         4.590000         7.666147  ...                3.93                    5.63                3.060000                                   4.590000            3.220000                 2.680000                3.88                          7.978223                   12.117          4.37\n",
       "622     Wyoming  2020-09-21                 5.64000         3.670000                         7.344207           5.250000            3.770000                   6.945278         5.090000         7.666147  ...                3.28                    3.72                3.170000                                   3.230000            2.900000                 7.244731                5.14                          3.230000                   12.117          4.76\n",
       "623     Wyoming  2020-09-28                 9.79000         4.540000                         7.344207           4.640000            2.600000                   6.945278         4.870000         7.666147  ...                3.93                    4.31                2.540000                                  14.248581            3.320000                 7.244731                5.86                          3.370000                   12.117          5.92\n",
       "\n",
       "[234 rows x 123 columns]"
      ],
      "text/html": "<div>\n<style scoped>\n    .dataframe tbody tr th:only-of-type {\n        vertical-align: middle;\n    }\n\n    .dataframe tbody tr th {\n        vertical-align: top;\n    }\n\n    .dataframe thead th {\n        text-align: right;\n    }\n</style>\n<table border=\"1\" class=\"dataframe\">\n  <thead>\n    <tr style=\"text-align: right;\">\n      <th></th>\n      <th>region_name</th>\n      <th>date</th>\n      <th>symptom:Adrenal crisis</th>\n      <th>symptom:Ageusia</th>\n      <th>symptom:Allergic conjunctivitis</th>\n      <th>symptom:Amblyopia</th>\n      <th>symptom:Amenorrhea</th>\n      <th>symptom:Angular cheilitis</th>\n      <th>symptom:Anosmia</th>\n      <th>symptom:Aphonia</th>\n      <th>...</th>\n      <th>symptom:Tenderness</th>\n      <th>symptom:Thyroid nodule</th>\n      <th>symptom:Trichoptilosis</th>\n      <th>symptom:Upper respiratory tract infection</th>\n      <th>symptom:Urethritis</th>\n      <th>symptom:Urinary urgency</th>\n      <th>symptom:Vasculitis</th>\n      <th>symptom:Ventricular fibrillation</th>\n      <th>symptom:Viral pneumonia</th>\n      <th>symptom:Yawn</th>\n    </tr>\n  </thead>\n  <tbody>\n    <tr>\n      <th>0</th>\n      <td>Alaska</td>\n      <td>2020-01-06</td>\n      <td>12.69000</td>\n      <td>10.484588</td>\n      <td>7.344207</td>\n      <td>4.651795</td>\n      <td>12.290000</td>\n      <td>6.945278</td>\n      <td>12.655911</td>\n      <td>7.666147</td>\n      <td>...</td>\n      <td>14.28</td>\n      <td>15.86</td>\n      <td>11.900000</td>\n      <td>18.840000</td>\n      <td>13.880000</td>\n      <td>7.244731</td>\n      <td>14.08</td>\n      <td>9.910000</td>\n      <td>12.117</td>\n      <td>14.28</td>\n    </tr>\n    <tr>\n      <th>1</th>\n      <td>Alaska</td>\n      <td>2020-01-13</td>\n      <td>9.56000</td>\n      <td>10.484588</td>\n      <td>7.344207</td>\n      <td>4.651795</td>\n      <td>12.620000</td>\n      <td>6.945278</td>\n      <td>12.655911</td>\n      <td>7.666147</td>\n      <td>...</td>\n      <td>13.39</td>\n      <td>12.24</td>\n      <td>7.840000</td>\n      <td>16.830000</td>\n      <td>13.010000</td>\n      <td>7.650000</td>\n      <td>15.30</td>\n      <td>8.410000</td>\n      <td>12.117</td>\n      <td>16.26</td>\n    </tr>\n    <tr>\n      <th>2</th>\n      <td>Alaska</td>\n      <td>2020-01-20</td>\n      <td>11.31113</td>\n      <td>10.484588</td>\n      <td>7.344207</td>\n      <td>4.651795</td>\n      <td>14.170000</td>\n      <td>6.945278</td>\n      <td>7.360000</td>\n      <td>7.666147</td>\n      <td>...</td>\n      <td>12.88</td>\n      <td>17.66</td>\n      <td>15.270000</td>\n      <td>18.400000</td>\n      <td>12.140000</td>\n      <td>7.540000</td>\n      <td>10.30</td>\n      <td>16.190000</td>\n      <td>12.117</td>\n      <td>17.48</td>\n    </tr>\n    <tr>\n      <th>3</th>\n      <td>Alaska</td>\n      <td>2020-01-27</td>\n      <td>15.31000</td>\n      <td>7.470000</td>\n      <td>7.344207</td>\n      <td>4.651795</td>\n      <td>15.670000</td>\n      <td>7.470000</td>\n      <td>12.655911</td>\n      <td>7.650000</td>\n      <td>...</td>\n      <td>13.30</td>\n      <td>12.76</td>\n      <td>9.840000</td>\n      <td>20.410000</td>\n      <td>17.490000</td>\n      <td>7.244731</td>\n      <td>11.30</td>\n      <td>7.978223</td>\n      <td>12.117</td>\n      <td>10.93</td>\n    </tr>\n    <tr>\n      <th>4</th>\n      <td>Alaska</td>\n      <td>2020-02-03</td>\n      <td>8.81000</td>\n      <td>10.484588</td>\n      <td>7.344207</td>\n      <td>4.651795</td>\n      <td>13.870000</td>\n      <td>8.060000</td>\n      <td>12.655911</td>\n      <td>12.560000</td>\n      <td>...</td>\n      <td>11.81</td>\n      <td>16.68</td>\n      <td>10.680000</td>\n      <td>20.620000</td>\n      <td>16.870000</td>\n      <td>7.244731</td>\n      <td>14.24</td>\n      <td>10.680000</td>\n      <td>10.500</td>\n      <td>18.93</td>\n    </tr>\n    <tr>\n      <th>...</th>\n      <td>...</td>\n      <td>...</td>\n      <td>...</td>\n      <td>...</td>\n      <td>...</td>\n      <td>...</td>\n      <td>...</td>\n      <td>...</td>\n      <td>...</td>\n      <td>...</td>\n      <td>...</td>\n      <td>...</td>\n      <td>...</td>\n      <td>...</td>\n      <td>...</td>\n      <td>...</td>\n      <td>...</td>\n      <td>...</td>\n      <td>...</td>\n      <td>...</td>\n      <td>...</td>\n    </tr>\n    <tr>\n      <th>619</th>\n      <td>Wyoming</td>\n      <td>2020-08-31</td>\n      <td>5.03000</td>\n      <td>2.790000</td>\n      <td>7.344207</td>\n      <td>5.750000</td>\n      <td>4.190000</td>\n      <td>6.945278</td>\n      <td>12.655911</td>\n      <td>7.666147</td>\n      <td>...</td>\n      <td>3.07</td>\n      <td>3.07</td>\n      <td>2.570000</td>\n      <td>2.680000</td>\n      <td>9.817435</td>\n      <td>7.244731</td>\n      <td>5.08</td>\n      <td>7.978223</td>\n      <td>12.117</td>\n      <td>3.63</td>\n    </tr>\n    <tr>\n      <th>620</th>\n      <td>Wyoming</td>\n      <td>2020-09-07</td>\n      <td>3.36000</td>\n      <td>3.250000</td>\n      <td>2.200000</td>\n      <td>3.630000</td>\n      <td>10.525286</td>\n      <td>2.250000</td>\n      <td>2.700000</td>\n      <td>7.666147</td>\n      <td>...</td>\n      <td>4.29</td>\n      <td>2.81</td>\n      <td>9.608908</td>\n      <td>3.190000</td>\n      <td>3.190000</td>\n      <td>7.244731</td>\n      <td>4.51</td>\n      <td>7.978223</td>\n      <td>12.117</td>\n      <td>4.02</td>\n    </tr>\n    <tr>\n      <th>621</th>\n      <td>Wyoming</td>\n      <td>2020-09-14</td>\n      <td>4.15000</td>\n      <td>4.970000</td>\n      <td>7.344207</td>\n      <td>5.140000</td>\n      <td>5.790000</td>\n      <td>6.945278</td>\n      <td>4.590000</td>\n      <td>7.666147</td>\n      <td>...</td>\n      <td>3.93</td>\n      <td>5.63</td>\n      <td>3.060000</td>\n      <td>4.590000</td>\n      <td>3.220000</td>\n      <td>2.680000</td>\n      <td>3.88</td>\n      <td>7.978223</td>\n      <td>12.117</td>\n      <td>4.37</td>\n    </tr>\n    <tr>\n      <th>622</th>\n      <td>Wyoming</td>\n      <td>2020-09-21</td>\n      <td>5.64000</td>\n      <td>3.670000</td>\n      <td>7.344207</td>\n      <td>5.250000</td>\n      <td>3.770000</td>\n      <td>6.945278</td>\n      <td>5.090000</td>\n      <td>7.666147</td>\n      <td>...</td>\n      <td>3.28</td>\n      <td>3.72</td>\n      <td>3.170000</td>\n      <td>3.230000</td>\n      <td>2.900000</td>\n      <td>7.244731</td>\n      <td>5.14</td>\n      <td>3.230000</td>\n      <td>12.117</td>\n      <td>4.76</td>\n    </tr>\n    <tr>\n      <th>623</th>\n      <td>Wyoming</td>\n      <td>2020-09-28</td>\n      <td>9.79000</td>\n      <td>4.540000</td>\n      <td>7.344207</td>\n      <td>4.640000</td>\n      <td>2.600000</td>\n      <td>6.945278</td>\n      <td>4.870000</td>\n      <td>7.666147</td>\n      <td>...</td>\n      <td>3.93</td>\n      <td>4.31</td>\n      <td>2.540000</td>\n      <td>14.248581</td>\n      <td>3.320000</td>\n      <td>7.244731</td>\n      <td>5.86</td>\n      <td>3.370000</td>\n      <td>12.117</td>\n      <td>5.92</td>\n    </tr>\n  </tbody>\n</table>\n<p>234 rows × 123 columns</p>\n</div>"
     },
     "metadata": {},
     "execution_count": 5
    }
   ],
   "source": [
    "search_trend_df = search_trend_df.drop(search_trend_df.columns[[0,1,2,4,5,6]], axis=1)\n",
    "search_trend_df = search_trend_df.dropna(axis=1, how='all')\n",
    "search_trend_df = search_trend_df.rename(columns={'sub_region_1':'region_name'})\n",
    "\n",
    "search_trend_df\n"
   ]
  },
  {
   "source": [
    "now, let's check the dataset again"
   ],
   "cell_type": "markdown",
   "metadata": {}
  },
  {
   "cell_type": "code",
   "execution_count": 6,
   "metadata": {},
   "outputs": [
    {
     "output_type": "execute_result",
     "data": {
      "text/plain": [
       "    region_name        date  symptom:Adrenal crisis  symptom:Ageusia  symptom:Allergic conjunctivitis  symptom:Amblyopia  symptom:Amenorrhea  symptom:Angular cheilitis  symptom:Anosmia  symptom:Aphonia  ...  symptom:Tenderness  symptom:Thyroid nodule  symptom:Trichoptilosis  symptom:Upper respiratory tract infection  symptom:Urethritis  symptom:Urinary urgency  symptom:Vasculitis  symptom:Ventricular fibrillation  symptom:Viral pneumonia  symptom:Yawn\n",
       "0        Alaska  2020-01-06                12.69000        10.484588                         7.344207           4.651795           12.290000                   6.945278        12.655911         7.666147  ...               14.28                   15.86               11.900000                                  18.840000           13.880000                 7.244731           14.080000                          9.910000                   12.117      14.28000\n",
       "1        Alaska  2020-01-13                 9.56000        10.484588                         7.344207           4.651795           12.620000                   6.945278        12.655911         7.666147  ...               13.39                   12.24                7.840000                                  16.830000           13.010000                 7.650000           15.300000                          8.410000                   12.117      16.26000\n",
       "2        Alaska  2020-01-20                11.31113        10.484588                         7.344207           4.651795           14.170000                   6.945278         7.360000         7.666147  ...               12.88                   17.66               15.270000                                  18.400000           12.140000                 7.540000           10.300000                         16.190000                   12.117      17.48000\n",
       "3        Alaska  2020-01-27                15.31000         7.470000                         7.344207           4.651795           15.670000                   7.470000        12.655911         7.650000  ...               13.30                   12.76                9.840000                                  20.410000           17.490000                 7.244731           11.300000                          7.978223                   12.117      10.93000\n",
       "4        Alaska  2020-02-03                 8.81000        10.484588                         7.344207           4.651795           13.870000                   8.060000        12.655911        12.560000  ...               11.81                   16.68               10.680000                                  20.620000           16.870000                 7.244731           14.240000                         10.680000                   10.500      18.93000\n",
       "5        Alaska  2020-02-10                11.97000        10.484588                         7.344207           4.651795           11.970000                   6.945278        12.655911        10.880000  ...                9.97                   15.05               12.510000                                  18.680000           14.690000                 7.440000            9.070000                          7.978223                    7.800      17.05000\n",
       "6        Alaska  2020-02-17                 9.16000        10.484588                         7.344207           4.651795            9.330000                   6.945278        12.655911         9.160000  ...               22.56                   14.42               10.180000                                  16.960000           14.930000                 7.244731           13.570000                          8.650000                    8.480      16.62000\n",
       "7        Alaska  2020-02-24                10.44000         6.630000                         7.344207           4.651795           11.440000                  10.610000         9.780000         7.290000  ...               11.77                   17.57               15.580000                                  18.560000           10.440000                 7.130000           12.260000                          8.620000                   11.100      14.42000\n",
       "8        Alaska  2020-03-02                14.62000        10.484588                         7.344207           4.651795            9.970000                   6.945278        12.655911         7.666147  ...               10.80                   19.43               12.960000                                  21.760000           11.290000                 7.244731           13.290000                         10.460000                   14.120       9.30000\n",
       "9        Alaska  2020-03-09                10.60000        10.484588                        11.610000           4.651795           12.790000                   6.945278         7.070000         7.910000  ...               12.96                   11.11               13.970000                                  46.950000           10.270000                 7.244731            9.260000                          7.978223                   18.850      10.77000\n",
       "614     Wyoming  2020-07-27                 3.44000         2.750000                         7.344207           5.450000            3.380000                   3.210000         2.350000         7.666147  ...                4.36                    4.41                2.750000                                   2.350000            3.440000                 2.410000            4.070000                          7.978223                   12.117       4.07000\n",
       "615     Wyoming  2020-08-03                 3.08000         3.140000                         7.344207           4.340000            2.340000                   6.945278         3.940000         7.666147  ...                3.65                    4.74                2.970000                                  14.248581            3.650000                 2.400000            7.962267                          7.978223                   12.117       4.11000\n",
       "616     Wyoming  2020-08-10                 3.19000        10.484588                         7.344207           5.080000            3.990000                   6.945278        12.655911         7.666147  ...                3.54                    5.13                3.770000                                  14.248581            4.740000                 7.244731            4.050000                          2.570000                   12.117       9.33039\n",
       "617     Wyoming  2020-08-17                 5.95000         4.100000                         7.344207           5.000000            2.360000                   6.945278         2.750000         7.666147  ...                3.42                    3.54                3.710000                                  14.248581            3.990000                 2.420000            3.710000                          7.978223                   12.117       3.71000\n",
       "618     Wyoming  2020-08-24                 4.42000         3.310000                         3.420000           5.190000            3.420000                   6.945278         2.650000         7.666147  ...                3.98                    3.87                2.260000                                   3.980000            4.090000                 7.244731            3.640000                          2.480000                   12.117       3.87000\n",
       "619     Wyoming  2020-08-31                 5.03000         2.790000                         7.344207           5.750000            4.190000                   6.945278        12.655911         7.666147  ...                3.07                    3.07                2.570000                                   2.680000            9.817435                 7.244731            5.080000                          7.978223                   12.117       3.63000\n",
       "620     Wyoming  2020-09-07                 3.36000         3.250000                         2.200000           3.630000           10.525286                   2.250000         2.700000         7.666147  ...                4.29                    2.81                9.608908                                   3.190000            3.190000                 7.244731            4.510000                          7.978223                   12.117       4.02000\n",
       "621     Wyoming  2020-09-14                 4.15000         4.970000                         7.344207           5.140000            5.790000                   6.945278         4.590000         7.666147  ...                3.93                    5.63                3.060000                                   4.590000            3.220000                 2.680000            3.880000                          7.978223                   12.117       4.37000\n",
       "622     Wyoming  2020-09-21                 5.64000         3.670000                         7.344207           5.250000            3.770000                   6.945278         5.090000         7.666147  ...                3.28                    3.72                3.170000                                   3.230000            2.900000                 7.244731            5.140000                          3.230000                   12.117       4.76000\n",
       "623     Wyoming  2020-09-28                 9.79000         4.540000                         7.344207           4.640000            2.600000                   6.945278         4.870000         7.666147  ...                3.93                    4.31                2.540000                                  14.248581            3.320000                 7.244731            5.860000                          3.370000                   12.117       5.92000\n",
       "\n",
       "[20 rows x 123 columns]"
      ],
      "text/html": "<div>\n<style scoped>\n    .dataframe tbody tr th:only-of-type {\n        vertical-align: middle;\n    }\n\n    .dataframe tbody tr th {\n        vertical-align: top;\n    }\n\n    .dataframe thead th {\n        text-align: right;\n    }\n</style>\n<table border=\"1\" class=\"dataframe\">\n  <thead>\n    <tr style=\"text-align: right;\">\n      <th></th>\n      <th>region_name</th>\n      <th>date</th>\n      <th>symptom:Adrenal crisis</th>\n      <th>symptom:Ageusia</th>\n      <th>symptom:Allergic conjunctivitis</th>\n      <th>symptom:Amblyopia</th>\n      <th>symptom:Amenorrhea</th>\n      <th>symptom:Angular cheilitis</th>\n      <th>symptom:Anosmia</th>\n      <th>symptom:Aphonia</th>\n      <th>...</th>\n      <th>symptom:Tenderness</th>\n      <th>symptom:Thyroid nodule</th>\n      <th>symptom:Trichoptilosis</th>\n      <th>symptom:Upper respiratory tract infection</th>\n      <th>symptom:Urethritis</th>\n      <th>symptom:Urinary urgency</th>\n      <th>symptom:Vasculitis</th>\n      <th>symptom:Ventricular fibrillation</th>\n      <th>symptom:Viral pneumonia</th>\n      <th>symptom:Yawn</th>\n    </tr>\n  </thead>\n  <tbody>\n    <tr>\n      <th>0</th>\n      <td>Alaska</td>\n      <td>2020-01-06</td>\n      <td>12.69000</td>\n      <td>10.484588</td>\n      <td>7.344207</td>\n      <td>4.651795</td>\n      <td>12.290000</td>\n      <td>6.945278</td>\n      <td>12.655911</td>\n      <td>7.666147</td>\n      <td>...</td>\n      <td>14.28</td>\n      <td>15.86</td>\n      <td>11.900000</td>\n      <td>18.840000</td>\n      <td>13.880000</td>\n      <td>7.244731</td>\n      <td>14.080000</td>\n      <td>9.910000</td>\n      <td>12.117</td>\n      <td>14.28000</td>\n    </tr>\n    <tr>\n      <th>1</th>\n      <td>Alaska</td>\n      <td>2020-01-13</td>\n      <td>9.56000</td>\n      <td>10.484588</td>\n      <td>7.344207</td>\n      <td>4.651795</td>\n      <td>12.620000</td>\n      <td>6.945278</td>\n      <td>12.655911</td>\n      <td>7.666147</td>\n      <td>...</td>\n      <td>13.39</td>\n      <td>12.24</td>\n      <td>7.840000</td>\n      <td>16.830000</td>\n      <td>13.010000</td>\n      <td>7.650000</td>\n      <td>15.300000</td>\n      <td>8.410000</td>\n      <td>12.117</td>\n      <td>16.26000</td>\n    </tr>\n    <tr>\n      <th>2</th>\n      <td>Alaska</td>\n      <td>2020-01-20</td>\n      <td>11.31113</td>\n      <td>10.484588</td>\n      <td>7.344207</td>\n      <td>4.651795</td>\n      <td>14.170000</td>\n      <td>6.945278</td>\n      <td>7.360000</td>\n      <td>7.666147</td>\n      <td>...</td>\n      <td>12.88</td>\n      <td>17.66</td>\n      <td>15.270000</td>\n      <td>18.400000</td>\n      <td>12.140000</td>\n      <td>7.540000</td>\n      <td>10.300000</td>\n      <td>16.190000</td>\n      <td>12.117</td>\n      <td>17.48000</td>\n    </tr>\n    <tr>\n      <th>3</th>\n      <td>Alaska</td>\n      <td>2020-01-27</td>\n      <td>15.31000</td>\n      <td>7.470000</td>\n      <td>7.344207</td>\n      <td>4.651795</td>\n      <td>15.670000</td>\n      <td>7.470000</td>\n      <td>12.655911</td>\n      <td>7.650000</td>\n      <td>...</td>\n      <td>13.30</td>\n      <td>12.76</td>\n      <td>9.840000</td>\n      <td>20.410000</td>\n      <td>17.490000</td>\n      <td>7.244731</td>\n      <td>11.300000</td>\n      <td>7.978223</td>\n      <td>12.117</td>\n      <td>10.93000</td>\n    </tr>\n    <tr>\n      <th>4</th>\n      <td>Alaska</td>\n      <td>2020-02-03</td>\n      <td>8.81000</td>\n      <td>10.484588</td>\n      <td>7.344207</td>\n      <td>4.651795</td>\n      <td>13.870000</td>\n      <td>8.060000</td>\n      <td>12.655911</td>\n      <td>12.560000</td>\n      <td>...</td>\n      <td>11.81</td>\n      <td>16.68</td>\n      <td>10.680000</td>\n      <td>20.620000</td>\n      <td>16.870000</td>\n      <td>7.244731</td>\n      <td>14.240000</td>\n      <td>10.680000</td>\n      <td>10.500</td>\n      <td>18.93000</td>\n    </tr>\n    <tr>\n      <th>5</th>\n      <td>Alaska</td>\n      <td>2020-02-10</td>\n      <td>11.97000</td>\n      <td>10.484588</td>\n      <td>7.344207</td>\n      <td>4.651795</td>\n      <td>11.970000</td>\n      <td>6.945278</td>\n      <td>12.655911</td>\n      <td>10.880000</td>\n      <td>...</td>\n      <td>9.97</td>\n      <td>15.05</td>\n      <td>12.510000</td>\n      <td>18.680000</td>\n      <td>14.690000</td>\n      <td>7.440000</td>\n      <td>9.070000</td>\n      <td>7.978223</td>\n      <td>7.800</td>\n      <td>17.05000</td>\n    </tr>\n    <tr>\n      <th>6</th>\n      <td>Alaska</td>\n      <td>2020-02-17</td>\n      <td>9.16000</td>\n      <td>10.484588</td>\n      <td>7.344207</td>\n      <td>4.651795</td>\n      <td>9.330000</td>\n      <td>6.945278</td>\n      <td>12.655911</td>\n      <td>9.160000</td>\n      <td>...</td>\n      <td>22.56</td>\n      <td>14.42</td>\n      <td>10.180000</td>\n      <td>16.960000</td>\n      <td>14.930000</td>\n      <td>7.244731</td>\n      <td>13.570000</td>\n      <td>8.650000</td>\n      <td>8.480</td>\n      <td>16.62000</td>\n    </tr>\n    <tr>\n      <th>7</th>\n      <td>Alaska</td>\n      <td>2020-02-24</td>\n      <td>10.44000</td>\n      <td>6.630000</td>\n      <td>7.344207</td>\n      <td>4.651795</td>\n      <td>11.440000</td>\n      <td>10.610000</td>\n      <td>9.780000</td>\n      <td>7.290000</td>\n      <td>...</td>\n      <td>11.77</td>\n      <td>17.57</td>\n      <td>15.580000</td>\n      <td>18.560000</td>\n      <td>10.440000</td>\n      <td>7.130000</td>\n      <td>12.260000</td>\n      <td>8.620000</td>\n      <td>11.100</td>\n      <td>14.42000</td>\n    </tr>\n    <tr>\n      <th>8</th>\n      <td>Alaska</td>\n      <td>2020-03-02</td>\n      <td>14.62000</td>\n      <td>10.484588</td>\n      <td>7.344207</td>\n      <td>4.651795</td>\n      <td>9.970000</td>\n      <td>6.945278</td>\n      <td>12.655911</td>\n      <td>7.666147</td>\n      <td>...</td>\n      <td>10.80</td>\n      <td>19.43</td>\n      <td>12.960000</td>\n      <td>21.760000</td>\n      <td>11.290000</td>\n      <td>7.244731</td>\n      <td>13.290000</td>\n      <td>10.460000</td>\n      <td>14.120</td>\n      <td>9.30000</td>\n    </tr>\n    <tr>\n      <th>9</th>\n      <td>Alaska</td>\n      <td>2020-03-09</td>\n      <td>10.60000</td>\n      <td>10.484588</td>\n      <td>11.610000</td>\n      <td>4.651795</td>\n      <td>12.790000</td>\n      <td>6.945278</td>\n      <td>7.070000</td>\n      <td>7.910000</td>\n      <td>...</td>\n      <td>12.96</td>\n      <td>11.11</td>\n      <td>13.970000</td>\n      <td>46.950000</td>\n      <td>10.270000</td>\n      <td>7.244731</td>\n      <td>9.260000</td>\n      <td>7.978223</td>\n      <td>18.850</td>\n      <td>10.77000</td>\n    </tr>\n    <tr>\n      <th>614</th>\n      <td>Wyoming</td>\n      <td>2020-07-27</td>\n      <td>3.44000</td>\n      <td>2.750000</td>\n      <td>7.344207</td>\n      <td>5.450000</td>\n      <td>3.380000</td>\n      <td>3.210000</td>\n      <td>2.350000</td>\n      <td>7.666147</td>\n      <td>...</td>\n      <td>4.36</td>\n      <td>4.41</td>\n      <td>2.750000</td>\n      <td>2.350000</td>\n      <td>3.440000</td>\n      <td>2.410000</td>\n      <td>4.070000</td>\n      <td>7.978223</td>\n      <td>12.117</td>\n      <td>4.07000</td>\n    </tr>\n    <tr>\n      <th>615</th>\n      <td>Wyoming</td>\n      <td>2020-08-03</td>\n      <td>3.08000</td>\n      <td>3.140000</td>\n      <td>7.344207</td>\n      <td>4.340000</td>\n      <td>2.340000</td>\n      <td>6.945278</td>\n      <td>3.940000</td>\n      <td>7.666147</td>\n      <td>...</td>\n      <td>3.65</td>\n      <td>4.74</td>\n      <td>2.970000</td>\n      <td>14.248581</td>\n      <td>3.650000</td>\n      <td>2.400000</td>\n      <td>7.962267</td>\n      <td>7.978223</td>\n      <td>12.117</td>\n      <td>4.11000</td>\n    </tr>\n    <tr>\n      <th>616</th>\n      <td>Wyoming</td>\n      <td>2020-08-10</td>\n      <td>3.19000</td>\n      <td>10.484588</td>\n      <td>7.344207</td>\n      <td>5.080000</td>\n      <td>3.990000</td>\n      <td>6.945278</td>\n      <td>12.655911</td>\n      <td>7.666147</td>\n      <td>...</td>\n      <td>3.54</td>\n      <td>5.13</td>\n      <td>3.770000</td>\n      <td>14.248581</td>\n      <td>4.740000</td>\n      <td>7.244731</td>\n      <td>4.050000</td>\n      <td>2.570000</td>\n      <td>12.117</td>\n      <td>9.33039</td>\n    </tr>\n    <tr>\n      <th>617</th>\n      <td>Wyoming</td>\n      <td>2020-08-17</td>\n      <td>5.95000</td>\n      <td>4.100000</td>\n      <td>7.344207</td>\n      <td>5.000000</td>\n      <td>2.360000</td>\n      <td>6.945278</td>\n      <td>2.750000</td>\n      <td>7.666147</td>\n      <td>...</td>\n      <td>3.42</td>\n      <td>3.54</td>\n      <td>3.710000</td>\n      <td>14.248581</td>\n      <td>3.990000</td>\n      <td>2.420000</td>\n      <td>3.710000</td>\n      <td>7.978223</td>\n      <td>12.117</td>\n      <td>3.71000</td>\n    </tr>\n    <tr>\n      <th>618</th>\n      <td>Wyoming</td>\n      <td>2020-08-24</td>\n      <td>4.42000</td>\n      <td>3.310000</td>\n      <td>3.420000</td>\n      <td>5.190000</td>\n      <td>3.420000</td>\n      <td>6.945278</td>\n      <td>2.650000</td>\n      <td>7.666147</td>\n      <td>...</td>\n      <td>3.98</td>\n      <td>3.87</td>\n      <td>2.260000</td>\n      <td>3.980000</td>\n      <td>4.090000</td>\n      <td>7.244731</td>\n      <td>3.640000</td>\n      <td>2.480000</td>\n      <td>12.117</td>\n      <td>3.87000</td>\n    </tr>\n    <tr>\n      <th>619</th>\n      <td>Wyoming</td>\n      <td>2020-08-31</td>\n      <td>5.03000</td>\n      <td>2.790000</td>\n      <td>7.344207</td>\n      <td>5.750000</td>\n      <td>4.190000</td>\n      <td>6.945278</td>\n      <td>12.655911</td>\n      <td>7.666147</td>\n      <td>...</td>\n      <td>3.07</td>\n      <td>3.07</td>\n      <td>2.570000</td>\n      <td>2.680000</td>\n      <td>9.817435</td>\n      <td>7.244731</td>\n      <td>5.080000</td>\n      <td>7.978223</td>\n      <td>12.117</td>\n      <td>3.63000</td>\n    </tr>\n    <tr>\n      <th>620</th>\n      <td>Wyoming</td>\n      <td>2020-09-07</td>\n      <td>3.36000</td>\n      <td>3.250000</td>\n      <td>2.200000</td>\n      <td>3.630000</td>\n      <td>10.525286</td>\n      <td>2.250000</td>\n      <td>2.700000</td>\n      <td>7.666147</td>\n      <td>...</td>\n      <td>4.29</td>\n      <td>2.81</td>\n      <td>9.608908</td>\n      <td>3.190000</td>\n      <td>3.190000</td>\n      <td>7.244731</td>\n      <td>4.510000</td>\n      <td>7.978223</td>\n      <td>12.117</td>\n      <td>4.02000</td>\n    </tr>\n    <tr>\n      <th>621</th>\n      <td>Wyoming</td>\n      <td>2020-09-14</td>\n      <td>4.15000</td>\n      <td>4.970000</td>\n      <td>7.344207</td>\n      <td>5.140000</td>\n      <td>5.790000</td>\n      <td>6.945278</td>\n      <td>4.590000</td>\n      <td>7.666147</td>\n      <td>...</td>\n      <td>3.93</td>\n      <td>5.63</td>\n      <td>3.060000</td>\n      <td>4.590000</td>\n      <td>3.220000</td>\n      <td>2.680000</td>\n      <td>3.880000</td>\n      <td>7.978223</td>\n      <td>12.117</td>\n      <td>4.37000</td>\n    </tr>\n    <tr>\n      <th>622</th>\n      <td>Wyoming</td>\n      <td>2020-09-21</td>\n      <td>5.64000</td>\n      <td>3.670000</td>\n      <td>7.344207</td>\n      <td>5.250000</td>\n      <td>3.770000</td>\n      <td>6.945278</td>\n      <td>5.090000</td>\n      <td>7.666147</td>\n      <td>...</td>\n      <td>3.28</td>\n      <td>3.72</td>\n      <td>3.170000</td>\n      <td>3.230000</td>\n      <td>2.900000</td>\n      <td>7.244731</td>\n      <td>5.140000</td>\n      <td>3.230000</td>\n      <td>12.117</td>\n      <td>4.76000</td>\n    </tr>\n    <tr>\n      <th>623</th>\n      <td>Wyoming</td>\n      <td>2020-09-28</td>\n      <td>9.79000</td>\n      <td>4.540000</td>\n      <td>7.344207</td>\n      <td>4.640000</td>\n      <td>2.600000</td>\n      <td>6.945278</td>\n      <td>4.870000</td>\n      <td>7.666147</td>\n      <td>...</td>\n      <td>3.93</td>\n      <td>4.31</td>\n      <td>2.540000</td>\n      <td>14.248581</td>\n      <td>3.320000</td>\n      <td>7.244731</td>\n      <td>5.860000</td>\n      <td>3.370000</td>\n      <td>12.117</td>\n      <td>5.92000</td>\n    </tr>\n  </tbody>\n</table>\n<p>20 rows × 123 columns</p>\n</div>"
     },
     "metadata": {},
     "execution_count": 6
    }
   ],
   "source": [
    "search_trend_df.iloc[np.r_[0:10,-10:0]]"
   ]
  },
  {
   "source": [
    "Thus, we reduce the number of columns from 430 to 123\n",
    "\n",
    "Yet, we still see a lot of NaNs, let's check the number of NaNs in each column"
   ],
   "cell_type": "markdown",
   "metadata": {}
  },
  {
   "cell_type": "code",
   "execution_count": 7,
   "metadata": {},
   "outputs": [
    {
     "output_type": "execute_result",
     "data": {
      "text/plain": [
       "region_name                         0\n",
       "date                                0\n",
       "symptom:Adrenal crisis              0\n",
       "symptom:Ageusia                     0\n",
       "symptom:Allergic conjunctivitis     0\n",
       "                                   ..\n",
       "symptom:Urinary urgency             0\n",
       "symptom:Vasculitis                  0\n",
       "symptom:Ventricular fibrillation    0\n",
       "symptom:Viral pneumonia             0\n",
       "symptom:Yawn                        0\n",
       "Length: 123, dtype: int64"
      ]
     },
     "metadata": {},
     "execution_count": 7
    }
   ],
   "source": [
    "search_trend_df.isnull().sum()"
   ]
  },
  {
   "source": [
    "We will determine if we need to deal with these during training"
   ],
   "cell_type": "markdown",
   "metadata": {}
  },
  {
   "source": [
    "### Now, it's time to clean the hospitalization dataset\n",
    "\n",
    "We still need to have a look at the dataset first"
   ],
   "cell_type": "markdown",
   "metadata": {}
  },
  {
   "cell_type": "code",
   "execution_count": 8,
   "metadata": {},
   "outputs": [
    {
     "output_type": "execute_result",
     "data": {
      "text/plain": [
       "      open_covid_region_code  region_name        date  cases_cumulative  cases_new  cases_cumulative_per_million  cases_new_per_million  deaths_cumulative  deaths_new  deaths_cumulative_per_million  ...  stringency_index  stringency_index_for_display  stringency_legacy_index  stringency_legacy_index_for_display  government_response_index government_response_index_for_display  containment_health_index  containment_health_index_for_display  economic_support_index  economic_support_index_for_display\n",
       "0                        AFG  Afghanistan  2019-12-31               0.0        0.0                           0.0                    0.0                0.0         0.0                            0.0  ...               NaN                           NaN                      NaN                                  NaN                        NaN                                   NaN                       NaN                                   NaN                     NaN                                 NaN\n",
       "1                        AFG  Afghanistan  2020-01-01               0.0        0.0                           0.0                    0.0                0.0         0.0                            0.0  ...              0.00                          0.00                     0.00                                 0.00                       0.00                                  0.00                      0.00                                  0.00                     0.0                                 0.0\n",
       "2                        AFG  Afghanistan  2020-01-02               0.0        0.0                           0.0                    0.0                0.0         0.0                            0.0  ...              0.00                          0.00                     0.00                                 0.00                       0.00                                  0.00                      0.00                                  0.00                     0.0                                 0.0\n",
       "3                        AFG  Afghanistan  2020-01-03               0.0        0.0                           0.0                    0.0                0.0         0.0                            0.0  ...              0.00                          0.00                     0.00                                 0.00                       0.00                                  0.00                      0.00                                  0.00                     0.0                                 0.0\n",
       "4                        AFG  Afghanistan  2020-01-04               0.0        0.0                           0.0                    0.0                0.0         0.0                            0.0  ...              0.00                          0.00                     0.00                                 0.00                       0.00                                  0.00                      0.00                                  0.00                     0.0                                 0.0\n",
       "...                      ...          ...         ...               ...        ...                           ...                    ...                ...         ...                            ...  ...               ...                           ...                      ...                                  ...                        ...                                   ...                       ...                                   ...                     ...                                 ...\n",
       "98941                    VUT      Vanuatu  2020-10-05               NaN        NaN                           NaN                    NaN                NaN         NaN                            NaN  ...             22.22                         22.22                    28.57                                28.57                      25.64                                 25.64                     25.76                                 25.76                    25.0                                25.0\n",
       "98942                    VUT      Vanuatu  2020-10-06               NaN        NaN                           NaN                    NaN                NaN         NaN                            NaN  ...               NaN                         22.22                      NaN                                28.57                        NaN                                 25.64                       NaN                                 25.76                     NaN                                25.0\n",
       "98943                    VUT      Vanuatu  2020-10-07               NaN        NaN                           NaN                    NaN                NaN         NaN                            NaN  ...               NaN                         22.22                      NaN                                28.57                        NaN                                 25.64                       NaN                                 25.76                     NaN                                25.0\n",
       "98944                    VUT      Vanuatu  2020-10-08               NaN        NaN                           NaN                    NaN                NaN         NaN                            NaN  ...               NaN                         22.22                      NaN                                28.57                        NaN                                 25.64                       NaN                                 25.76                     NaN                                25.0\n",
       "98945                    VUT      Vanuatu  2020-10-09               NaN        NaN                           NaN                    NaN                NaN         NaN                            NaN  ...               NaN                         22.22                      NaN                                28.57                        NaN                                 25.64                       NaN                                 25.76                     NaN                                25.0\n",
       "\n",
       "[98946 rows x 62 columns]"
      ],
      "text/html": "<div>\n<style scoped>\n    .dataframe tbody tr th:only-of-type {\n        vertical-align: middle;\n    }\n\n    .dataframe tbody tr th {\n        vertical-align: top;\n    }\n\n    .dataframe thead th {\n        text-align: right;\n    }\n</style>\n<table border=\"1\" class=\"dataframe\">\n  <thead>\n    <tr style=\"text-align: right;\">\n      <th></th>\n      <th>open_covid_region_code</th>\n      <th>region_name</th>\n      <th>date</th>\n      <th>cases_cumulative</th>\n      <th>cases_new</th>\n      <th>cases_cumulative_per_million</th>\n      <th>cases_new_per_million</th>\n      <th>deaths_cumulative</th>\n      <th>deaths_new</th>\n      <th>deaths_cumulative_per_million</th>\n      <th>...</th>\n      <th>stringency_index</th>\n      <th>stringency_index_for_display</th>\n      <th>stringency_legacy_index</th>\n      <th>stringency_legacy_index_for_display</th>\n      <th>government_response_index</th>\n      <th>government_response_index_for_display</th>\n      <th>containment_health_index</th>\n      <th>containment_health_index_for_display</th>\n      <th>economic_support_index</th>\n      <th>economic_support_index_for_display</th>\n    </tr>\n  </thead>\n  <tbody>\n    <tr>\n      <th>0</th>\n      <td>AFG</td>\n      <td>Afghanistan</td>\n      <td>2019-12-31</td>\n      <td>0.0</td>\n      <td>0.0</td>\n      <td>0.0</td>\n      <td>0.0</td>\n      <td>0.0</td>\n      <td>0.0</td>\n      <td>0.0</td>\n      <td>...</td>\n      <td>NaN</td>\n      <td>NaN</td>\n      <td>NaN</td>\n      <td>NaN</td>\n      <td>NaN</td>\n      <td>NaN</td>\n      <td>NaN</td>\n      <td>NaN</td>\n      <td>NaN</td>\n      <td>NaN</td>\n    </tr>\n    <tr>\n      <th>1</th>\n      <td>AFG</td>\n      <td>Afghanistan</td>\n      <td>2020-01-01</td>\n      <td>0.0</td>\n      <td>0.0</td>\n      <td>0.0</td>\n      <td>0.0</td>\n      <td>0.0</td>\n      <td>0.0</td>\n      <td>0.0</td>\n      <td>...</td>\n      <td>0.00</td>\n      <td>0.00</td>\n      <td>0.00</td>\n      <td>0.00</td>\n      <td>0.00</td>\n      <td>0.00</td>\n      <td>0.00</td>\n      <td>0.00</td>\n      <td>0.0</td>\n      <td>0.0</td>\n    </tr>\n    <tr>\n      <th>2</th>\n      <td>AFG</td>\n      <td>Afghanistan</td>\n      <td>2020-01-02</td>\n      <td>0.0</td>\n      <td>0.0</td>\n      <td>0.0</td>\n      <td>0.0</td>\n      <td>0.0</td>\n      <td>0.0</td>\n      <td>0.0</td>\n      <td>...</td>\n      <td>0.00</td>\n      <td>0.00</td>\n      <td>0.00</td>\n      <td>0.00</td>\n      <td>0.00</td>\n      <td>0.00</td>\n      <td>0.00</td>\n      <td>0.00</td>\n      <td>0.0</td>\n      <td>0.0</td>\n    </tr>\n    <tr>\n      <th>3</th>\n      <td>AFG</td>\n      <td>Afghanistan</td>\n      <td>2020-01-03</td>\n      <td>0.0</td>\n      <td>0.0</td>\n      <td>0.0</td>\n      <td>0.0</td>\n      <td>0.0</td>\n      <td>0.0</td>\n      <td>0.0</td>\n      <td>...</td>\n      <td>0.00</td>\n      <td>0.00</td>\n      <td>0.00</td>\n      <td>0.00</td>\n      <td>0.00</td>\n      <td>0.00</td>\n      <td>0.00</td>\n      <td>0.00</td>\n      <td>0.0</td>\n      <td>0.0</td>\n    </tr>\n    <tr>\n      <th>4</th>\n      <td>AFG</td>\n      <td>Afghanistan</td>\n      <td>2020-01-04</td>\n      <td>0.0</td>\n      <td>0.0</td>\n      <td>0.0</td>\n      <td>0.0</td>\n      <td>0.0</td>\n      <td>0.0</td>\n      <td>0.0</td>\n      <td>...</td>\n      <td>0.00</td>\n      <td>0.00</td>\n      <td>0.00</td>\n      <td>0.00</td>\n      <td>0.00</td>\n      <td>0.00</td>\n      <td>0.00</td>\n      <td>0.00</td>\n      <td>0.0</td>\n      <td>0.0</td>\n    </tr>\n    <tr>\n      <th>...</th>\n      <td>...</td>\n      <td>...</td>\n      <td>...</td>\n      <td>...</td>\n      <td>...</td>\n      <td>...</td>\n      <td>...</td>\n      <td>...</td>\n      <td>...</td>\n      <td>...</td>\n      <td>...</td>\n      <td>...</td>\n      <td>...</td>\n      <td>...</td>\n      <td>...</td>\n      <td>...</td>\n      <td>...</td>\n      <td>...</td>\n      <td>...</td>\n      <td>...</td>\n      <td>...</td>\n    </tr>\n    <tr>\n      <th>98941</th>\n      <td>VUT</td>\n      <td>Vanuatu</td>\n      <td>2020-10-05</td>\n      <td>NaN</td>\n      <td>NaN</td>\n      <td>NaN</td>\n      <td>NaN</td>\n      <td>NaN</td>\n      <td>NaN</td>\n      <td>NaN</td>\n      <td>...</td>\n      <td>22.22</td>\n      <td>22.22</td>\n      <td>28.57</td>\n      <td>28.57</td>\n      <td>25.64</td>\n      <td>25.64</td>\n      <td>25.76</td>\n      <td>25.76</td>\n      <td>25.0</td>\n      <td>25.0</td>\n    </tr>\n    <tr>\n      <th>98942</th>\n      <td>VUT</td>\n      <td>Vanuatu</td>\n      <td>2020-10-06</td>\n      <td>NaN</td>\n      <td>NaN</td>\n      <td>NaN</td>\n      <td>NaN</td>\n      <td>NaN</td>\n      <td>NaN</td>\n      <td>NaN</td>\n      <td>...</td>\n      <td>NaN</td>\n      <td>22.22</td>\n      <td>NaN</td>\n      <td>28.57</td>\n      <td>NaN</td>\n      <td>25.64</td>\n      <td>NaN</td>\n      <td>25.76</td>\n      <td>NaN</td>\n      <td>25.0</td>\n    </tr>\n    <tr>\n      <th>98943</th>\n      <td>VUT</td>\n      <td>Vanuatu</td>\n      <td>2020-10-07</td>\n      <td>NaN</td>\n      <td>NaN</td>\n      <td>NaN</td>\n      <td>NaN</td>\n      <td>NaN</td>\n      <td>NaN</td>\n      <td>NaN</td>\n      <td>...</td>\n      <td>NaN</td>\n      <td>22.22</td>\n      <td>NaN</td>\n      <td>28.57</td>\n      <td>NaN</td>\n      <td>25.64</td>\n      <td>NaN</td>\n      <td>25.76</td>\n      <td>NaN</td>\n      <td>25.0</td>\n    </tr>\n    <tr>\n      <th>98944</th>\n      <td>VUT</td>\n      <td>Vanuatu</td>\n      <td>2020-10-08</td>\n      <td>NaN</td>\n      <td>NaN</td>\n      <td>NaN</td>\n      <td>NaN</td>\n      <td>NaN</td>\n      <td>NaN</td>\n      <td>NaN</td>\n      <td>...</td>\n      <td>NaN</td>\n      <td>22.22</td>\n      <td>NaN</td>\n      <td>28.57</td>\n      <td>NaN</td>\n      <td>25.64</td>\n      <td>NaN</td>\n      <td>25.76</td>\n      <td>NaN</td>\n      <td>25.0</td>\n    </tr>\n    <tr>\n      <th>98945</th>\n      <td>VUT</td>\n      <td>Vanuatu</td>\n      <td>2020-10-09</td>\n      <td>NaN</td>\n      <td>NaN</td>\n      <td>NaN</td>\n      <td>NaN</td>\n      <td>NaN</td>\n      <td>NaN</td>\n      <td>NaN</td>\n      <td>...</td>\n      <td>NaN</td>\n      <td>22.22</td>\n      <td>NaN</td>\n      <td>28.57</td>\n      <td>NaN</td>\n      <td>25.64</td>\n      <td>NaN</td>\n      <td>25.76</td>\n      <td>NaN</td>\n      <td>25.0</td>\n    </tr>\n  </tbody>\n</table>\n<p>98946 rows × 62 columns</p>\n</div>"
     },
     "metadata": {},
     "execution_count": 8
    }
   ],
   "source": [
    "hospitalization_df"
   ]
  },
  {
   "source": [
    "Since we only need `open_covid_region_code`, `region_name`,  `date`, and `hospitalized_new`, we will select only these columns\n",
    "\n",
    "And in this mini-project only, we will use only data gathered from US\n"
   ],
   "cell_type": "markdown",
   "metadata": {}
  },
  {
   "cell_type": "code",
   "execution_count": 9,
   "metadata": {},
   "outputs": [
    {
     "output_type": "execute_result",
     "data": {
      "text/plain": [
       "      region_name        date  hospitalized_new\n",
       "85278     Wyoming  2020-03-07               0.0\n",
       "85279     Wyoming  2020-03-08               0.0\n",
       "85280     Wyoming  2020-03-09               0.0\n",
       "85281     Wyoming  2020-03-10               0.0\n",
       "85282     Wyoming  2020-03-11               0.0\n",
       "...           ...         ...               ...\n",
       "97526      Alaska  2020-10-04               0.0\n",
       "97527      Alaska  2020-10-05               0.0\n",
       "97528      Alaska  2020-10-06               0.0\n",
       "97529      Alaska  2020-10-07               0.0\n",
       "97530      Alaska  2020-10-08               0.0\n",
       "\n",
       "[12253 rows x 3 columns]"
      ],
      "text/html": "<div>\n<style scoped>\n    .dataframe tbody tr th:only-of-type {\n        vertical-align: middle;\n    }\n\n    .dataframe tbody tr th {\n        vertical-align: top;\n    }\n\n    .dataframe thead th {\n        text-align: right;\n    }\n</style>\n<table border=\"1\" class=\"dataframe\">\n  <thead>\n    <tr style=\"text-align: right;\">\n      <th></th>\n      <th>region_name</th>\n      <th>date</th>\n      <th>hospitalized_new</th>\n    </tr>\n  </thead>\n  <tbody>\n    <tr>\n      <th>85278</th>\n      <td>Wyoming</td>\n      <td>2020-03-07</td>\n      <td>0.0</td>\n    </tr>\n    <tr>\n      <th>85279</th>\n      <td>Wyoming</td>\n      <td>2020-03-08</td>\n      <td>0.0</td>\n    </tr>\n    <tr>\n      <th>85280</th>\n      <td>Wyoming</td>\n      <td>2020-03-09</td>\n      <td>0.0</td>\n    </tr>\n    <tr>\n      <th>85281</th>\n      <td>Wyoming</td>\n      <td>2020-03-10</td>\n      <td>0.0</td>\n    </tr>\n    <tr>\n      <th>85282</th>\n      <td>Wyoming</td>\n      <td>2020-03-11</td>\n      <td>0.0</td>\n    </tr>\n    <tr>\n      <th>...</th>\n      <td>...</td>\n      <td>...</td>\n      <td>...</td>\n    </tr>\n    <tr>\n      <th>97526</th>\n      <td>Alaska</td>\n      <td>2020-10-04</td>\n      <td>0.0</td>\n    </tr>\n    <tr>\n      <th>97527</th>\n      <td>Alaska</td>\n      <td>2020-10-05</td>\n      <td>0.0</td>\n    </tr>\n    <tr>\n      <th>97528</th>\n      <td>Alaska</td>\n      <td>2020-10-06</td>\n      <td>0.0</td>\n    </tr>\n    <tr>\n      <th>97529</th>\n      <td>Alaska</td>\n      <td>2020-10-07</td>\n      <td>0.0</td>\n    </tr>\n    <tr>\n      <th>97530</th>\n      <td>Alaska</td>\n      <td>2020-10-08</td>\n      <td>0.0</td>\n    </tr>\n  </tbody>\n</table>\n<p>12253 rows × 3 columns</p>\n</div>"
     },
     "metadata": {},
     "execution_count": 9
    }
   ],
   "source": [
    "hospitalization_df = hospitalization_df[['open_covid_region_code','region_name','date','hospitalized_new']]\n",
    "hospitalization_df = hospitalization_df[hospitalization_df['open_covid_region_code'].str.contains('^US-')]\n",
    "hospitalization_df = hospitalization_df.drop(hospitalization_df.columns[[0]], axis=1)\n",
    "\n",
    "# regions = hospitalization_df.region_name.unique()\n",
    "# for region in regions:\n",
    "#     region_df = hospitalization_df[hospitalization_df['region_name'] == region]\n",
    "#     if (region_df['hospitalized_new'] == 0).all():\n",
    "#         hospitalization_df = hospitalization_df.drop(hospitalization_df[hospitalization_df.region_name == region].index, axis=0) \n",
    "hospitalization_df"
   ]
  },
  {
   "source": [
    "Since the data here are daily basis, and the data in search_trend_df are weekly basis, we need to convert these to weekly basis"
   ],
   "cell_type": "markdown",
   "metadata": {}
  },
  {
   "cell_type": "code",
   "execution_count": 10,
   "metadata": {},
   "outputs": [
    {
     "output_type": "execute_result",
     "data": {
      "text/plain": [
       "     region_name       date  hospitalized_new\n",
       "0        Alabama 2020-03-09               0.0\n",
       "1        Alabama 2020-03-16               0.0\n",
       "2        Alabama 2020-03-23               0.0\n",
       "3        Alabama 2020-03-30               0.0\n",
       "4        Alabama 2020-04-06             231.0\n",
       "...          ...        ...               ...\n",
       "1795     Wyoming 2020-09-14               9.0\n",
       "1796     Wyoming 2020-09-21              15.0\n",
       "1797     Wyoming 2020-09-28              19.0\n",
       "1798     Wyoming 2020-10-05              20.0\n",
       "1799     Wyoming 2020-10-12              31.0\n",
       "\n",
       "[1800 rows x 3 columns]"
      ],
      "text/html": "<div>\n<style scoped>\n    .dataframe tbody tr th:only-of-type {\n        vertical-align: middle;\n    }\n\n    .dataframe tbody tr th {\n        vertical-align: top;\n    }\n\n    .dataframe thead th {\n        text-align: right;\n    }\n</style>\n<table border=\"1\" class=\"dataframe\">\n  <thead>\n    <tr style=\"text-align: right;\">\n      <th></th>\n      <th>region_name</th>\n      <th>date</th>\n      <th>hospitalized_new</th>\n    </tr>\n  </thead>\n  <tbody>\n    <tr>\n      <th>0</th>\n      <td>Alabama</td>\n      <td>2020-03-09</td>\n      <td>0.0</td>\n    </tr>\n    <tr>\n      <th>1</th>\n      <td>Alabama</td>\n      <td>2020-03-16</td>\n      <td>0.0</td>\n    </tr>\n    <tr>\n      <th>2</th>\n      <td>Alabama</td>\n      <td>2020-03-23</td>\n      <td>0.0</td>\n    </tr>\n    <tr>\n      <th>3</th>\n      <td>Alabama</td>\n      <td>2020-03-30</td>\n      <td>0.0</td>\n    </tr>\n    <tr>\n      <th>4</th>\n      <td>Alabama</td>\n      <td>2020-04-06</td>\n      <td>231.0</td>\n    </tr>\n    <tr>\n      <th>...</th>\n      <td>...</td>\n      <td>...</td>\n      <td>...</td>\n    </tr>\n    <tr>\n      <th>1795</th>\n      <td>Wyoming</td>\n      <td>2020-09-14</td>\n      <td>9.0</td>\n    </tr>\n    <tr>\n      <th>1796</th>\n      <td>Wyoming</td>\n      <td>2020-09-21</td>\n      <td>15.0</td>\n    </tr>\n    <tr>\n      <th>1797</th>\n      <td>Wyoming</td>\n      <td>2020-09-28</td>\n      <td>19.0</td>\n    </tr>\n    <tr>\n      <th>1798</th>\n      <td>Wyoming</td>\n      <td>2020-10-05</td>\n      <td>20.0</td>\n    </tr>\n    <tr>\n      <th>1799</th>\n      <td>Wyoming</td>\n      <td>2020-10-12</td>\n      <td>31.0</td>\n    </tr>\n  </tbody>\n</table>\n<p>1800 rows × 3 columns</p>\n</div>"
     },
     "metadata": {},
     "execution_count": 10
    }
   ],
   "source": [
    "hospitalization_df['date'] = pd.to_datetime(hospitalization_df['date'], format='%Y-%m-%d')\n",
    "hospitalization_df = hospitalization_df.groupby(['region_name',]).resample('W', on='date',loffset='1d').sum()\n",
    "hospitalization_df = hospitalization_df.reset_index()\n",
    "hospitalization_df"
   ]
  },
  {
   "source": [
    "now the cleanning is done, we merge the datasets\n",
    "\n",
    "We also drop column `open_covid_region_code` since we already have `sub_region_1` \n",
    "\n",
    "For future purpose, we rename `sub_region_1` to `region_name`"
   ],
   "cell_type": "markdown",
   "metadata": {}
  },
  {
   "cell_type": "code",
   "execution_count": 11,
   "metadata": {},
   "outputs": [
    {
     "output_type": "execute_result",
     "data": {
      "text/plain": [
       "    region_name       date  symptom:Adrenal crisis  symptom:Ageusia  symptom:Allergic conjunctivitis  symptom:Amblyopia  symptom:Amenorrhea  symptom:Angular cheilitis  symptom:Anosmia  symptom:Aphonia  ...  symptom:Thyroid nodule  symptom:Trichoptilosis  symptom:Upper respiratory tract infection  symptom:Urethritis  symptom:Urinary urgency  symptom:Vasculitis  symptom:Ventricular fibrillation  symptom:Viral pneumonia  symptom:Yawn  hospitalized_new\n",
       "0        Alaska 2020-03-09                   10.60        10.484588                        11.610000           4.651795           12.790000                   6.945278         7.070000         7.910000  ...                   11.11               13.970000                                  46.950000           10.270000                 7.244731                9.26                          7.978223                   18.850         10.77               0.0\n",
       "1        Alaska 2020-03-16                   11.69        10.484588                         6.390000           4.651795           10.525286                   6.945278        15.590000         7.950000  ...                   14.49                9.040000                                  78.710000           12.000000                 7.244731               11.53                          7.978223                   24.940         14.34               0.0\n",
       "2        Alaska 2020-03-23                   11.15        16.570000                         7.344207           4.651795            9.530000                   6.945278        45.170000         7.666147  ...                    7.63                8.360000                                  37.540000            8.800000                 7.244731                6.75                          7.040000                   13.790         15.69               0.0\n",
       "3        Alaska 2020-03-30                    8.96         8.960000                         7.110000           4.651795            8.530000                   6.945278        19.050000         7.666147  ...                    9.38               14.790000                                  24.460000            9.810000                 7.960000                7.54                          7.110000                    8.820         17.63               6.0\n",
       "4        Alaska 2020-04-06                   10.08         7.350000                         7.344207           4.651795           10.800000                   7.060000         6.770000         7.666147  ...                    8.64               13.830000                                  16.280000           10.080000                 7.244731               11.09                          7.978223                    9.070         14.12              14.0\n",
       "..          ...        ...                     ...              ...                              ...                ...                 ...                        ...              ...              ...  ...                     ...                     ...                                        ...                 ...                      ...                 ...                               ...                      ...           ...               ...\n",
       "175     Wyoming 2020-08-31                    5.03         2.790000                         7.344207           5.750000            4.190000                   6.945278        12.655911         7.666147  ...                    3.07                2.570000                                   2.680000            9.817435                 7.244731                5.08                          7.978223                   12.117          3.63               8.0\n",
       "176     Wyoming 2020-09-07                    3.36         3.250000                         2.200000           3.630000           10.525286                   2.250000         2.700000         7.666147  ...                    2.81                9.608908                                   3.190000            3.190000                 7.244731                4.51                          7.978223                   12.117          4.02               4.0\n",
       "177     Wyoming 2020-09-14                    4.15         4.970000                         7.344207           5.140000            5.790000                   6.945278         4.590000         7.666147  ...                    5.63                3.060000                                   4.590000            3.220000                 2.680000                3.88                          7.978223                   12.117          4.37               9.0\n",
       "178     Wyoming 2020-09-21                    5.64         3.670000                         7.344207           5.250000            3.770000                   6.945278         5.090000         7.666147  ...                    3.72                3.170000                                   3.230000            2.900000                 7.244731                5.14                          3.230000                   12.117          4.76              15.0\n",
       "179     Wyoming 2020-09-28                    9.79         4.540000                         7.344207           4.640000            2.600000                   6.945278         4.870000         7.666147  ...                    4.31                2.540000                                  14.248581            3.320000                 7.244731                5.86                          3.370000                   12.117          5.92              19.0\n",
       "\n",
       "[180 rows x 124 columns]"
      ],
      "text/html": "<div>\n<style scoped>\n    .dataframe tbody tr th:only-of-type {\n        vertical-align: middle;\n    }\n\n    .dataframe tbody tr th {\n        vertical-align: top;\n    }\n\n    .dataframe thead th {\n        text-align: right;\n    }\n</style>\n<table border=\"1\" class=\"dataframe\">\n  <thead>\n    <tr style=\"text-align: right;\">\n      <th></th>\n      <th>region_name</th>\n      <th>date</th>\n      <th>symptom:Adrenal crisis</th>\n      <th>symptom:Ageusia</th>\n      <th>symptom:Allergic conjunctivitis</th>\n      <th>symptom:Amblyopia</th>\n      <th>symptom:Amenorrhea</th>\n      <th>symptom:Angular cheilitis</th>\n      <th>symptom:Anosmia</th>\n      <th>symptom:Aphonia</th>\n      <th>...</th>\n      <th>symptom:Thyroid nodule</th>\n      <th>symptom:Trichoptilosis</th>\n      <th>symptom:Upper respiratory tract infection</th>\n      <th>symptom:Urethritis</th>\n      <th>symptom:Urinary urgency</th>\n      <th>symptom:Vasculitis</th>\n      <th>symptom:Ventricular fibrillation</th>\n      <th>symptom:Viral pneumonia</th>\n      <th>symptom:Yawn</th>\n      <th>hospitalized_new</th>\n    </tr>\n  </thead>\n  <tbody>\n    <tr>\n      <th>0</th>\n      <td>Alaska</td>\n      <td>2020-03-09</td>\n      <td>10.60</td>\n      <td>10.484588</td>\n      <td>11.610000</td>\n      <td>4.651795</td>\n      <td>12.790000</td>\n      <td>6.945278</td>\n      <td>7.070000</td>\n      <td>7.910000</td>\n      <td>...</td>\n      <td>11.11</td>\n      <td>13.970000</td>\n      <td>46.950000</td>\n      <td>10.270000</td>\n      <td>7.244731</td>\n      <td>9.26</td>\n      <td>7.978223</td>\n      <td>18.850</td>\n      <td>10.77</td>\n      <td>0.0</td>\n    </tr>\n    <tr>\n      <th>1</th>\n      <td>Alaska</td>\n      <td>2020-03-16</td>\n      <td>11.69</td>\n      <td>10.484588</td>\n      <td>6.390000</td>\n      <td>4.651795</td>\n      <td>10.525286</td>\n      <td>6.945278</td>\n      <td>15.590000</td>\n      <td>7.950000</td>\n      <td>...</td>\n      <td>14.49</td>\n      <td>9.040000</td>\n      <td>78.710000</td>\n      <td>12.000000</td>\n      <td>7.244731</td>\n      <td>11.53</td>\n      <td>7.978223</td>\n      <td>24.940</td>\n      <td>14.34</td>\n      <td>0.0</td>\n    </tr>\n    <tr>\n      <th>2</th>\n      <td>Alaska</td>\n      <td>2020-03-23</td>\n      <td>11.15</td>\n      <td>16.570000</td>\n      <td>7.344207</td>\n      <td>4.651795</td>\n      <td>9.530000</td>\n      <td>6.945278</td>\n      <td>45.170000</td>\n      <td>7.666147</td>\n      <td>...</td>\n      <td>7.63</td>\n      <td>8.360000</td>\n      <td>37.540000</td>\n      <td>8.800000</td>\n      <td>7.244731</td>\n      <td>6.75</td>\n      <td>7.040000</td>\n      <td>13.790</td>\n      <td>15.69</td>\n      <td>0.0</td>\n    </tr>\n    <tr>\n      <th>3</th>\n      <td>Alaska</td>\n      <td>2020-03-30</td>\n      <td>8.96</td>\n      <td>8.960000</td>\n      <td>7.110000</td>\n      <td>4.651795</td>\n      <td>8.530000</td>\n      <td>6.945278</td>\n      <td>19.050000</td>\n      <td>7.666147</td>\n      <td>...</td>\n      <td>9.38</td>\n      <td>14.790000</td>\n      <td>24.460000</td>\n      <td>9.810000</td>\n      <td>7.960000</td>\n      <td>7.54</td>\n      <td>7.110000</td>\n      <td>8.820</td>\n      <td>17.63</td>\n      <td>6.0</td>\n    </tr>\n    <tr>\n      <th>4</th>\n      <td>Alaska</td>\n      <td>2020-04-06</td>\n      <td>10.08</td>\n      <td>7.350000</td>\n      <td>7.344207</td>\n      <td>4.651795</td>\n      <td>10.800000</td>\n      <td>7.060000</td>\n      <td>6.770000</td>\n      <td>7.666147</td>\n      <td>...</td>\n      <td>8.64</td>\n      <td>13.830000</td>\n      <td>16.280000</td>\n      <td>10.080000</td>\n      <td>7.244731</td>\n      <td>11.09</td>\n      <td>7.978223</td>\n      <td>9.070</td>\n      <td>14.12</td>\n      <td>14.0</td>\n    </tr>\n    <tr>\n      <th>...</th>\n      <td>...</td>\n      <td>...</td>\n      <td>...</td>\n      <td>...</td>\n      <td>...</td>\n      <td>...</td>\n      <td>...</td>\n      <td>...</td>\n      <td>...</td>\n      <td>...</td>\n      <td>...</td>\n      <td>...</td>\n      <td>...</td>\n      <td>...</td>\n      <td>...</td>\n      <td>...</td>\n      <td>...</td>\n      <td>...</td>\n      <td>...</td>\n      <td>...</td>\n      <td>...</td>\n    </tr>\n    <tr>\n      <th>175</th>\n      <td>Wyoming</td>\n      <td>2020-08-31</td>\n      <td>5.03</td>\n      <td>2.790000</td>\n      <td>7.344207</td>\n      <td>5.750000</td>\n      <td>4.190000</td>\n      <td>6.945278</td>\n      <td>12.655911</td>\n      <td>7.666147</td>\n      <td>...</td>\n      <td>3.07</td>\n      <td>2.570000</td>\n      <td>2.680000</td>\n      <td>9.817435</td>\n      <td>7.244731</td>\n      <td>5.08</td>\n      <td>7.978223</td>\n      <td>12.117</td>\n      <td>3.63</td>\n      <td>8.0</td>\n    </tr>\n    <tr>\n      <th>176</th>\n      <td>Wyoming</td>\n      <td>2020-09-07</td>\n      <td>3.36</td>\n      <td>3.250000</td>\n      <td>2.200000</td>\n      <td>3.630000</td>\n      <td>10.525286</td>\n      <td>2.250000</td>\n      <td>2.700000</td>\n      <td>7.666147</td>\n      <td>...</td>\n      <td>2.81</td>\n      <td>9.608908</td>\n      <td>3.190000</td>\n      <td>3.190000</td>\n      <td>7.244731</td>\n      <td>4.51</td>\n      <td>7.978223</td>\n      <td>12.117</td>\n      <td>4.02</td>\n      <td>4.0</td>\n    </tr>\n    <tr>\n      <th>177</th>\n      <td>Wyoming</td>\n      <td>2020-09-14</td>\n      <td>4.15</td>\n      <td>4.970000</td>\n      <td>7.344207</td>\n      <td>5.140000</td>\n      <td>5.790000</td>\n      <td>6.945278</td>\n      <td>4.590000</td>\n      <td>7.666147</td>\n      <td>...</td>\n      <td>5.63</td>\n      <td>3.060000</td>\n      <td>4.590000</td>\n      <td>3.220000</td>\n      <td>2.680000</td>\n      <td>3.88</td>\n      <td>7.978223</td>\n      <td>12.117</td>\n      <td>4.37</td>\n      <td>9.0</td>\n    </tr>\n    <tr>\n      <th>178</th>\n      <td>Wyoming</td>\n      <td>2020-09-21</td>\n      <td>5.64</td>\n      <td>3.670000</td>\n      <td>7.344207</td>\n      <td>5.250000</td>\n      <td>3.770000</td>\n      <td>6.945278</td>\n      <td>5.090000</td>\n      <td>7.666147</td>\n      <td>...</td>\n      <td>3.72</td>\n      <td>3.170000</td>\n      <td>3.230000</td>\n      <td>2.900000</td>\n      <td>7.244731</td>\n      <td>5.14</td>\n      <td>3.230000</td>\n      <td>12.117</td>\n      <td>4.76</td>\n      <td>15.0</td>\n    </tr>\n    <tr>\n      <th>179</th>\n      <td>Wyoming</td>\n      <td>2020-09-28</td>\n      <td>9.79</td>\n      <td>4.540000</td>\n      <td>7.344207</td>\n      <td>4.640000</td>\n      <td>2.600000</td>\n      <td>6.945278</td>\n      <td>4.870000</td>\n      <td>7.666147</td>\n      <td>...</td>\n      <td>4.31</td>\n      <td>2.540000</td>\n      <td>14.248581</td>\n      <td>3.320000</td>\n      <td>7.244731</td>\n      <td>5.86</td>\n      <td>3.370000</td>\n      <td>12.117</td>\n      <td>5.92</td>\n      <td>19.0</td>\n    </tr>\n  </tbody>\n</table>\n<p>180 rows × 124 columns</p>\n</div>"
     },
     "metadata": {},
     "execution_count": 11
    }
   ],
   "source": [
    "search_trend_df['date'] = pd.to_datetime(search_trend_df['date'], format='%Y-%m-%d')\n",
    "result_df = search_trend_df.merge(hospitalization_df, on=['region_name', 'date'])\n",
    "result_df"
   ]
  },
  {
   "source": [
    "We may need to use the dataframe in another file, so we export it as a CSV file\n",
    "\n",
    "And also, we do not want to have index in our generated CSV file, so we use `index=False`"
   ],
   "cell_type": "markdown",
   "metadata": {}
  },
  {
   "cell_type": "code",
   "execution_count": 12,
   "metadata": {},
   "outputs": [],
   "source": [
    "result_df.to_csv('result.csv', index=False)"
   ]
  },
  {
   "source": [
    "### The cleaning process is done"
   ],
   "cell_type": "markdown",
   "metadata": {}
  }
 ],
 "metadata": {
  "kernelspec": {
   "name": "Python 3.7.7 64-bit",
   "display_name": "Python 3.7.7 64-bit",
   "metadata": {
    "interpreter": {
     "hash": "aee8b7b246df8f9039afb4144a1f6fd8d2ca17a180786b69acc140d282b71a49"
    }
   }
  },
  "language_info": {
   "codemirror_mode": {
    "name": "ipython",
    "version": 2
   },
   "file_extension": ".py",
   "mimetype": "text/x-python",
   "name": "python",
   "nbconvert_exporter": "python",
   "pygments_lexer": "ipython2",
   "version": "3.7.7-final"
  }
 },
 "nbformat": 4,
 "nbformat_minor": 0
}