{
 "cells": [
  {
   "cell_type": "code",
   "execution_count": 1,
   "metadata": {},
   "outputs": [],
   "source": [
    "import numpy as np \n",
    "import pandas as pd \n",
    "from sklearn.neighbors import KNeighborsRegressor as KNN\n",
    "from sklearn.tree import DecisionTreeClassifier as DTC \n",
    "from sklearn import metrics\n",
    "import matplotlib.pyplot as plt\n",
    "df = pd.read_csv('result.csv')\n",
    "# cols_drop = []\n",
    "# for col in df.columns.values:\n",
    "#     if df[col].isnull().sum()/ 480.0 > 0.5:\n",
    "#         cols_drop.append(col)\n",
    "# df = df.drop(cols_drop, axis=1)\n",
    "# print(df)\n",
    "df = df.fillna(0)\n",
    "#print(df)\n",
    "region = df.region_name.unique()\n",
    "\n",
    "def split_region(i):\n",
    "    val_state = np.array([region[3*i], region[3*i+1], region[3*i+2]])\n",
    "    train = df.loc[~np.in1d(df['region_name'], val_state)]\n",
    "    val = df.loc[np.in1d(df['region_name'], val_state)]\n",
    "    return (train, val)\n",
    "\n",
    "time_train = df.loc[df['date'] < '2020-08-10']\n",
    "time_val = df.loc[df['date'] >= '2020-08-10']\n"
   ]
  },
  {
   "cell_type": "code",
   "execution_count": 2,
   "metadata": {
    "tags": [
     "outputPrepend"
    ]
   },
   "outputs": [],
   "source": [
    "from math import sqrt\n",
    "\n",
    "score_list = []\n",
    "for k in range(1,10):\n",
    "    score_list_cv = []\n",
    "    for i in range(0,4):\n",
    "        train, val = split_region(i)\n",
    "        x_train = train.iloc[:,2:-1]\n",
    "        y_train = train.iloc[:, -1]\n",
    "        x_val = val.iloc[:,2:-1]\n",
    "        y_val = val.iloc[:,-1] \n",
    "    \n",
    "        neigh = KNN(k)\n",
    "        neigh.fit(x_train, y_train)\n",
    "        y_pred = neigh.predict(x_val)\n",
    "        score_list_cv.append(sqrt(metrics.mean_absolute_error(y_val,y_pred)))\n",
    "    score_list.append(min(score_list_cv))\n"
   ]
  },
  {
   "cell_type": "code",
   "execution_count": 3,
   "metadata": {},
   "outputs": [
    {
     "name": "stdout",
     "output_type": "stream",
     "text": [
      "5.131601439446884\n",
      "[5.131601439446884, 5.347896782848375, 5.780234520424852, 5.719119978924497, 5.708667873408724, 5.637013919259552, 5.855671514770008, 5.972157622389639, 5.993412021071219]\n"
     ]
    }
   ],
   "source": [
    "print(min(score_list))\n",
    "print(score_list)"
   ]
  },
  {
   "cell_type": "code",
   "execution_count": 4,
   "metadata": {},
   "outputs": [
    {
     "data": {
      "text/plain": [
       "[<matplotlib.lines.Line2D at 0x12d135fa0>]"
      ]
     },
     "execution_count": 4,
     "metadata": {},
     "output_type": "execute_result"
    },
    {
     "data": {
      "image/png": "[encoded data removed]",
      "text/plain": [
       "<Figure size 432x288 with 1 Axes>"
      ]
     },
     "metadata": {
      "needs_background": "light"
     },
     "output_type": "display_data"
    }
   ],
   "source": [
    "plt.plot(range(1,10),score_list)"
   ]
  },
  {
   "cell_type": "code",
   "execution_count": null,
   "metadata": {},
   "outputs": [],
   "source": []
  }
 ],
 "metadata": {
  "kernelspec": {
   "display_name": "Python 3",
   "language": "python",
   "name": "python3"
  },
  "language_info": {
   "codemirror_mode": {
    "name": "ipython",
    "version": 3
   },
   "file_extension": ".py",
   "mimetype": "text/x-python",
   "name": "python",
   "nbconvert_exporter": "python",
   "pygments_lexer": "ipython3",
   "version": "3.8.5"
  }
 },
 "nbformat": 4,
 "nbformat_minor": 2
}
