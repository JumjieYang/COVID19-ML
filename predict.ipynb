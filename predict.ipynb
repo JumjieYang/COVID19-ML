{
 "cells": [
  {
   "cell_type": "code",
   "execution_count": 1,
   "metadata": {},
   "outputs": [],
   "source": [
    "import numpy as np \n",
    "import pandas as pd \n",
    "from sklearn.neighbors import KNeighborsRegressor as KNN\n",
    "from sklearn.tree import DecisionTreeClassifier as DTC \n",
    "from sklearn import metrics\n",
    "import matplotlib.pyplot as plt\n",
    "df = pd.read_csv('result.csv')\n",
    "# cols_drop = []\n",
    "# for col in df.columns.values:\n",
    "#     if df[col].isnull().sum()/ 480.0 > 0.5:\n",
    "#         cols_drop.append(col)\n",
    "# df = df.drop(cols_drop, axis=1)\n",
    "# print(df)\n",
    "df = df.fillna(0)\n",
    "#print(df)\n",
    "region = df.region_name.unique()\n",
    "\n",
    "def split_region(i):\n",
    "    val_state = np.array([region[3*i], region[3*i+1], region[3*i+2]])\n",
    "    train = df.loc[~np.in1d(df['region_name'], val_state)]\n",
    "    val = df.loc[np.in1d(df['region_name'], val_state)]\n",
    "    return (train, val)\n",
    "\n",
    "time_train = df.loc[df['date'] < '2020-08-10']\n",
    "time_val = df.loc[df['date'] >= '2020-08-10']\n"
   ]
  },
  {
   "cell_type": "code",
   "execution_count": 2,
   "metadata": {
    "tags": [
     "outputPrepend"
    ]
   },
   "outputs": [],
   "source": [
    "from math import sqrt\n",
    "\n",
    "score_list = []\n",
    "for k in range(1,100):\n",
    "    score_list_cv = []\n",
    "    for i in range(0,4):\n",
    "        train, val = split_region(i)\n",
    "        x_train = train.iloc[:,2:-1]\n",
    "        y_train = train.iloc[:, -1]\n",
    "        x_val = val.iloc[:,2:-1]\n",
    "        y_val = val.iloc[:,-1] \n",
    "    \n",
    "        neigh = KNN(k)\n",
    "        neigh.fit(x_train, y_train)\n",
    "        y_pred = neigh.predict(x_val)\n",
    "        score_list_cv.append(sqrt(metrics.mean_absolute_error(y_val,y_pred)))\n",
    "    score_list.append(min(score_list_cv))\n"
   ]
  },
  {
   "cell_type": "code",
   "execution_count": 3,
   "metadata": {},
   "outputs": [
    {
     "name": "stdout",
     "output_type": "stream",
     "text": [
      "5.131601439446884\n",
      "[5.131601439446884, 5.347896782848375, 5.780234520424852, 5.719119978924497, 5.708667873408724, 5.637013919259552, 5.855671514770008, 5.972157622389639, 5.993412021071219, 6.102913693929774, 6.1461164547010885, 6.199163623395468, 6.285922407476926, 6.3500406197925905, 6.405842240862228, 6.458629025488992, 6.519453042537864, 6.548206803826449, 6.583027974263935, 6.590270606482458, 6.594891401121976, 6.631460067455932, 6.635179263948662, 6.649143637425132, 6.644998118886114, 6.5638546627868015, 6.496311077309084, 6.428143724749139, 6.404649891280948, 6.379916404885987, 6.3526022664381845, 6.362815152640116, 6.3446204578531535, 6.354351090219817, 6.335738891525384, 6.497411640391222, 6.546897117097676, 6.552174765072035, 6.5471552727304525, 6.534353661822856, 6.532906075294354, 6.51686862838102, 6.517378874223969, 6.507804172800157, 6.488679600886684, 6.454766429688665, 6.431159372516319, 6.413816105645455, 6.3935554287429275, 6.385904617027863, 6.397201185404126, 6.426075353156422, 6.421139093156975, 6.388196419799753, 6.35829212822742, 6.328020954954969, 6.299463141208653, 6.2748204474319085, 6.244425008849795, 6.2179251034885095, 6.192803861913531, 6.176321996545996, 6.1630119300049, 6.148975185616977, 6.1390023967539245, 6.124342883736651, 6.111634230587665, 6.098550668924372, 6.085673892929106, 6.079121177087548, 6.0706585432446944, 6.060662983739414, 6.053779779566026, 6.04137386677883, 6.033265806865822, 6.026428150846066, 6.018777735195529, 6.016359463710691, 6.011171035263418, 6.008477806862197, 5.997061466060623, 5.987419059316787, 5.98389180868484, 5.977216442635854, 5.971665120695022, 5.965599055671044, 5.961659107190282, 5.96293263894249, 5.960816708322127, 5.956757755940975, 5.953369881219623, 5.955268036898452, 5.954888156045882, 5.9532755153530506, 5.954034457054265, 5.951715438986198, 5.949154550231734, 5.947483699706679, 5.946318028160908]\n"
     ]
    }
   ],
   "source": [
    "print(min(score_list))\n",
    "print(score_list)"
   ]
  },
  {
   "cell_type": "code",
   "execution_count": 4,
   "metadata": {},
   "outputs": [
    {
     "data": {
      "text/plain": [
       "[<matplotlib.lines.Line2D at 0x12596b940>]"
      ]
     },
     "execution_count": 4,
     "metadata": {},
     "output_type": "execute_result"
    },
    {
     "data": {
      "image/png": "[encoded data removed]",
      "text/plain": [
       "<Figure size 432x288 with 1 Axes>"
      ]
     },
     "metadata": {
      "needs_background": "light"
     },
     "output_type": "display_data"
    }
   ],
   "source": [
    "plt.plot(range(1,100),score_list)"
   ]
  },
  {
   "cell_type": "code",
   "execution_count": null,
   "metadata": {},
   "outputs": [],
   "source": []
  }
 ],
 "metadata": {
  "kernelspec": {
   "display_name": "Python 3",
   "language": "python",
   "name": "python3"
  },
  "language_info": {
   "codemirror_mode": {
    "name": "ipython",
    "version": 3
   },
   "file_extension": ".py",
   "mimetype": "text/x-python",
   "name": "python",
   "nbconvert_exporter": "python",
   "pygments_lexer": "ipython3",
   "version": "3.8.5"
  }
 },
 "nbformat": 4,
 "nbformat_minor": 2
}
