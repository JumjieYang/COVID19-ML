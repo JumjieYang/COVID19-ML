{
 "metadata": {
  "language_info": {
   "codemirror_mode": {
    "name": "ipython",
    "version": 3
   },
   "file_extension": ".py",
   "mimetype": "text/x-python",
   "name": "python",
   "nbconvert_exporter": "python",
   "pygments_lexer": "ipython3",
   "version": "3.8.5-final"
  },
  "orig_nbformat": 2,
  "kernelspec": {
   "name": "Python 3.8.5 64-bit",
   "display_name": "Python 3.8.5 64-bit",
   "metadata": {
    "interpreter": {
     "hash": "082e9a3bcad0a290d0001e938aa60b99250c6c2ef33a923c00b70f9826caf4b7"
    }
   }
  }
 },
 "nbformat": 4,
 "nbformat_minor": 2,
 "cells": [
  {
   "cell_type": "code",
   "execution_count": 46,
   "metadata": {},
   "outputs": [],
   "source": [
    "import numpy as np \n",
    "import pandas as pd \n",
    "from sklearn.neighbors import KNeighborsClassifier as KNN \n",
    "from sklearn.tree import DecisionTreeClassifier as DTC \n",
    "from sklearn import metrics\n",
    "\n",
    "df = pd.read_csv('result.csv')\n",
    "df = df.fillna(0)\n",
    "region = df.region_name.unique()\n",
    "\n",
    "def split_region(i):\n",
    "    val_state = np.array([region[3*i], region[3*i+1], region[3*i+2]])\n",
    "    train = df.loc[~np.in1d(df['region_name'], val_state)]\n",
    "    val = df.loc[np.in1d(df['region_name'], val_state)]\n",
    "    return (train, val)\n",
    "\n",
    "time_train = df.loc[df['date'] < '2020-08-10']\n",
    "time_val = df.loc[df['date'] >= '2020-08-10']\n"
   ]
  },
  {
   "cell_type": "code",
   "execution_count": 75,
   "metadata": {},
   "outputs": [
    {
     "output_type": "error",
     "ename": "AttributeError",
     "evalue": "'list' object has no attribute 'max'",
     "traceback": [
      "\u001b[0;31m---------------------------------------------------------------------------\u001b[0m",
      "\u001b[0;31mAttributeError\u001b[0m                            Traceback (most recent call last)",
      "\u001b[0;32m<ipython-input-75-a3452d0ffd45>\u001b[0m in \u001b[0;36m<module>\u001b[0;34m\u001b[0m\n\u001b[1;32m     14\u001b[0m     \u001b[0mscore_list\u001b[0m\u001b[0;34m.\u001b[0m\u001b[0mappend\u001b[0m\u001b[0;34m(\u001b[0m\u001b[0mscore\u001b[0m\u001b[0;34m/\u001b[0m\u001b[0;36m5\u001b[0m\u001b[0;34m)\u001b[0m\u001b[0;34m\u001b[0m\u001b[0;34m\u001b[0m\u001b[0m\n\u001b[1;32m     15\u001b[0m \u001b[0;34m\u001b[0m\u001b[0m\n\u001b[0;32m---> 16\u001b[0;31m \u001b[0mprint\u001b[0m\u001b[0;34m(\u001b[0m\u001b[0mscore_list\u001b[0m\u001b[0;34m.\u001b[0m\u001b[0mmax\u001b[0m\u001b[0;34m(\u001b[0m\u001b[0;34m)\u001b[0m\u001b[0;34m)\u001b[0m\u001b[0;34m\u001b[0m\u001b[0;34m\u001b[0m\u001b[0m\n\u001b[0m\u001b[1;32m     17\u001b[0m \u001b[0;34m\u001b[0m\u001b[0m\n",
      "\u001b[0;31mAttributeError\u001b[0m: 'list' object has no attribute 'max'"
     ]
    }
   ],
   "source": [
    "\n",
    "score_list = []\n",
    "for k in range(1,200):\n",
    "    score = 0\n",
    "    for i in range(0,5):\n",
    "        train, val = split_region(i)\n",
    "        x_train = train.iloc[:,2:-1]\n",
    "        y_train = train.iloc[:, -1]\n",
    "        x_val = val.iloc[:,2:-1]\n",
    "        y_val = val.iloc[:,-1]\n",
    "        neigh = KNN(n_neighbors=k)\n",
    "        neigh.fit(x_train, y_train)\n",
    "        y_pred = neigh.predict(x_val)\n",
    "        score += metrics.accuracy_score(y_val, y_pred)\n",
    "    score_list.append(score/5)\n",
    "\n",
    "\n"
   ]
  },
  {
   "cell_type": "code",
   "execution_count": 76,
   "metadata": {},
   "outputs": [
    {
     "output_type": "stream",
     "name": "stdout",
     "text": [
      "0.42183150183150186\n"
     ]
    }
   ],
   "source": [
    "print(np.max(score_list))\n"
   ]
  },
  {
   "cell_type": "code",
   "execution_count": null,
   "metadata": {},
   "outputs": [],
   "source": []
  }
 ]
}